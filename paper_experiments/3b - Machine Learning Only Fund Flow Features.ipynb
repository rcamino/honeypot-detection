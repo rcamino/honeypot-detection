{
 "cells": [
  {
   "cell_type": "markdown",
   "metadata": {},
   "source": [
    "# Machine Learning (Only Fund Flow Features)"
   ]
  },
  {
   "cell_type": "markdown",
   "metadata": {},
   "source": [
    "## Modules and functions"
   ]
  },
  {
   "cell_type": "markdown",
   "metadata": {},
   "source": [
    "Import all the modules:"
   ]
  },
  {
   "cell_type": "code",
   "execution_count": 1,
   "metadata": {},
   "outputs": [],
   "source": [
    "import pandas as pd\n",
    "\n",
    "from xgboost import XGBClassifier\n",
    "\n",
    "import matplotlib.pyplot as plt\n",
    "%matplotlib inline\n",
    "\n",
    "plt.style.use(\"ggplot\")\n",
    "\n",
    "from notebooks import *"
   ]
  },
  {
   "cell_type": "markdown",
   "metadata": {},
   "source": [
    "## Loading"
   ]
  },
  {
   "cell_type": "code",
   "execution_count": 2,
   "metadata": {},
   "outputs": [],
   "source": [
    "df_file_path = \"dataset-filtered.csv\"\n",
    "df = pd.read_csv(df_file_path, low_memory=False)"
   ]
  },
  {
   "cell_type": "code",
   "execution_count": 3,
   "metadata": {},
   "outputs": [
    {
     "name": "stdout",
     "output_type": "stream",
     "text": [
      "The dataset has 158863 rows and 434 columns\n"
     ]
    }
   ],
   "source": [
    "print_dimensions(df)"
   ]
  },
  {
   "cell_type": "markdown",
   "metadata": {},
   "source": [
    "## Prepare data"
   ]
  },
  {
   "cell_type": "code",
   "execution_count": 4,
   "metadata": {
    "scrolled": false
   },
   "outputs": [
    {
     "name": "stdout",
     "output_type": "stream",
     "text": [
      "Extracted values:\n",
      "addresses (158863,)\n",
      "features (158863, 73)\n",
      "labels_binary (158863,)\n",
      "labels_multi (158863,)\n"
     ]
    }
   ],
   "source": [
    "addresses, X, y_binary, y_multi, scaler, feature_names = extract_experiment_data(df, [\"fund flow\"])"
   ]
  },
  {
   "cell_type": "code",
   "execution_count": 5,
   "metadata": {
    "scrolled": true
   },
   "outputs": [
    {
     "name": "stdout",
     "output_type": "stream",
     "text": [
      "symbol_22\n",
      "symbol_33\n",
      "symbol_39\n",
      "symbol_41\n",
      "symbol_43\n",
      "symbol_49\n",
      "symbol_51\n",
      "symbol_53\n",
      "symbol_54\n",
      "symbol_55\n",
      "symbol_57\n",
      "symbol_59\n",
      "symbol_61\n",
      "symbol_62\n",
      "symbol_63\n",
      "symbol_65\n",
      "symbol_66\n",
      "symbol_67\n",
      "symbol_69\n",
      "symbol_71\n",
      "symbol_73\n",
      "symbol_75\n",
      "symbol_76\n",
      "symbol_77\n",
      "symbol_78\n",
      "symbol_79\n",
      "symbol_81\n",
      "symbol_82\n",
      "symbol_83\n",
      "symbol_85\n",
      "symbol_86\n",
      "symbol_87\n",
      "symbol_93\n",
      "symbol_95\n",
      "symbol_103\n",
      "symbol_105\n",
      "symbol_113\n",
      "symbol_121\n",
      "symbol_122\n",
      "symbol_123\n",
      "symbol_127\n",
      "symbol_129\n",
      "symbol_133\n",
      "symbol_135\n",
      "symbol_137\n",
      "symbol_171\n",
      "symbol_173\n",
      "symbol_177\n",
      "symbol_179\n",
      "symbol_181\n",
      "symbol_183\n",
      "symbol_185\n",
      "symbol_187\n",
      "symbol_189\n",
      "symbol_191\n",
      "symbol_193\n",
      "symbol_194\n",
      "symbol_195\n",
      "symbol_197\n",
      "symbol_198\n",
      "symbol_199\n",
      "symbol_201\n",
      "symbol_202\n",
      "symbol_203\n",
      "symbol_204\n",
      "symbol_205\n",
      "symbol_207\n",
      "symbol_208\n",
      "symbol_209\n",
      "symbol_211\n",
      "symbol_213\n",
      "symbol_214\n",
      "symbol_215\n"
     ]
    }
   ],
   "source": [
    "for feature_name in feature_names:\n",
    "    print(feature_name)"
   ]
  },
  {
   "cell_type": "markdown",
   "metadata": {},
   "source": [
    "## Classification"
   ]
  },
  {
   "cell_type": "code",
   "execution_count": 6,
   "metadata": {},
   "outputs": [],
   "source": [
    "xgb_scale_pos_weight = compute_scale_pos_weight(y_binary)"
   ]
  },
  {
   "cell_type": "code",
   "execution_count": 7,
   "metadata": {},
   "outputs": [],
   "source": [
    "def create_xgb_model():\n",
    "    return XGBClassifier(n_jobs=10,\n",
    "                         scale_pos_weight=xgb_scale_pos_weight,\n",
    "                         n_estimators=25,\n",
    "                         max_depth=3)"
   ]
  },
  {
   "cell_type": "code",
   "execution_count": 8,
   "metadata": {},
   "outputs": [
    {
     "name": "stdout",
     "output_type": "stream",
     "text": [
      "train ROC AUC 0.954 TN  137821 FP  4895 FN    15 TP   245\n",
      "test  ROC AUC 0.924 TN  15256 FP   596 FN     4 TP    31\n",
      "train score - test score = 0.030\n",
      "\n",
      "train ROC AUC 0.950 TN  137160 FP  5552 FN    16 TP   248\n",
      "test  ROC AUC 0.948 TN  15244 FP   612 FN     2 TP    29\n",
      "train score - test score = 0.002\n",
      "\n",
      "train ROC AUC 0.953 TN  137508 FP  5206 FN    15 TP   247\n",
      "test  ROC AUC 0.936 TN  15268 FP   586 FN     3 TP    30\n",
      "train score - test score = 0.017\n",
      "\n",
      "train ROC AUC 0.954 TN  137137 FP  5576 FN    14 TP   250\n",
      "test  ROC AUC 0.931 TN  15209 FP   646 FN     3 TP    28\n",
      "train score - test score = 0.023\n",
      "\n",
      "train ROC AUC 0.951 TN  138504 FP  4212 FN    18 TP   243\n",
      "test  ROC AUC 0.928 TN  15434 FP   418 FN     4 TP    30\n",
      "train score - test score = 0.023\n",
      "\n",
      "train ROC AUC 0.952 TN  137491 FP  5219 FN    16 TP   251\n",
      "test  ROC AUC 0.947 TN  15297 FP   561 FN     2 TP    26\n",
      "train score - test score = 0.005\n",
      "\n",
      "train ROC AUC 0.949 TN  138545 FP  4170 FN    19 TP   243\n",
      "test  ROC AUC 0.925 TN  15410 FP   443 FN     4 TP    29\n",
      "train score - test score = 0.024\n",
      "\n",
      "train ROC AUC 0.956 TN  137407 FP  5291 FN    14 TP   265\n",
      "test  ROC AUC 0.888 TN  15288 FP   582 FN     3 TP    13\n",
      "train score - test score = 0.068\n",
      "\n",
      "train ROC AUC 0.949 TN  137696 FP  5010 FN    18 TP   253\n",
      "test  ROC AUC 0.982 TN  15296 FP   566 FN     0 TP    24\n",
      "train score - test score = -0.033\n",
      "\n",
      "train ROC AUC 0.950 TN  137464 FP  5248 FN    17 TP   248\n",
      "test  ROC AUC 0.948 TN  15255 FP   601 FN     2 TP    28\n",
      "train score - test score = 0.002\n",
      "\n",
      "train: 0.952 +- 0.002 test: 0.936 +- 0.023\n",
      "\n"
     ]
    }
   ],
   "source": [
    "xgb_models = train_test_folds(X,\n",
    "                              y_binary,\n",
    "                              k_fold(X, n_splits=10),\n",
    "                              create_xgb_model)"
   ]
  },
  {
   "cell_type": "code",
   "execution_count": 9,
   "metadata": {},
   "outputs": [],
   "source": [
    "feature_importance = compute_average_feature_importance(X, xgb_models)"
   ]
  },
  {
   "cell_type": "code",
   "execution_count": 10,
   "metadata": {},
   "outputs": [
    {
     "data": {
      "text/html": [
       "<div>\n",
       "<style scoped>\n",
       "    .dataframe tbody tr th:only-of-type {\n",
       "        vertical-align: middle;\n",
       "    }\n",
       "\n",
       "    .dataframe tbody tr th {\n",
       "        vertical-align: top;\n",
       "    }\n",
       "\n",
       "    .dataframe thead th {\n",
       "        text-align: right;\n",
       "    }\n",
       "</style>\n",
       "<table border=\"1\" class=\"dataframe\">\n",
       "  <thead>\n",
       "    <tr style=\"text-align: right;\">\n",
       "      <th></th>\n",
       "      <th>Feature</th>\n",
       "      <th>Importance</th>\n",
       "    </tr>\n",
       "  </thead>\n",
       "  <tbody>\n",
       "    <tr>\n",
       "      <th>0</th>\n",
       "      <td>symbol_83</td>\n",
       "      <td>0.797042</td>\n",
       "    </tr>\n",
       "    <tr>\n",
       "      <th>1</th>\n",
       "      <td>symbol_201</td>\n",
       "      <td>0.036533</td>\n",
       "    </tr>\n",
       "    <tr>\n",
       "      <th>2</th>\n",
       "      <td>symbol_79</td>\n",
       "      <td>0.031031</td>\n",
       "    </tr>\n",
       "    <tr>\n",
       "      <th>3</th>\n",
       "      <td>symbol_39</td>\n",
       "      <td>0.027004</td>\n",
       "    </tr>\n",
       "    <tr>\n",
       "      <th>4</th>\n",
       "      <td>symbol_73</td>\n",
       "      <td>0.023639</td>\n",
       "    </tr>\n",
       "    <tr>\n",
       "      <th>5</th>\n",
       "      <td>symbol_205</td>\n",
       "      <td>0.015515</td>\n",
       "    </tr>\n",
       "    <tr>\n",
       "      <th>6</th>\n",
       "      <td>symbol_33</td>\n",
       "      <td>0.015306</td>\n",
       "    </tr>\n",
       "    <tr>\n",
       "      <th>7</th>\n",
       "      <td>symbol_213</td>\n",
       "      <td>0.010379</td>\n",
       "    </tr>\n",
       "    <tr>\n",
       "      <th>8</th>\n",
       "      <td>symbol_77</td>\n",
       "      <td>0.010184</td>\n",
       "    </tr>\n",
       "    <tr>\n",
       "      <th>9</th>\n",
       "      <td>symbol_173</td>\n",
       "      <td>0.008347</td>\n",
       "    </tr>\n",
       "  </tbody>\n",
       "</table>\n",
       "</div>"
      ],
      "text/plain": [
       "      Feature  Importance\n",
       "0   symbol_83    0.797042\n",
       "1  symbol_201    0.036533\n",
       "2   symbol_79    0.031031\n",
       "3   symbol_39    0.027004\n",
       "4   symbol_73    0.023639\n",
       "5  symbol_205    0.015515\n",
       "6   symbol_33    0.015306\n",
       "7  symbol_213    0.010379\n",
       "8   symbol_77    0.010184\n",
       "9  symbol_173    0.008347"
      ]
     },
     "metadata": {},
     "output_type": "display_data"
    }
   ],
   "source": [
    "display(create_feature_importance_table(feature_names, feature_importance, size=10))"
   ]
  },
  {
   "cell_type": "code",
   "execution_count": 11,
   "metadata": {},
   "outputs": [
    {
     "data": {
      "image/png": "[encoded data removed]",
      "text/plain": [
       "<Figure size 720x720 with 1 Axes>"
      ]
     },
     "metadata": {},
     "output_type": "display_data"
    }
   ],
   "source": [
    "plot_feature_importance(feature_names, feature_importance)"
   ]
  }
 ],
 "metadata": {
  "kernelspec": {
   "display_name": "Python 3",
   "language": "python",
   "name": "python3"
  },
  "language_info": {
   "codemirror_mode": {
    "name": "ipython",
    "version": 3
   },
   "file_extension": ".py",
   "mimetype": "text/x-python",
   "name": "python",
   "nbconvert_exporter": "python",
   "pygments_lexer": "ipython3",
   "version": "3.6.8"
  }
 },
 "nbformat": 4,
 "nbformat_minor": 2
}
