{
 "cells": [
  {
   "cell_type": "markdown",
   "metadata": {},
   "source": [
    "# Exploratory Analysis and Additional Pre-Processing"
   ]
  },
  {
   "cell_type": "markdown",
   "metadata": {},
   "source": [
    "## Modules and functions"
   ]
  },
  {
   "cell_type": "markdown",
   "metadata": {},
   "source": [
    "Import all the modules:"
   ]
  },
  {
   "cell_type": "code",
   "execution_count": 1,
   "metadata": {},
   "outputs": [],
   "source": [
    "import pandas as pd\n",
    "\n",
    "import matplotlib.pyplot as plt\n",
    "%matplotlib inline\n",
    "\n",
    "plt.style.use(\"ggplot\")\n",
    "\n",
    "from IPython.display import display, HTML\n",
    "\n",
    "from notebooks import *"
   ]
  },
  {
   "cell_type": "markdown",
   "metadata": {},
   "source": [
    "Define some functions that will be used afterwards **(you should skip this part for now)**:"
   ]
  },
  {
   "cell_type": "code",
   "execution_count": 2,
   "metadata": {},
   "outputs": [],
   "source": [
    "def display_na_table(target):\n",
    "    \"\"\"\n",
    "    Display a table with the count and the percentage of missing values per column.\n",
    "    \n",
    "    Arguments:\n",
    "    target -- the pandas dataframe from which the frequencies are calculated\n",
    "    \"\"\"\n",
    "    df_na = target.isna().sum()\n",
    "    df_na = df_na[df_na > 0]\n",
    "    df_na_t = pd.DataFrame([df_na, df_na / len(target) * 100]).transpose()\n",
    "    df_na_t.columns = [\"count\", \"percent\"]\n",
    "    display(df_na_t)"
   ]
  },
  {
   "cell_type": "code",
   "execution_count": 3,
   "metadata": {},
   "outputs": [],
   "source": [
    "def na_row_matches_by_column(target, columns):\n",
    "    \"\"\"\n",
    "    Take every pair of column and check if the rows with missing values match.\n",
    "    \n",
    "    Arguments:\n",
    "    target -- the pandas dataframe from which the missing values are counted\n",
    "    columns -- list of column names to match\n",
    "    \"\"\"\n",
    "    non_matches = []\n",
    "    for i, column_i in enumerate(columns):\n",
    "        for j, column_j in enumerate(columns[i + 1:], start=1 + 1):\n",
    "            if any(target[column_i].isna() != target[column_j].isna()):\n",
    "                non_matches.append((column_i, column_j))\n",
    "                \n",
    "    if len(non_matches) > 0:\n",
    "        print(\"Non matching columns found!\")\n",
    "        for column_i, column_j in non_matches:\n",
    "            print(column_i, \"and\", column_j)\n",
    "    else:\n",
    "        print(\"All columns match.\")"
   ]
  },
  {
   "cell_type": "code",
   "execution_count": 4,
   "metadata": {},
   "outputs": [],
   "source": [
    "def add_ratio_column(target, numerator_column, denominator_column, ratio_column, fillna=False):\n",
    "    \"\"\"\n",
    "    Adds a column resulting from the divition of two columns.\n",
    "    \n",
    "    Arguments:\n",
    "    target -- the pandas dataframe to compute from and add to the new column\n",
    "    numerator_column -- the column used as the numerator for the division\n",
    "    denominator_column -- the column used as the denominator for the division\n",
    "    ratio_column -- name of the new column to be added\n",
    "    fillna -- True in case the missing values should be filled with zeros\n",
    "    \"\"\"\n",
    "    target[ratio_column] = target[numerator_column] / target[denominator_column]\n",
    "    \n",
    "    if fillna:\n",
    "        target[ratio_column] = target[ratio_column].fillna(0)"
   ]
  },
  {
   "cell_type": "code",
   "execution_count": 5,
   "metadata": {},
   "outputs": [],
   "source": [
    "def categorical_counts(target_positive, target_negative, dictionary, column_prefix, limit=10, value_len_limit=30):\n",
    "    \"\"\"\n",
    "    Display a table with the contract count per value of a categorical variable.\n",
    "    \n",
    "    Arguments:\n",
    "    target_positive -- the pandas dataframe from which the positive counts are computed\n",
    "    target_negative -- the pandas dataframe from which the negative counts are computed\n",
    "    dictionary -- value definition of the categorical variable\n",
    "    column_prefix -- column prefix of the categorical variable in the dataframes\n",
    "    limit -- maximum amount of rows to show\n",
    "    value_len_limit -- maximum amount of value characters to show\n",
    "    \"\"\"\n",
    "    items = []\n",
    "    for id_, value in enumerate(dictionary[\"index_to_name\"]):\n",
    "        column = column_prefix + str(id_)\n",
    "        positive_count = target_positive[column].sum()\n",
    "        items.append((id_, value, positive_count))\n",
    "        \n",
    "    items = sorted(items, key=lambda item: item[2], reverse=True)[:limit]\n",
    "\n",
    "    ids, values, positive_counts = zip(*items)\n",
    "    \n",
    "    short_values = []\n",
    "    for value in values:\n",
    "        if len(value) > value_len_limit + 3:\n",
    "            value = value[:(value_len_limit - 3)] + \"...\"\n",
    "        short_values.append(value)\n",
    "    \n",
    "    total_counts = []\n",
    "    negative_counts = []\n",
    "    for id_, _, positive_count in items:\n",
    "        column = column_prefix + str(id_)\n",
    "        negative_count = target_negative[column].sum()\n",
    "        negative_counts.append(negative_count)\n",
    "        \n",
    "        total_counts.append(positive_count + negative_count)\n",
    "\n",
    "    df_counts = pd.DataFrame({\n",
    "        \"Value\": short_values,\n",
    "        \"Honeypot\": positive_counts,\n",
    "        \"Non-Honeypot\": negative_counts,\n",
    "        \"Total\": total_counts\n",
    "    })\n",
    "    \n",
    "    display(HTML(df_counts.to_html(index=False)))"
   ]
  },
  {
   "cell_type": "markdown",
   "metadata": {},
   "source": [
    "## Loading"
   ]
  },
  {
   "cell_type": "markdown",
   "metadata": {},
   "source": [
    "Load all the dictionaries:"
   ]
  },
  {
   "cell_type": "code",
   "execution_count": 6,
   "metadata": {},
   "outputs": [],
   "source": [
    "honey_badger_labels = load_dictionary(\"honey_badger_labels.pickle\")\n",
    "contract_compiler_major_versions = load_dictionary(\"contract_compiler_major_versions.pickle\")\n",
    "contract_compiler_minor_versions = load_dictionary(\"contract_compiler_minor_versions.pickle\")\n",
    "contract_compiler_patch_versions = load_dictionary(\"contract_compiler_patch_versions.pickle\")\n",
    "contract_libraries = load_dictionary(\"contract_libraries.pickle\")\n",
    "fund_flow_cases = load_dictionary(\"fund_flow_cases.pickle\")"
   ]
  },
  {
   "cell_type": "code",
   "execution_count": 7,
   "metadata": {},
   "outputs": [
    {
     "data": {
      "text/plain": [
       "dict_keys(['index_to_name', 'name_to_index'])"
      ]
     },
     "execution_count": 7,
     "metadata": {},
     "output_type": "execute_result"
    }
   ],
   "source": [
    "fund_flow_cases.keys()"
   ]
  },
  {
   "cell_type": "markdown",
   "metadata": {},
   "source": [
    "Load the dataset:"
   ]
  },
  {
   "cell_type": "code",
   "execution_count": 8,
   "metadata": {},
   "outputs": [],
   "source": [
    "df_file_path = \"dataset.csv\"\n",
    "df = pd.read_csv(df_file_path, low_memory=False)"
   ]
  },
  {
   "cell_type": "markdown",
   "metadata": {},
   "source": [
    "Dataset dimensions:"
   ]
  },
  {
   "cell_type": "code",
   "execution_count": 9,
   "metadata": {},
   "outputs": [
    {
     "name": "stdout",
     "output_type": "stream",
     "text": [
      "The dataset has 2019434 rows and 290 columns\n"
     ]
    }
   ],
   "source": [
    "print_dimensions(df)"
   ]
  },
  {
   "cell_type": "markdown",
   "metadata": {},
   "source": [
    "List all the columns:"
   ]
  },
  {
   "cell_type": "code",
   "execution_count": 10,
   "metadata": {},
   "outputs": [
    {
     "name": "stdout",
     "output_type": "stream",
     "text": [
      "contract_address\n",
      "contract_has_source_code\n",
      "contract_has_byte_code\n",
      "contract_has_money_flow\n",
      "contract_compiler_runs\n",
      "contract_num_source_code_lines\n",
      "contract_label_index\n",
      "contract_compiler_major_version_index\n",
      "contract_compiler_minor_version_index\n",
      "contract_compiler_patch_index\n",
      "contract_library_index\n",
      "normal_transaction_count\n",
      "normal_transaction_block_count\n",
      "normal_transaction_before_creation_count\n",
      "normal_transaction_from_other_count\n",
      "normal_transaction_other_sender_count\n",
      "normal_transaction_first_block\n",
      "normal_transaction_last_block\n",
      "normal_transaction_block_span\n",
      "normal_transaction_count_per_block_mean\n",
      "normal_transaction_count_per_block_std\n",
      "normal_transaction_value_mean\n",
      "normal_transaction_value_std\n",
      "normal_transaction_gas_mean\n",
      "normal_transaction_gas_std\n",
      "normal_transaction_gas_used_mean\n",
      "normal_transaction_gas_used_std\n",
      "normal_transaction_time_delta_mean\n",
      "normal_transaction_time_delta_std\n",
      "normal_transaction_block_delta_mean\n",
      "normal_transaction_block_delta_std\n",
      "internal_transaction_count\n",
      "internal_transaction_block_count\n",
      "internal_transaction_creation_count\n",
      "internal_transaction_from_other_count\n",
      "internal_transaction_other_sender_count\n",
      "internal_transaction_to_other_count\n",
      "internal_transaction_other_receiver_count\n",
      "internal_transaction_count_per_block_mean\n",
      "internal_transaction_count_per_block_std\n",
      "internal_transaction_value_mean\n",
      "internal_transaction_value_std\n",
      "internal_transaction_gas_mean\n",
      "internal_transaction_gas_std\n",
      "internal_transaction_gas_used_mean\n",
      "internal_transaction_gas_used_std\n",
      "symbol_0\n",
      "symbol_1\n",
      "symbol_2\n",
      "symbol_3\n",
      "symbol_4\n",
      "symbol_5\n",
      "symbol_6\n",
      "symbol_7\n",
      "symbol_8\n",
      "symbol_9\n",
      "symbol_10\n",
      "symbol_11\n",
      "symbol_12\n",
      "symbol_13\n",
      "symbol_14\n",
      "symbol_15\n",
      "symbol_16\n",
      "symbol_17\n",
      "symbol_18\n",
      "symbol_19\n",
      "symbol_20\n",
      "symbol_21\n",
      "symbol_22\n",
      "symbol_23\n",
      "symbol_24\n",
      "symbol_25\n",
      "symbol_26\n",
      "symbol_27\n",
      "symbol_28\n",
      "symbol_29\n",
      "symbol_30\n",
      "symbol_31\n",
      "symbol_32\n",
      "symbol_33\n",
      "symbol_34\n",
      "symbol_35\n",
      "symbol_36\n",
      "symbol_37\n",
      "symbol_38\n",
      "symbol_39\n",
      "symbol_40\n",
      "symbol_41\n",
      "symbol_42\n",
      "symbol_43\n",
      "symbol_44\n",
      "symbol_45\n",
      "symbol_46\n",
      "symbol_47\n",
      "symbol_48\n",
      "symbol_49\n",
      "symbol_50\n",
      "symbol_51\n",
      "symbol_52\n",
      "symbol_53\n",
      "symbol_54\n",
      "symbol_55\n",
      "symbol_56\n",
      "symbol_57\n",
      "symbol_58\n",
      "symbol_59\n",
      "symbol_60\n",
      "symbol_61\n",
      "symbol_62\n",
      "symbol_63\n",
      "symbol_64\n",
      "symbol_65\n",
      "symbol_66\n",
      "symbol_67\n",
      "symbol_68\n",
      "symbol_69\n",
      "symbol_70\n",
      "symbol_71\n",
      "symbol_72\n",
      "symbol_73\n",
      "symbol_74\n",
      "symbol_75\n",
      "symbol_76\n",
      "symbol_77\n",
      "symbol_78\n",
      "symbol_79\n",
      "symbol_80\n",
      "symbol_81\n",
      "symbol_82\n",
      "symbol_83\n",
      "symbol_84\n",
      "symbol_85\n",
      "symbol_86\n",
      "symbol_87\n",
      "symbol_88\n",
      "symbol_89\n",
      "symbol_90\n",
      "symbol_91\n",
      "symbol_92\n",
      "symbol_93\n",
      "symbol_94\n",
      "symbol_95\n",
      "symbol_96\n",
      "symbol_97\n",
      "symbol_98\n",
      "symbol_99\n",
      "symbol_100\n",
      "symbol_101\n",
      "symbol_102\n",
      "symbol_103\n",
      "symbol_104\n",
      "symbol_105\n",
      "symbol_106\n",
      "symbol_107\n",
      "symbol_108\n",
      "symbol_109\n",
      "symbol_110\n",
      "symbol_111\n",
      "symbol_112\n",
      "symbol_113\n",
      "symbol_114\n",
      "symbol_115\n",
      "symbol_116\n",
      "symbol_117\n",
      "symbol_118\n",
      "symbol_119\n",
      "symbol_120\n",
      "symbol_121\n",
      "symbol_122\n",
      "symbol_123\n",
      "symbol_124\n",
      "symbol_125\n",
      "symbol_126\n",
      "symbol_127\n",
      "symbol_128\n",
      "symbol_129\n",
      "symbol_130\n",
      "symbol_131\n",
      "symbol_132\n",
      "symbol_133\n",
      "symbol_134\n",
      "symbol_135\n",
      "symbol_136\n",
      "symbol_137\n",
      "symbol_138\n",
      "symbol_139\n",
      "symbol_140\n",
      "symbol_141\n",
      "symbol_142\n",
      "symbol_143\n",
      "symbol_144\n",
      "symbol_145\n",
      "symbol_146\n",
      "symbol_147\n",
      "symbol_148\n",
      "symbol_149\n",
      "symbol_150\n",
      "symbol_151\n",
      "symbol_152\n",
      "symbol_153\n",
      "symbol_154\n",
      "symbol_155\n",
      "symbol_156\n",
      "symbol_157\n",
      "symbol_158\n",
      "symbol_159\n",
      "symbol_160\n",
      "symbol_161\n",
      "symbol_162\n",
      "symbol_163\n",
      "symbol_164\n",
      "symbol_165\n",
      "symbol_166\n",
      "symbol_167\n",
      "symbol_168\n",
      "symbol_169\n",
      "symbol_170\n",
      "symbol_171\n",
      "symbol_172\n",
      "symbol_173\n",
      "symbol_174\n",
      "symbol_175\n",
      "symbol_176\n",
      "symbol_177\n",
      "symbol_178\n",
      "symbol_179\n",
      "symbol_180\n",
      "symbol_181\n",
      "symbol_182\n",
      "symbol_183\n",
      "symbol_184\n",
      "symbol_185\n",
      "symbol_186\n",
      "symbol_187\n",
      "symbol_188\n",
      "symbol_189\n",
      "symbol_190\n",
      "symbol_191\n",
      "symbol_192\n",
      "symbol_193\n",
      "symbol_194\n",
      "symbol_195\n",
      "symbol_196\n",
      "symbol_197\n",
      "symbol_198\n",
      "symbol_199\n",
      "symbol_200\n",
      "symbol_201\n",
      "symbol_202\n",
      "symbol_203\n",
      "symbol_204\n",
      "symbol_205\n",
      "symbol_206\n",
      "symbol_207\n",
      "symbol_208\n",
      "symbol_209\n",
      "symbol_210\n",
      "symbol_211\n",
      "symbol_212\n",
      "symbol_213\n",
      "symbol_214\n",
      "symbol_215\n",
      "symbol_216\n",
      "symbol_217\n",
      "symbol_218\n",
      "symbol_219\n",
      "symbol_220\n",
      "symbol_221\n",
      "symbol_222\n",
      "symbol_223\n",
      "symbol_224\n",
      "symbol_225\n",
      "symbol_226\n",
      "symbol_227\n",
      "symbol_228\n",
      "symbol_229\n",
      "symbol_230\n",
      "symbol_231\n",
      "symbol_232\n",
      "symbol_233\n",
      "symbol_234\n",
      "symbol_235\n",
      "symbol_236\n",
      "symbol_237\n",
      "symbol_238\n",
      "symbol_239\n",
      "symbol_240\n",
      "symbol_241\n",
      "symbol_242\n",
      "symbol_243\n"
     ]
    }
   ],
   "source": [
    "for column in df.columns:\n",
    "    print(column)"
   ]
  },
  {
   "cell_type": "markdown",
   "metadata": {},
   "source": [
    "## Check that all contracts have creation transaction"
   ]
  },
  {
   "cell_type": "code",
   "execution_count": 11,
   "metadata": {
    "scrolled": false
   },
   "outputs": [
    {
     "name": "stdout",
     "output_type": "stream",
     "text": [
      "True    2019434\n",
      "dtype: int64\n"
     ]
    }
   ],
   "source": [
    "has_creation = fund_flow_case_columns_accumulated_frequency(fund_flow_cases, df, creation=True) > 0\n",
    "print(has_creation.value_counts())"
   ]
  },
  {
   "cell_type": "markdown",
   "metadata": {},
   "source": [
    "## Labels"
   ]
  },
  {
   "cell_type": "markdown",
   "metadata": {},
   "source": [
    "Create binary label:"
   ]
  },
  {
   "cell_type": "code",
   "execution_count": 12,
   "metadata": {},
   "outputs": [],
   "source": [
    "df[\"contract_is_honeypot\"] = (df.contract_label_index > 0)"
   ]
  },
  {
   "cell_type": "code",
   "execution_count": 13,
   "metadata": {},
   "outputs": [
    {
     "data": {
      "text/plain": [
       "False    2019139\n",
       "True         295\n",
       "Name: contract_is_honeypot, dtype: int64"
      ]
     },
     "execution_count": 13,
     "metadata": {},
     "output_type": "execute_result"
    }
   ],
   "source": [
    "df.contract_is_honeypot.value_counts()"
   ]
  },
  {
   "cell_type": "markdown",
   "metadata": {},
   "source": [
    "Label distribution (only for honeypot contracts):"
   ]
  },
  {
   "cell_type": "code",
   "execution_count": 14,
   "metadata": {},
   "outputs": [
    {
     "data": {
      "text/plain": [
       "2    135\n",
       "4     43\n",
       "8     39\n",
       "6     31\n",
       "1     20\n",
       "3     13\n",
       "5     10\n",
       "7      4\n",
       "Name: contract_label_index, dtype: int64"
      ]
     },
     "execution_count": 14,
     "metadata": {},
     "output_type": "execute_result"
    }
   ],
   "source": [
    "honeypot_value_counts = df.contract_label_index[df.contract_is_honeypot].value_counts()\n",
    "honeypot_value_counts"
   ]
  },
  {
   "cell_type": "markdown",
   "metadata": {},
   "source": [
    "Define a color by honeypot type for the plots:"
   ]
  },
  {
   "cell_type": "code",
   "execution_count": 15,
   "metadata": {},
   "outputs": [],
   "source": [
    "honeypot_colors_by_frequency = plt.get_cmap(\"Set2\").colors[:len(honeypot_value_counts)]\n",
    "\n",
    "honeypot_color_by_label_index = {}\n",
    "for (label_index, label_count), color in zip(honeypot_value_counts.iteritems(), honeypot_colors_by_frequency):\n",
    "    honeypot_color_by_label_index[label_index] = color"
   ]
  },
  {
   "cell_type": "markdown",
   "metadata": {},
   "source": [
    "Plot honeypot label (technique) distribution:"
   ]
  },
  {
   "cell_type": "code",
   "execution_count": 16,
   "metadata": {},
   "outputs": [
    {
     "data": {
      "image/png": "[encoded data removed]",
      "text/plain": [
       "<Figure size 432x432 with 1 Axes>"
      ]
     },
     "metadata": {},
     "output_type": "display_data"
    }
   ],
   "source": [
    "fig = plt.figure(figsize=(6, 6))\n",
    "ax = fig.add_subplot(1,1,1)\n",
    "fig.set_tight_layout(True)\n",
    "honeypot_value_counts.plot.bar(alpha=0.9, color=honeypot_colors_by_frequency)\n",
    "plt.xticks(range(len(honeypot_value_counts)),\n",
    "          [honey_badger_labels[\"index_to_name\"][label_index] for label_index in honeypot_value_counts.keys()])\n",
    "\n",
    "plt.title(\"Honeypot Technique Distribution\")\n",
    "plt.xlabel(\"Honeypot Technique\")\n",
    "plt.ylabel(\"Count\")\n",
    "plt.show()"
   ]
  },
  {
   "cell_type": "markdown",
   "metadata": {},
   "source": [
    "## Drop unused fund flow columns"
   ]
  },
  {
   "cell_type": "code",
   "execution_count": 17,
   "metadata": {},
   "outputs": [
    {
     "name": "stdout",
     "output_type": "stream",
     "text": [
      "Number of non fund flow case columns: 47\n"
     ]
    }
   ],
   "source": [
    "non_fund_flow_columns = [column for column in df.columns\n",
    "                         if not column.startswith(\"symbol_\")]\n",
    "\n",
    "print(\"Number of non fund flow case columns:\", len(non_fund_flow_columns))"
   ]
  },
  {
   "cell_type": "code",
   "execution_count": 18,
   "metadata": {},
   "outputs": [
    {
     "name": "stdout",
     "output_type": "stream",
     "text": [
      "Number of fund flow case columns: 244\n"
     ]
    }
   ],
   "source": [
    "print(\"Number of fund flow case columns:\", len(fund_flow_cases[\"index_to_name\"]))"
   ]
  },
  {
   "cell_type": "code",
   "execution_count": 19,
   "metadata": {},
   "outputs": [
    {
     "name": "stdout",
     "output_type": "stream",
     "text": [
      "Number of used fund flow case columns: 141\n"
     ]
    }
   ],
   "source": [
    "fund_flow_case_columns = []\n",
    "for fund_flow_case_column in fund_flow_case_columns_with_fixed_values(fund_flow_cases):\n",
    "    if df[fund_flow_case_column].sum() > 0:\n",
    "        fund_flow_case_columns.append(fund_flow_case_column)\n",
    "        \n",
    "print(\"Number of used fund flow case columns:\", len(fund_flow_case_columns))"
   ]
  },
  {
   "cell_type": "code",
   "execution_count": 20,
   "metadata": {},
   "outputs": [
    {
     "name": "stdout",
     "output_type": "stream",
     "text": [
      "Number of unused fund flow case columns: 103\n"
     ]
    }
   ],
   "source": [
    "print(\"Number of unused fund flow case columns:\",\n",
    "      len(fund_flow_cases[\"index_to_name\"]) - len(fund_flow_case_columns))"
   ]
  },
  {
   "cell_type": "code",
   "execution_count": 21,
   "metadata": {},
   "outputs": [
    {
     "name": "stdout",
     "output_type": "stream",
     "text": [
      "The dataset has 2019434 rows and 188 columns after removing unused fund flow case columns\n"
     ]
    }
   ],
   "source": [
    "df = df[non_fund_flow_columns + fund_flow_case_columns]\n",
    "\n",
    "print(\"The dataset has {:d} rows and {:d} columns after removing unused fund flow case columns\".format(*df.shape))"
   ]
  },
  {
   "cell_type": "markdown",
   "metadata": {},
   "source": [
    "## Statistics for numerical variables"
   ]
  },
  {
   "cell_type": "code",
   "execution_count": 22,
   "metadata": {
    "scrolled": false
   },
   "outputs": [
    {
     "data": {
      "text/html": [
       "<div>\n",
       "<style scoped>\n",
       "    .dataframe tbody tr th:only-of-type {\n",
       "        vertical-align: middle;\n",
       "    }\n",
       "\n",
       "    .dataframe tbody tr th {\n",
       "        vertical-align: top;\n",
       "    }\n",
       "\n",
       "    .dataframe thead th {\n",
       "        text-align: right;\n",
       "    }\n",
       "</style>\n",
       "<table border=\"1\" class=\"dataframe\">\n",
       "  <thead>\n",
       "    <tr style=\"text-align: right;\">\n",
       "      <th></th>\n",
       "      <th>count</th>\n",
       "      <th>mean</th>\n",
       "      <th>std</th>\n",
       "      <th>min</th>\n",
       "      <th>25%</th>\n",
       "      <th>50%</th>\n",
       "      <th>75%</th>\n",
       "      <th>max</th>\n",
       "    </tr>\n",
       "  </thead>\n",
       "  <tbody>\n",
       "    <tr>\n",
       "      <th>contract_compiler_runs</th>\n",
       "      <td>216503.0</td>\n",
       "      <td>2.934852e+04</td>\n",
       "      <td>3.091385e+06</td>\n",
       "      <td>0.0</td>\n",
       "      <td>2.000000e+02</td>\n",
       "      <td>2.000000e+02</td>\n",
       "      <td>2.000000e+02</td>\n",
       "      <td>3.300000e+08</td>\n",
       "    </tr>\n",
       "    <tr>\n",
       "      <th>contract_num_source_code_lines</th>\n",
       "      <td>2019434.0</td>\n",
       "      <td>2.854300e+01</td>\n",
       "      <td>1.120118e+02</td>\n",
       "      <td>1.0</td>\n",
       "      <td>1.000000e+00</td>\n",
       "      <td>1.000000e+00</td>\n",
       "      <td>1.000000e+00</td>\n",
       "      <td>1.140900e+04</td>\n",
       "    </tr>\n",
       "    <tr>\n",
       "      <th>contract_label_index</th>\n",
       "      <td>2019434.0</td>\n",
       "      <td>5.333178e-04</td>\n",
       "      <td>5.181817e-02</td>\n",
       "      <td>0.0</td>\n",
       "      <td>0.000000e+00</td>\n",
       "      <td>0.000000e+00</td>\n",
       "      <td>0.000000e+00</td>\n",
       "      <td>8.000000e+00</td>\n",
       "    </tr>\n",
       "    <tr>\n",
       "      <th>contract_compiler_major_version_index</th>\n",
       "      <td>216503.0</td>\n",
       "      <td>0.000000e+00</td>\n",
       "      <td>0.000000e+00</td>\n",
       "      <td>0.0</td>\n",
       "      <td>0.000000e+00</td>\n",
       "      <td>0.000000e+00</td>\n",
       "      <td>0.000000e+00</td>\n",
       "      <td>0.000000e+00</td>\n",
       "    </tr>\n",
       "    <tr>\n",
       "      <th>contract_compiler_minor_version_index</th>\n",
       "      <td>216503.0</td>\n",
       "      <td>4.710466e-01</td>\n",
       "      <td>8.496020e-01</td>\n",
       "      <td>0.0</td>\n",
       "      <td>0.000000e+00</td>\n",
       "      <td>0.000000e+00</td>\n",
       "      <td>0.000000e+00</td>\n",
       "      <td>3.000000e+00</td>\n",
       "    </tr>\n",
       "    <tr>\n",
       "      <th>contract_compiler_patch_index</th>\n",
       "      <td>216503.0</td>\n",
       "      <td>6.392920e+01</td>\n",
       "      <td>7.926257e+01</td>\n",
       "      <td>0.0</td>\n",
       "      <td>0.000000e+00</td>\n",
       "      <td>1.900000e+01</td>\n",
       "      <td>1.350000e+02</td>\n",
       "      <td>3.290000e+02</td>\n",
       "    </tr>\n",
       "    <tr>\n",
       "      <th>contract_library_index</th>\n",
       "      <td>6059.0</td>\n",
       "      <td>6.401523e+02</td>\n",
       "      <td>1.804919e+02</td>\n",
       "      <td>0.0</td>\n",
       "      <td>6.415000e+02</td>\n",
       "      <td>7.340000e+02</td>\n",
       "      <td>7.340000e+02</td>\n",
       "      <td>7.480000e+02</td>\n",
       "    </tr>\n",
       "    <tr>\n",
       "      <th>normal_transaction_count</th>\n",
       "      <td>2019434.0</td>\n",
       "      <td>6.994269e+01</td>\n",
       "      <td>9.526084e+03</td>\n",
       "      <td>1.0</td>\n",
       "      <td>1.000000e+00</td>\n",
       "      <td>1.000000e+00</td>\n",
       "      <td>2.000000e+00</td>\n",
       "      <td>1.041294e+07</td>\n",
       "    </tr>\n",
       "    <tr>\n",
       "      <th>normal_transaction_block_count</th>\n",
       "      <td>2019434.0</td>\n",
       "      <td>3.504458e+01</td>\n",
       "      <td>2.321645e+03</td>\n",
       "      <td>1.0</td>\n",
       "      <td>1.000000e+00</td>\n",
       "      <td>1.000000e+00</td>\n",
       "      <td>2.000000e+00</td>\n",
       "      <td>1.654014e+06</td>\n",
       "    </tr>\n",
       "    <tr>\n",
       "      <th>normal_transaction_before_creation_count</th>\n",
       "      <td>2019434.0</td>\n",
       "      <td>5.471830e-04</td>\n",
       "      <td>7.648112e-02</td>\n",
       "      <td>0.0</td>\n",
       "      <td>0.000000e+00</td>\n",
       "      <td>0.000000e+00</td>\n",
       "      <td>0.000000e+00</td>\n",
       "      <td>7.700000e+01</td>\n",
       "    </tr>\n",
       "    <tr>\n",
       "      <th>normal_transaction_from_other_count</th>\n",
       "      <td>2019434.0</td>\n",
       "      <td>6.403937e+01</td>\n",
       "      <td>9.494935e+03</td>\n",
       "      <td>0.0</td>\n",
       "      <td>0.000000e+00</td>\n",
       "      <td>0.000000e+00</td>\n",
       "      <td>0.000000e+00</td>\n",
       "      <td>1.041017e+07</td>\n",
       "    </tr>\n",
       "    <tr>\n",
       "      <th>normal_transaction_other_sender_count</th>\n",
       "      <td>2019434.0</td>\n",
       "      <td>1.339451e+01</td>\n",
       "      <td>1.154447e+03</td>\n",
       "      <td>0.0</td>\n",
       "      <td>0.000000e+00</td>\n",
       "      <td>0.000000e+00</td>\n",
       "      <td>0.000000e+00</td>\n",
       "      <td>6.971320e+05</td>\n",
       "    </tr>\n",
       "    <tr>\n",
       "      <th>normal_transaction_first_block</th>\n",
       "      <td>2019434.0</td>\n",
       "      <td>4.721779e+06</td>\n",
       "      <td>1.012323e+06</td>\n",
       "      <td>46402.0</td>\n",
       "      <td>4.128545e+06</td>\n",
       "      <td>4.830660e+06</td>\n",
       "      <td>5.251212e+06</td>\n",
       "      <td>6.499998e+06</td>\n",
       "    </tr>\n",
       "    <tr>\n",
       "      <th>normal_transaction_last_block</th>\n",
       "      <td>2019434.0</td>\n",
       "      <td>4.853983e+06</td>\n",
       "      <td>1.019269e+06</td>\n",
       "      <td>46402.0</td>\n",
       "      <td>4.267070e+06</td>\n",
       "      <td>4.919771e+06</td>\n",
       "      <td>5.549337e+06</td>\n",
       "      <td>6.500000e+06</td>\n",
       "    </tr>\n",
       "    <tr>\n",
       "      <th>normal_transaction_block_span</th>\n",
       "      <td>2019434.0</td>\n",
       "      <td>1.322044e+05</td>\n",
       "      <td>3.924245e+05</td>\n",
       "      <td>0.0</td>\n",
       "      <td>0.000000e+00</td>\n",
       "      <td>0.000000e+00</td>\n",
       "      <td>3.146000e+03</td>\n",
       "      <td>6.415588e+06</td>\n",
       "    </tr>\n",
       "    <tr>\n",
       "      <th>normal_transaction_count_per_block_mean</th>\n",
       "      <td>2019434.0</td>\n",
       "      <td>1.009077e+00</td>\n",
       "      <td>2.596029e-01</td>\n",
       "      <td>1.0</td>\n",
       "      <td>1.000000e+00</td>\n",
       "      <td>1.000000e+00</td>\n",
       "      <td>1.000000e+00</td>\n",
       "      <td>1.177059e+02</td>\n",
       "    </tr>\n",
       "    <tr>\n",
       "      <th>normal_transaction_count_per_block_std</th>\n",
       "      <td>2019434.0</td>\n",
       "      <td>1.982404e-02</td>\n",
       "      <td>4.085643e-01</td>\n",
       "      <td>0.0</td>\n",
       "      <td>0.000000e+00</td>\n",
       "      <td>0.000000e+00</td>\n",
       "      <td>0.000000e+00</td>\n",
       "      <td>9.181793e+01</td>\n",
       "    </tr>\n",
       "    <tr>\n",
       "      <th>normal_transaction_value_mean</th>\n",
       "      <td>1993181.0</td>\n",
       "      <td>1.148832e+18</td>\n",
       "      <td>1.720878e+20</td>\n",
       "      <td>0.0</td>\n",
       "      <td>0.000000e+00</td>\n",
       "      <td>0.000000e+00</td>\n",
       "      <td>0.000000e+00</td>\n",
       "      <td>2.043658e+23</td>\n",
       "    </tr>\n",
       "    <tr>\n",
       "      <th>normal_transaction_value_std</th>\n",
       "      <td>1993181.0</td>\n",
       "      <td>3.082074e+18</td>\n",
       "      <td>1.036173e+21</td>\n",
       "      <td>0.0</td>\n",
       "      <td>0.000000e+00</td>\n",
       "      <td>0.000000e+00</td>\n",
       "      <td>0.000000e+00</td>\n",
       "      <td>1.285686e+24</td>\n",
       "    </tr>\n",
       "    <tr>\n",
       "      <th>normal_transaction_gas_mean</th>\n",
       "      <td>2019434.0</td>\n",
       "      <td>7.057916e+05</td>\n",
       "      <td>8.185337e+05</td>\n",
       "      <td>21000.0</td>\n",
       "      <td>2.557567e+05</td>\n",
       "      <td>5.000000e+05</td>\n",
       "      <td>9.400000e+05</td>\n",
       "      <td>8.011651e+06</td>\n",
       "    </tr>\n",
       "    <tr>\n",
       "      <th>normal_transaction_gas_std</th>\n",
       "      <td>2019434.0</td>\n",
       "      <td>1.057027e+05</td>\n",
       "      <td>2.924021e+05</td>\n",
       "      <td>0.0</td>\n",
       "      <td>0.000000e+00</td>\n",
       "      <td>0.000000e+00</td>\n",
       "      <td>8.227241e+04</td>\n",
       "      <td>3.985463e+06</td>\n",
       "    </tr>\n",
       "    <tr>\n",
       "      <th>normal_transaction_gas_used_mean</th>\n",
       "      <td>2019434.0</td>\n",
       "      <td>3.369885e+05</td>\n",
       "      <td>4.389564e+05</td>\n",
       "      <td>21000.0</td>\n",
       "      <td>1.525465e+05</td>\n",
       "      <td>2.538540e+05</td>\n",
       "      <td>3.604350e+05</td>\n",
       "      <td>8.000000e+06</td>\n",
       "    </tr>\n",
       "    <tr>\n",
       "      <th>normal_transaction_gas_used_std</th>\n",
       "      <td>2019434.0</td>\n",
       "      <td>6.564189e+04</td>\n",
       "      <td>1.730162e+05</td>\n",
       "      <td>0.0</td>\n",
       "      <td>0.000000e+00</td>\n",
       "      <td>0.000000e+00</td>\n",
       "      <td>7.340430e+04</td>\n",
       "      <td>3.901859e+06</td>\n",
       "    </tr>\n",
       "    <tr>\n",
       "      <th>normal_transaction_time_delta_mean</th>\n",
       "      <td>666595.0</td>\n",
       "      <td>2.238344e+06</td>\n",
       "      <td>4.780592e+06</td>\n",
       "      <td>0.0</td>\n",
       "      <td>2.619500e+04</td>\n",
       "      <td>3.441640e+05</td>\n",
       "      <td>1.972906e+06</td>\n",
       "      <td>7.021188e+07</td>\n",
       "    </tr>\n",
       "    <tr>\n",
       "      <th>normal_transaction_time_delta_std</th>\n",
       "      <td>666595.0</td>\n",
       "      <td>9.445770e+05</td>\n",
       "      <td>2.122426e+06</td>\n",
       "      <td>0.0</td>\n",
       "      <td>0.000000e+00</td>\n",
       "      <td>1.401294e+04</td>\n",
       "      <td>8.483076e+05</td>\n",
       "      <td>4.342874e+07</td>\n",
       "    </tr>\n",
       "    <tr>\n",
       "      <th>normal_transaction_block_delta_mean</th>\n",
       "      <td>666595.0</td>\n",
       "      <td>1.413951e+05</td>\n",
       "      <td>3.073420e+05</td>\n",
       "      <td>0.0</td>\n",
       "      <td>1.659000e+03</td>\n",
       "      <td>2.130680e+04</td>\n",
       "      <td>1.215778e+05</td>\n",
       "      <td>4.397351e+06</td>\n",
       "    </tr>\n",
       "    <tr>\n",
       "      <th>normal_transaction_block_delta_std</th>\n",
       "      <td>666595.0</td>\n",
       "      <td>5.958600e+04</td>\n",
       "      <td>1.361621e+05</td>\n",
       "      <td>0.0</td>\n",
       "      <td>0.000000e+00</td>\n",
       "      <td>9.060000e+02</td>\n",
       "      <td>5.264938e+04</td>\n",
       "      <td>2.769814e+06</td>\n",
       "    </tr>\n",
       "    <tr>\n",
       "      <th>internal_transaction_count</th>\n",
       "      <td>2019434.0</td>\n",
       "      <td>2.230982e+01</td>\n",
       "      <td>3.900998e+03</td>\n",
       "      <td>0.0</td>\n",
       "      <td>0.000000e+00</td>\n",
       "      <td>0.000000e+00</td>\n",
       "      <td>0.000000e+00</td>\n",
       "      <td>3.317521e+06</td>\n",
       "    </tr>\n",
       "    <tr>\n",
       "      <th>internal_transaction_block_count</th>\n",
       "      <td>2019434.0</td>\n",
       "      <td>6.033850e+00</td>\n",
       "      <td>9.037619e+02</td>\n",
       "      <td>0.0</td>\n",
       "      <td>0.000000e+00</td>\n",
       "      <td>0.000000e+00</td>\n",
       "      <td>0.000000e+00</td>\n",
       "      <td>5.925780e+05</td>\n",
       "    </tr>\n",
       "    <tr>\n",
       "      <th>internal_transaction_creation_count</th>\n",
       "      <td>2019434.0</td>\n",
       "      <td>2.910875e+00</td>\n",
       "      <td>1.379363e+03</td>\n",
       "      <td>0.0</td>\n",
       "      <td>0.000000e+00</td>\n",
       "      <td>0.000000e+00</td>\n",
       "      <td>0.000000e+00</td>\n",
       "      <td>1.501260e+06</td>\n",
       "    </tr>\n",
       "    <tr>\n",
       "      <th>internal_transaction_from_other_count</th>\n",
       "      <td>2019434.0</td>\n",
       "      <td>6.566673e+00</td>\n",
       "      <td>2.528154e+03</td>\n",
       "      <td>0.0</td>\n",
       "      <td>0.000000e+00</td>\n",
       "      <td>0.000000e+00</td>\n",
       "      <td>0.000000e+00</td>\n",
       "      <td>3.317521e+06</td>\n",
       "    </tr>\n",
       "    <tr>\n",
       "      <th>internal_transaction_other_sender_count</th>\n",
       "      <td>2019434.0</td>\n",
       "      <td>1.909872e-01</td>\n",
       "      <td>3.188044e+01</td>\n",
       "      <td>0.0</td>\n",
       "      <td>0.000000e+00</td>\n",
       "      <td>0.000000e+00</td>\n",
       "      <td>0.000000e+00</td>\n",
       "      <td>2.230500e+04</td>\n",
       "    </tr>\n",
       "    <tr>\n",
       "      <th>internal_transaction_to_other_count</th>\n",
       "      <td>2019434.0</td>\n",
       "      <td>2.052264e+01</td>\n",
       "      <td>3.877340e+03</td>\n",
       "      <td>0.0</td>\n",
       "      <td>0.000000e+00</td>\n",
       "      <td>0.000000e+00</td>\n",
       "      <td>0.000000e+00</td>\n",
       "      <td>3.317521e+06</td>\n",
       "    </tr>\n",
       "    <tr>\n",
       "      <th>internal_transaction_other_receiver_count</th>\n",
       "      <td>2019434.0</td>\n",
       "      <td>1.486730e+00</td>\n",
       "      <td>3.522783e+02</td>\n",
       "      <td>0.0</td>\n",
       "      <td>0.000000e+00</td>\n",
       "      <td>0.000000e+00</td>\n",
       "      <td>0.000000e+00</td>\n",
       "      <td>3.039220e+05</td>\n",
       "    </tr>\n",
       "    <tr>\n",
       "      <th>internal_transaction_count_per_block_mean</th>\n",
       "      <td>368090.0</td>\n",
       "      <td>2.437178e+00</td>\n",
       "      <td>4.733082e+01</td>\n",
       "      <td>1.0</td>\n",
       "      <td>1.000000e+00</td>\n",
       "      <td>2.000000e+00</td>\n",
       "      <td>3.000000e+00</td>\n",
       "      <td>1.500000e+04</td>\n",
       "    </tr>\n",
       "    <tr>\n",
       "      <th>internal_transaction_count_per_block_std</th>\n",
       "      <td>368090.0</td>\n",
       "      <td>1.090663e-01</td>\n",
       "      <td>4.738745e+00</td>\n",
       "      <td>0.0</td>\n",
       "      <td>0.000000e+00</td>\n",
       "      <td>0.000000e+00</td>\n",
       "      <td>0.000000e+00</td>\n",
       "      <td>1.658592e+03</td>\n",
       "    </tr>\n",
       "    <tr>\n",
       "      <th>internal_transaction_value_mean</th>\n",
       "      <td>366310.0</td>\n",
       "      <td>3.040369e+19</td>\n",
       "      <td>1.629160e+21</td>\n",
       "      <td>0.0</td>\n",
       "      <td>1.170265e+17</td>\n",
       "      <td>8.250101e+17</td>\n",
       "      <td>3.133605e+18</td>\n",
       "      <td>5.466667e+23</td>\n",
       "    </tr>\n",
       "    <tr>\n",
       "      <th>internal_transaction_value_std</th>\n",
       "      <td>366310.0</td>\n",
       "      <td>2.641220e+19</td>\n",
       "      <td>2.542447e+21</td>\n",
       "      <td>0.0</td>\n",
       "      <td>0.000000e+00</td>\n",
       "      <td>0.000000e+00</td>\n",
       "      <td>4.026937e+17</td>\n",
       "      <td>1.301246e+24</td>\n",
       "    </tr>\n",
       "    <tr>\n",
       "      <th>internal_transaction_gas_mean</th>\n",
       "      <td>368090.0</td>\n",
       "      <td>9.487016e+04</td>\n",
       "      <td>4.175067e+05</td>\n",
       "      <td>0.0</td>\n",
       "      <td>2.300000e+03</td>\n",
       "      <td>7.862000e+03</td>\n",
       "      <td>2.493733e+04</td>\n",
       "      <td>7.786267e+06</td>\n",
       "    </tr>\n",
       "    <tr>\n",
       "      <th>internal_transaction_gas_std</th>\n",
       "      <td>368090.0</td>\n",
       "      <td>2.739921e+04</td>\n",
       "      <td>1.383887e+05</td>\n",
       "      <td>0.0</td>\n",
       "      <td>0.000000e+00</td>\n",
       "      <td>0.000000e+00</td>\n",
       "      <td>1.600701e+04</td>\n",
       "      <td>3.698726e+06</td>\n",
       "    </tr>\n",
       "    <tr>\n",
       "      <th>internal_transaction_gas_used_mean</th>\n",
       "      <td>368090.0</td>\n",
       "      <td>1.599957e+04</td>\n",
       "      <td>1.177283e+05</td>\n",
       "      <td>0.0</td>\n",
       "      <td>0.000000e+00</td>\n",
       "      <td>0.000000e+00</td>\n",
       "      <td>0.000000e+00</td>\n",
       "      <td>4.881858e+06</td>\n",
       "    </tr>\n",
       "    <tr>\n",
       "      <th>internal_transaction_gas_used_std</th>\n",
       "      <td>368090.0</td>\n",
       "      <td>2.199568e+03</td>\n",
       "      <td>3.273679e+04</td>\n",
       "      <td>0.0</td>\n",
       "      <td>0.000000e+00</td>\n",
       "      <td>0.000000e+00</td>\n",
       "      <td>0.000000e+00</td>\n",
       "      <td>2.138516e+06</td>\n",
       "    </tr>\n",
       "  </tbody>\n",
       "</table>\n",
       "</div>"
      ],
      "text/plain": [
       "                                               count          mean  \\\n",
       "contract_compiler_runs                      216503.0  2.934852e+04   \n",
       "contract_num_source_code_lines             2019434.0  2.854300e+01   \n",
       "contract_label_index                       2019434.0  5.333178e-04   \n",
       "contract_compiler_major_version_index       216503.0  0.000000e+00   \n",
       "contract_compiler_minor_version_index       216503.0  4.710466e-01   \n",
       "contract_compiler_patch_index               216503.0  6.392920e+01   \n",
       "contract_library_index                        6059.0  6.401523e+02   \n",
       "normal_transaction_count                   2019434.0  6.994269e+01   \n",
       "normal_transaction_block_count             2019434.0  3.504458e+01   \n",
       "normal_transaction_before_creation_count   2019434.0  5.471830e-04   \n",
       "normal_transaction_from_other_count        2019434.0  6.403937e+01   \n",
       "normal_transaction_other_sender_count      2019434.0  1.339451e+01   \n",
       "normal_transaction_first_block             2019434.0  4.721779e+06   \n",
       "normal_transaction_last_block              2019434.0  4.853983e+06   \n",
       "normal_transaction_block_span              2019434.0  1.322044e+05   \n",
       "normal_transaction_count_per_block_mean    2019434.0  1.009077e+00   \n",
       "normal_transaction_count_per_block_std     2019434.0  1.982404e-02   \n",
       "normal_transaction_value_mean              1993181.0  1.148832e+18   \n",
       "normal_transaction_value_std               1993181.0  3.082074e+18   \n",
       "normal_transaction_gas_mean                2019434.0  7.057916e+05   \n",
       "normal_transaction_gas_std                 2019434.0  1.057027e+05   \n",
       "normal_transaction_gas_used_mean           2019434.0  3.369885e+05   \n",
       "normal_transaction_gas_used_std            2019434.0  6.564189e+04   \n",
       "normal_transaction_time_delta_mean          666595.0  2.238344e+06   \n",
       "normal_transaction_time_delta_std           666595.0  9.445770e+05   \n",
       "normal_transaction_block_delta_mean         666595.0  1.413951e+05   \n",
       "normal_transaction_block_delta_std          666595.0  5.958600e+04   \n",
       "internal_transaction_count                 2019434.0  2.230982e+01   \n",
       "internal_transaction_block_count           2019434.0  6.033850e+00   \n",
       "internal_transaction_creation_count        2019434.0  2.910875e+00   \n",
       "internal_transaction_from_other_count      2019434.0  6.566673e+00   \n",
       "internal_transaction_other_sender_count    2019434.0  1.909872e-01   \n",
       "internal_transaction_to_other_count        2019434.0  2.052264e+01   \n",
       "internal_transaction_other_receiver_count  2019434.0  1.486730e+00   \n",
       "internal_transaction_count_per_block_mean   368090.0  2.437178e+00   \n",
       "internal_transaction_count_per_block_std    368090.0  1.090663e-01   \n",
       "internal_transaction_value_mean             366310.0  3.040369e+19   \n",
       "internal_transaction_value_std              366310.0  2.641220e+19   \n",
       "internal_transaction_gas_mean               368090.0  9.487016e+04   \n",
       "internal_transaction_gas_std                368090.0  2.739921e+04   \n",
       "internal_transaction_gas_used_mean          368090.0  1.599957e+04   \n",
       "internal_transaction_gas_used_std           368090.0  2.199568e+03   \n",
       "\n",
       "                                                    std      min  \\\n",
       "contract_compiler_runs                     3.091385e+06      0.0   \n",
       "contract_num_source_code_lines             1.120118e+02      1.0   \n",
       "contract_label_index                       5.181817e-02      0.0   \n",
       "contract_compiler_major_version_index      0.000000e+00      0.0   \n",
       "contract_compiler_minor_version_index      8.496020e-01      0.0   \n",
       "contract_compiler_patch_index              7.926257e+01      0.0   \n",
       "contract_library_index                     1.804919e+02      0.0   \n",
       "normal_transaction_count                   9.526084e+03      1.0   \n",
       "normal_transaction_block_count             2.321645e+03      1.0   \n",
       "normal_transaction_before_creation_count   7.648112e-02      0.0   \n",
       "normal_transaction_from_other_count        9.494935e+03      0.0   \n",
       "normal_transaction_other_sender_count      1.154447e+03      0.0   \n",
       "normal_transaction_first_block             1.012323e+06  46402.0   \n",
       "normal_transaction_last_block              1.019269e+06  46402.0   \n",
       "normal_transaction_block_span              3.924245e+05      0.0   \n",
       "normal_transaction_count_per_block_mean    2.596029e-01      1.0   \n",
       "normal_transaction_count_per_block_std     4.085643e-01      0.0   \n",
       "normal_transaction_value_mean              1.720878e+20      0.0   \n",
       "normal_transaction_value_std               1.036173e+21      0.0   \n",
       "normal_transaction_gas_mean                8.185337e+05  21000.0   \n",
       "normal_transaction_gas_std                 2.924021e+05      0.0   \n",
       "normal_transaction_gas_used_mean           4.389564e+05  21000.0   \n",
       "normal_transaction_gas_used_std            1.730162e+05      0.0   \n",
       "normal_transaction_time_delta_mean         4.780592e+06      0.0   \n",
       "normal_transaction_time_delta_std          2.122426e+06      0.0   \n",
       "normal_transaction_block_delta_mean        3.073420e+05      0.0   \n",
       "normal_transaction_block_delta_std         1.361621e+05      0.0   \n",
       "internal_transaction_count                 3.900998e+03      0.0   \n",
       "internal_transaction_block_count           9.037619e+02      0.0   \n",
       "internal_transaction_creation_count        1.379363e+03      0.0   \n",
       "internal_transaction_from_other_count      2.528154e+03      0.0   \n",
       "internal_transaction_other_sender_count    3.188044e+01      0.0   \n",
       "internal_transaction_to_other_count        3.877340e+03      0.0   \n",
       "internal_transaction_other_receiver_count  3.522783e+02      0.0   \n",
       "internal_transaction_count_per_block_mean  4.733082e+01      1.0   \n",
       "internal_transaction_count_per_block_std   4.738745e+00      0.0   \n",
       "internal_transaction_value_mean            1.629160e+21      0.0   \n",
       "internal_transaction_value_std             2.542447e+21      0.0   \n",
       "internal_transaction_gas_mean              4.175067e+05      0.0   \n",
       "internal_transaction_gas_std               1.383887e+05      0.0   \n",
       "internal_transaction_gas_used_mean         1.177283e+05      0.0   \n",
       "internal_transaction_gas_used_std          3.273679e+04      0.0   \n",
       "\n",
       "                                                    25%           50%  \\\n",
       "contract_compiler_runs                     2.000000e+02  2.000000e+02   \n",
       "contract_num_source_code_lines             1.000000e+00  1.000000e+00   \n",
       "contract_label_index                       0.000000e+00  0.000000e+00   \n",
       "contract_compiler_major_version_index      0.000000e+00  0.000000e+00   \n",
       "contract_compiler_minor_version_index      0.000000e+00  0.000000e+00   \n",
       "contract_compiler_patch_index              0.000000e+00  1.900000e+01   \n",
       "contract_library_index                     6.415000e+02  7.340000e+02   \n",
       "normal_transaction_count                   1.000000e+00  1.000000e+00   \n",
       "normal_transaction_block_count             1.000000e+00  1.000000e+00   \n",
       "normal_transaction_before_creation_count   0.000000e+00  0.000000e+00   \n",
       "normal_transaction_from_other_count        0.000000e+00  0.000000e+00   \n",
       "normal_transaction_other_sender_count      0.000000e+00  0.000000e+00   \n",
       "normal_transaction_first_block             4.128545e+06  4.830660e+06   \n",
       "normal_transaction_last_block              4.267070e+06  4.919771e+06   \n",
       "normal_transaction_block_span              0.000000e+00  0.000000e+00   \n",
       "normal_transaction_count_per_block_mean    1.000000e+00  1.000000e+00   \n",
       "normal_transaction_count_per_block_std     0.000000e+00  0.000000e+00   \n",
       "normal_transaction_value_mean              0.000000e+00  0.000000e+00   \n",
       "normal_transaction_value_std               0.000000e+00  0.000000e+00   \n",
       "normal_transaction_gas_mean                2.557567e+05  5.000000e+05   \n",
       "normal_transaction_gas_std                 0.000000e+00  0.000000e+00   \n",
       "normal_transaction_gas_used_mean           1.525465e+05  2.538540e+05   \n",
       "normal_transaction_gas_used_std            0.000000e+00  0.000000e+00   \n",
       "normal_transaction_time_delta_mean         2.619500e+04  3.441640e+05   \n",
       "normal_transaction_time_delta_std          0.000000e+00  1.401294e+04   \n",
       "normal_transaction_block_delta_mean        1.659000e+03  2.130680e+04   \n",
       "normal_transaction_block_delta_std         0.000000e+00  9.060000e+02   \n",
       "internal_transaction_count                 0.000000e+00  0.000000e+00   \n",
       "internal_transaction_block_count           0.000000e+00  0.000000e+00   \n",
       "internal_transaction_creation_count        0.000000e+00  0.000000e+00   \n",
       "internal_transaction_from_other_count      0.000000e+00  0.000000e+00   \n",
       "internal_transaction_other_sender_count    0.000000e+00  0.000000e+00   \n",
       "internal_transaction_to_other_count        0.000000e+00  0.000000e+00   \n",
       "internal_transaction_other_receiver_count  0.000000e+00  0.000000e+00   \n",
       "internal_transaction_count_per_block_mean  1.000000e+00  2.000000e+00   \n",
       "internal_transaction_count_per_block_std   0.000000e+00  0.000000e+00   \n",
       "internal_transaction_value_mean            1.170265e+17  8.250101e+17   \n",
       "internal_transaction_value_std             0.000000e+00  0.000000e+00   \n",
       "internal_transaction_gas_mean              2.300000e+03  7.862000e+03   \n",
       "internal_transaction_gas_std               0.000000e+00  0.000000e+00   \n",
       "internal_transaction_gas_used_mean         0.000000e+00  0.000000e+00   \n",
       "internal_transaction_gas_used_std          0.000000e+00  0.000000e+00   \n",
       "\n",
       "                                                    75%           max  \n",
       "contract_compiler_runs                     2.000000e+02  3.300000e+08  \n",
       "contract_num_source_code_lines             1.000000e+00  1.140900e+04  \n",
       "contract_label_index                       0.000000e+00  8.000000e+00  \n",
       "contract_compiler_major_version_index      0.000000e+00  0.000000e+00  \n",
       "contract_compiler_minor_version_index      0.000000e+00  3.000000e+00  \n",
       "contract_compiler_patch_index              1.350000e+02  3.290000e+02  \n",
       "contract_library_index                     7.340000e+02  7.480000e+02  \n",
       "normal_transaction_count                   2.000000e+00  1.041294e+07  \n",
       "normal_transaction_block_count             2.000000e+00  1.654014e+06  \n",
       "normal_transaction_before_creation_count   0.000000e+00  7.700000e+01  \n",
       "normal_transaction_from_other_count        0.000000e+00  1.041017e+07  \n",
       "normal_transaction_other_sender_count      0.000000e+00  6.971320e+05  \n",
       "normal_transaction_first_block             5.251212e+06  6.499998e+06  \n",
       "normal_transaction_last_block              5.549337e+06  6.500000e+06  \n",
       "normal_transaction_block_span              3.146000e+03  6.415588e+06  \n",
       "normal_transaction_count_per_block_mean    1.000000e+00  1.177059e+02  \n",
       "normal_transaction_count_per_block_std     0.000000e+00  9.181793e+01  \n",
       "normal_transaction_value_mean              0.000000e+00  2.043658e+23  \n",
       "normal_transaction_value_std               0.000000e+00  1.285686e+24  \n",
       "normal_transaction_gas_mean                9.400000e+05  8.011651e+06  \n",
       "normal_transaction_gas_std                 8.227241e+04  3.985463e+06  \n",
       "normal_transaction_gas_used_mean           3.604350e+05  8.000000e+06  \n",
       "normal_transaction_gas_used_std            7.340430e+04  3.901859e+06  \n",
       "normal_transaction_time_delta_mean         1.972906e+06  7.021188e+07  \n",
       "normal_transaction_time_delta_std          8.483076e+05  4.342874e+07  \n",
       "normal_transaction_block_delta_mean        1.215778e+05  4.397351e+06  \n",
       "normal_transaction_block_delta_std         5.264938e+04  2.769814e+06  \n",
       "internal_transaction_count                 0.000000e+00  3.317521e+06  \n",
       "internal_transaction_block_count           0.000000e+00  5.925780e+05  \n",
       "internal_transaction_creation_count        0.000000e+00  1.501260e+06  \n",
       "internal_transaction_from_other_count      0.000000e+00  3.317521e+06  \n",
       "internal_transaction_other_sender_count    0.000000e+00  2.230500e+04  \n",
       "internal_transaction_to_other_count        0.000000e+00  3.317521e+06  \n",
       "internal_transaction_other_receiver_count  0.000000e+00  3.039220e+05  \n",
       "internal_transaction_count_per_block_mean  3.000000e+00  1.500000e+04  \n",
       "internal_transaction_count_per_block_std   0.000000e+00  1.658592e+03  \n",
       "internal_transaction_value_mean            3.133605e+18  5.466667e+23  \n",
       "internal_transaction_value_std             4.026937e+17  1.301246e+24  \n",
       "internal_transaction_gas_mean              2.493733e+04  7.786267e+06  \n",
       "internal_transaction_gas_std               1.600701e+04  3.698726e+06  \n",
       "internal_transaction_gas_used_mean         0.000000e+00  4.881858e+06  \n",
       "internal_transaction_gas_used_std          0.000000e+00  2.138516e+06  "
      ]
     },
     "execution_count": 22,
     "metadata": {},
     "output_type": "execute_result"
    }
   ],
   "source": [
    "df[non_fund_flow_columns].describe().transpose()"
   ]
  },
  {
   "cell_type": "markdown",
   "metadata": {},
   "source": [
    "(Non fund flow case variables that are not numerical are not described)"
   ]
  },
  {
   "cell_type": "markdown",
   "metadata": {},
   "source": [
    "## Transaction counts"
   ]
  },
  {
   "cell_type": "markdown",
   "metadata": {},
   "source": [
    "Validate that there are no contracts with zero normal transactions:\n",
    "\n",
    "(This should hold because we already verified that every contract has a creation transaction)"
   ]
  },
  {
   "cell_type": "code",
   "execution_count": 23,
   "metadata": {},
   "outputs": [
    {
     "data": {
      "text/plain": [
       "0"
      ]
     },
     "execution_count": 23,
     "metadata": {},
     "output_type": "execute_result"
    }
   ],
   "source": [
    "len(df[df.normal_transaction_count == 0])"
   ]
  },
  {
   "cell_type": "markdown",
   "metadata": {},
   "source": [
    "Contracts with only the creation transaction:"
   ]
  },
  {
   "cell_type": "code",
   "execution_count": 24,
   "metadata": {},
   "outputs": [
    {
     "name": "stdout",
     "output_type": "stream",
     "text": [
      "Number of contracts with only one normal transaction: 1352839 (66.991 %)\n"
     ]
    }
   ],
   "source": [
    "has_one_normal_transaction = df.normal_transaction_count == 1\n",
    "count_has_one_normal_transaction = len(df[has_one_normal_transaction])\n",
    "\n",
    "print(\"Number of contracts with only one normal transaction: {:d} ({:.03f} %)\".format(\n",
    "    count_has_one_normal_transaction, count_has_one_normal_transaction * 100 / len(df)))"
   ]
  },
  {
   "cell_type": "markdown",
   "metadata": {},
   "source": [
    "Contract with no internal transactions:"
   ]
  },
  {
   "cell_type": "code",
   "execution_count": 25,
   "metadata": {},
   "outputs": [
    {
     "name": "stdout",
     "output_type": "stream",
     "text": [
      "Number of contracts with zero internal transactions: 1651344 (81.773 %)\n"
     ]
    }
   ],
   "source": [
    "has_internal_transactions = df.internal_transaction_count > 0\n",
    "has_no_internal_transactions = df.internal_transaction_count == 0\n",
    "count_has_no_internal_transactions = len(df[has_no_internal_transactions])\n",
    "\n",
    "print(\"Number of contracts with zero internal transactions: {:d} ({:.03f} %)\".format(\n",
    "    count_has_no_internal_transactions, count_has_no_internal_transactions * 100 / len(df)))"
   ]
  },
  {
   "cell_type": "markdown",
   "metadata": {},
   "source": [
    "## Block span"
   ]
  },
  {
   "cell_type": "markdown",
   "metadata": {},
   "source": [
    "Across how many blocks the non-honeypot contracts live?"
   ]
  },
  {
   "cell_type": "code",
   "execution_count": 26,
   "metadata": {},
   "outputs": [
    {
     "data": {
      "text/plain": [
       "count    2019139.00\n",
       "mean          35.05\n",
       "std         2321.82\n",
       "min            1.00\n",
       "25%            1.00\n",
       "50%            1.00\n",
       "75%            2.00\n",
       "max      1654014.00\n",
       "Name: normal_transaction_block_count, dtype: object"
      ]
     },
     "execution_count": 26,
     "metadata": {},
     "output_type": "execute_result"
    }
   ],
   "source": [
    "df[~df.contract_is_honeypot].normal_transaction_block_count.describe().apply(\"{:.2f}\".format)"
   ]
  },
  {
   "cell_type": "markdown",
   "metadata": {},
   "source": [
    "What about the honeypot contracts?"
   ]
  },
  {
   "cell_type": "code",
   "execution_count": 27,
   "metadata": {},
   "outputs": [
    {
     "data": {
      "text/plain": [
       "count    295.00\n",
       "mean       5.05\n",
       "std        4.12\n",
       "min        1.00\n",
       "25%        3.00\n",
       "50%        4.00\n",
       "75%        6.00\n",
       "max       29.00\n",
       "Name: normal_transaction_block_count, dtype: object"
      ]
     },
     "execution_count": 27,
     "metadata": {},
     "output_type": "execute_result"
    }
   ],
   "source": [
    "df[df.contract_is_honeypot].normal_transaction_block_count.describe().apply(\"{:.2f}\".format)"
   ]
  },
  {
   "cell_type": "markdown",
   "metadata": {},
   "source": [
    "Total block span per honeypot technique:"
   ]
  },
  {
   "cell_type": "code",
   "execution_count": 28,
   "metadata": {},
   "outputs": [
    {
     "data": {
      "text/html": [
       "<div>\n",
       "<style scoped>\n",
       "    .dataframe tbody tr th:only-of-type {\n",
       "        vertical-align: middle;\n",
       "    }\n",
       "\n",
       "    .dataframe tbody tr th {\n",
       "        vertical-align: top;\n",
       "    }\n",
       "\n",
       "    .dataframe thead th {\n",
       "        text-align: right;\n",
       "    }\n",
       "</style>\n",
       "<table border=\"1\" class=\"dataframe\">\n",
       "  <thead>\n",
       "    <tr style=\"text-align: right;\">\n",
       "      <th></th>\n",
       "      <th>normal_transaction_first_block</th>\n",
       "      <th>normal_transaction_last_block</th>\n",
       "      <th>length</th>\n",
       "    </tr>\n",
       "    <tr>\n",
       "      <th>contract_label_index</th>\n",
       "      <th></th>\n",
       "      <th></th>\n",
       "      <th></th>\n",
       "    </tr>\n",
       "  </thead>\n",
       "  <tbody>\n",
       "    <tr>\n",
       "      <th>0</th>\n",
       "      <td>46402</td>\n",
       "      <td>6500000</td>\n",
       "      <td>6453598</td>\n",
       "    </tr>\n",
       "    <tr>\n",
       "      <th>1</th>\n",
       "      <td>4471773</td>\n",
       "      <td>5614658</td>\n",
       "      <td>1142885</td>\n",
       "    </tr>\n",
       "    <tr>\n",
       "      <th>2</th>\n",
       "      <td>3056072</td>\n",
       "      <td>6484443</td>\n",
       "      <td>3428371</td>\n",
       "    </tr>\n",
       "    <tr>\n",
       "      <th>3</th>\n",
       "      <td>5019154</td>\n",
       "      <td>5974752</td>\n",
       "      <td>955598</td>\n",
       "    </tr>\n",
       "    <tr>\n",
       "      <th>4</th>\n",
       "      <td>4228297</td>\n",
       "      <td>6429732</td>\n",
       "      <td>2201435</td>\n",
       "    </tr>\n",
       "    <tr>\n",
       "      <th>5</th>\n",
       "      <td>5031443</td>\n",
       "      <td>6017570</td>\n",
       "      <td>986127</td>\n",
       "    </tr>\n",
       "    <tr>\n",
       "      <th>6</th>\n",
       "      <td>4470038</td>\n",
       "      <td>6484578</td>\n",
       "      <td>2014540</td>\n",
       "    </tr>\n",
       "    <tr>\n",
       "      <th>7</th>\n",
       "      <td>4528158</td>\n",
       "      <td>6050175</td>\n",
       "      <td>1522017</td>\n",
       "    </tr>\n",
       "    <tr>\n",
       "      <th>8</th>\n",
       "      <td>5031217</td>\n",
       "      <td>6384035</td>\n",
       "      <td>1352818</td>\n",
       "    </tr>\n",
       "  </tbody>\n",
       "</table>\n",
       "</div>"
      ],
      "text/plain": [
       "                      normal_transaction_first_block  \\\n",
       "contract_label_index                                   \n",
       "0                                              46402   \n",
       "1                                            4471773   \n",
       "2                                            3056072   \n",
       "3                                            5019154   \n",
       "4                                            4228297   \n",
       "5                                            5031443   \n",
       "6                                            4470038   \n",
       "7                                            4528158   \n",
       "8                                            5031217   \n",
       "\n",
       "                      normal_transaction_last_block   length  \n",
       "contract_label_index                                          \n",
       "0                                           6500000  6453598  \n",
       "1                                           5614658  1142885  \n",
       "2                                           6484443  3428371  \n",
       "3                                           5974752   955598  \n",
       "4                                           6429732  2201435  \n",
       "5                                           6017570   986127  \n",
       "6                                           6484578  2014540  \n",
       "7                                           6050175  1522017  \n",
       "8                                           6384035  1352818  "
      ]
     },
     "execution_count": 28,
     "metadata": {},
     "output_type": "execute_result"
    }
   ],
   "source": [
    "block_span_per_label = df.groupby(\"contract_label_index\").agg({\"normal_transaction_first_block\": \"min\",\n",
    "                                                            \"normal_transaction_last_block\": \"max\"})\n",
    "\n",
    "block_span_per_label[\"length\"] = block_span_per_label[\"normal_transaction_last_block\"] - block_span_per_label[\"normal_transaction_first_block\"]\n",
    "\n",
    "block_span_per_label"
   ]
  },
  {
   "cell_type": "markdown",
   "metadata": {},
   "source": [
    "Let's plot the total block span per honeypot technique:"
   ]
  },
  {
   "cell_type": "code",
   "execution_count": 29,
   "metadata": {
    "scrolled": false
   },
   "outputs": [
    {
     "data": {
      "image/png": "[encoded data removed]",
      "text/plain": [
       "<Figure size 432x432 with 1 Axes>"
      ]
     },
     "metadata": {},
     "output_type": "display_data"
    }
   ],
   "source": [
    "honeypot_block_span_per_label = block_span_per_label[block_span_per_label.index > 0]\n",
    "\n",
    "fig = plt.figure(figsize=(6, 6))\n",
    "ax = fig.add_subplot(1,1,1)\n",
    "fig.set_tight_layout(True)\n",
    "\n",
    "plt.barh(range(len(honeypot_block_span_per_label)),\n",
    "         honeypot_block_span_per_label[\"length\"].values,\n",
    "         left=honeypot_block_span_per_label[\"normal_transaction_first_block\"].values,\n",
    "         color=[honeypot_color_by_label_index[label_index] for label_index in honeypot_block_span_per_label.index],\n",
    "         alpha=0.9)\n",
    "\n",
    "plt.yticks(range(len(honeypot_block_span_per_label)),\n",
    "           [honey_badger_labels[\"index_to_name\"][label_index]\n",
    "            for label_index in honeypot_block_span_per_label.index])\n",
    "\n",
    "for label in ax.get_xticklabels():\n",
    "    label.set_rotation(90)\n",
    "    \n",
    "plt.xlim(0, 6500000)\n",
    "\n",
    "plt.title(\"Honeypot Technique Block Span\")\n",
    "plt.xlabel(\"Block\")\n",
    "plt.ylabel(\"Honeypot\")\n",
    "plt.show()"
   ]
  },
  {
   "cell_type": "markdown",
   "metadata": {},
   "source": [
    "## Missing values"
   ]
  },
  {
   "cell_type": "markdown",
   "metadata": {},
   "source": [
    "There are several columns with missing values, and they can be grouped by the misssing value count:"
   ]
  },
  {
   "cell_type": "code",
   "execution_count": 30,
   "metadata": {},
   "outputs": [
    {
     "data": {
      "text/html": [
       "<div>\n",
       "<style scoped>\n",
       "    .dataframe tbody tr th:only-of-type {\n",
       "        vertical-align: middle;\n",
       "    }\n",
       "\n",
       "    .dataframe tbody tr th {\n",
       "        vertical-align: top;\n",
       "    }\n",
       "\n",
       "    .dataframe thead th {\n",
       "        text-align: right;\n",
       "    }\n",
       "</style>\n",
       "<table border=\"1\" class=\"dataframe\">\n",
       "  <thead>\n",
       "    <tr style=\"text-align: right;\">\n",
       "      <th></th>\n",
       "      <th>count</th>\n",
       "      <th>percent</th>\n",
       "    </tr>\n",
       "  </thead>\n",
       "  <tbody>\n",
       "    <tr>\n",
       "      <th>contract_has_money_flow</th>\n",
       "      <td>57663.0</td>\n",
       "      <td>2.855404</td>\n",
       "    </tr>\n",
       "    <tr>\n",
       "      <th>contract_compiler_runs</th>\n",
       "      <td>1802931.0</td>\n",
       "      <td>89.279026</td>\n",
       "    </tr>\n",
       "    <tr>\n",
       "      <th>contract_compiler_major_version_index</th>\n",
       "      <td>1802931.0</td>\n",
       "      <td>89.279026</td>\n",
       "    </tr>\n",
       "    <tr>\n",
       "      <th>contract_compiler_minor_version_index</th>\n",
       "      <td>1802931.0</td>\n",
       "      <td>89.279026</td>\n",
       "    </tr>\n",
       "    <tr>\n",
       "      <th>contract_compiler_patch_index</th>\n",
       "      <td>1802931.0</td>\n",
       "      <td>89.279026</td>\n",
       "    </tr>\n",
       "    <tr>\n",
       "      <th>contract_library_index</th>\n",
       "      <td>2013375.0</td>\n",
       "      <td>99.699965</td>\n",
       "    </tr>\n",
       "    <tr>\n",
       "      <th>normal_transaction_value_mean</th>\n",
       "      <td>26253.0</td>\n",
       "      <td>1.300018</td>\n",
       "    </tr>\n",
       "    <tr>\n",
       "      <th>normal_transaction_value_std</th>\n",
       "      <td>26253.0</td>\n",
       "      <td>1.300018</td>\n",
       "    </tr>\n",
       "    <tr>\n",
       "      <th>normal_transaction_time_delta_mean</th>\n",
       "      <td>1352839.0</td>\n",
       "      <td>66.990998</td>\n",
       "    </tr>\n",
       "    <tr>\n",
       "      <th>normal_transaction_time_delta_std</th>\n",
       "      <td>1352839.0</td>\n",
       "      <td>66.990998</td>\n",
       "    </tr>\n",
       "    <tr>\n",
       "      <th>normal_transaction_block_delta_mean</th>\n",
       "      <td>1352839.0</td>\n",
       "      <td>66.990998</td>\n",
       "    </tr>\n",
       "    <tr>\n",
       "      <th>normal_transaction_block_delta_std</th>\n",
       "      <td>1352839.0</td>\n",
       "      <td>66.990998</td>\n",
       "    </tr>\n",
       "    <tr>\n",
       "      <th>internal_transaction_count_per_block_mean</th>\n",
       "      <td>1651344.0</td>\n",
       "      <td>81.772615</td>\n",
       "    </tr>\n",
       "    <tr>\n",
       "      <th>internal_transaction_count_per_block_std</th>\n",
       "      <td>1651344.0</td>\n",
       "      <td>81.772615</td>\n",
       "    </tr>\n",
       "    <tr>\n",
       "      <th>internal_transaction_value_mean</th>\n",
       "      <td>1653124.0</td>\n",
       "      <td>81.860759</td>\n",
       "    </tr>\n",
       "    <tr>\n",
       "      <th>internal_transaction_value_std</th>\n",
       "      <td>1653124.0</td>\n",
       "      <td>81.860759</td>\n",
       "    </tr>\n",
       "    <tr>\n",
       "      <th>internal_transaction_gas_mean</th>\n",
       "      <td>1651344.0</td>\n",
       "      <td>81.772615</td>\n",
       "    </tr>\n",
       "    <tr>\n",
       "      <th>internal_transaction_gas_std</th>\n",
       "      <td>1651344.0</td>\n",
       "      <td>81.772615</td>\n",
       "    </tr>\n",
       "    <tr>\n",
       "      <th>internal_transaction_gas_used_mean</th>\n",
       "      <td>1651344.0</td>\n",
       "      <td>81.772615</td>\n",
       "    </tr>\n",
       "    <tr>\n",
       "      <th>internal_transaction_gas_used_std</th>\n",
       "      <td>1651344.0</td>\n",
       "      <td>81.772615</td>\n",
       "    </tr>\n",
       "  </tbody>\n",
       "</table>\n",
       "</div>"
      ],
      "text/plain": [
       "                                               count    percent\n",
       "contract_has_money_flow                      57663.0   2.855404\n",
       "contract_compiler_runs                     1802931.0  89.279026\n",
       "contract_compiler_major_version_index      1802931.0  89.279026\n",
       "contract_compiler_minor_version_index      1802931.0  89.279026\n",
       "contract_compiler_patch_index              1802931.0  89.279026\n",
       "contract_library_index                     2013375.0  99.699965\n",
       "normal_transaction_value_mean                26253.0   1.300018\n",
       "normal_transaction_value_std                 26253.0   1.300018\n",
       "normal_transaction_time_delta_mean         1352839.0  66.990998\n",
       "normal_transaction_time_delta_std          1352839.0  66.990998\n",
       "normal_transaction_block_delta_mean        1352839.0  66.990998\n",
       "normal_transaction_block_delta_std         1352839.0  66.990998\n",
       "internal_transaction_count_per_block_mean  1651344.0  81.772615\n",
       "internal_transaction_count_per_block_std   1651344.0  81.772615\n",
       "internal_transaction_value_mean            1653124.0  81.860759\n",
       "internal_transaction_value_std             1653124.0  81.860759\n",
       "internal_transaction_gas_mean              1651344.0  81.772615\n",
       "internal_transaction_gas_std               1651344.0  81.772615\n",
       "internal_transaction_gas_used_mean         1651344.0  81.772615\n",
       "internal_transaction_gas_used_std          1651344.0  81.772615"
      ]
     },
     "metadata": {},
     "output_type": "display_data"
    }
   ],
   "source": [
    "display_na_table(df)"
   ]
  },
  {
   "cell_type": "markdown",
   "metadata": {},
   "source": [
    "### Missing values from source features:"
   ]
  },
  {
   "cell_type": "markdown",
   "metadata": {},
   "source": [
    "There are missing values in the source code features when there is no source code.\n",
    "\n",
    "They only feature that is expected to have missing values, is the library, just because sometimes a contract does not use one.\n",
    "\n",
    "These are the affected features:"
   ]
  },
  {
   "cell_type": "code",
   "execution_count": 31,
   "metadata": {},
   "outputs": [],
   "source": [
    "source_code_na_columns = [\n",
    "    \"contract_compiler_runs\",\n",
    "    \"contract_num_source_code_lines\",\n",
    "    \"contract_compiler_major_version_index\",\n",
    "    \"contract_compiler_minor_version_index\",\n",
    "    \"contract_compiler_patch_index\",\n",
    "    \"contract_library_index\"\n",
    "]"
   ]
  },
  {
   "cell_type": "markdown",
   "metadata": {},
   "source": [
    "When counting missing values for those features only for contracts with source code:"
   ]
  },
  {
   "cell_type": "code",
   "execution_count": 32,
   "metadata": {},
   "outputs": [
    {
     "data": {
      "text/html": [
       "<div>\n",
       "<style scoped>\n",
       "    .dataframe tbody tr th:only-of-type {\n",
       "        vertical-align: middle;\n",
       "    }\n",
       "\n",
       "    .dataframe tbody tr th {\n",
       "        vertical-align: top;\n",
       "    }\n",
       "\n",
       "    .dataframe thead th {\n",
       "        text-align: right;\n",
       "    }\n",
       "</style>\n",
       "<table border=\"1\" class=\"dataframe\">\n",
       "  <thead>\n",
       "    <tr style=\"text-align: right;\">\n",
       "      <th></th>\n",
       "      <th>count</th>\n",
       "      <th>percent</th>\n",
       "    </tr>\n",
       "  </thead>\n",
       "  <tbody>\n",
       "    <tr>\n",
       "      <th>contract_library_index</th>\n",
       "      <td>210444.0</td>\n",
       "      <td>97.201424</td>\n",
       "    </tr>\n",
       "  </tbody>\n",
       "</table>\n",
       "</div>"
      ],
      "text/plain": [
       "                           count    percent\n",
       "contract_library_index  210444.0  97.201424"
      ]
     },
     "metadata": {},
     "output_type": "display_data"
    }
   ],
   "source": [
    "display_na_table(df.loc[df.contract_has_source_code, source_code_na_columns])"
   ]
  },
  {
   "cell_type": "markdown",
   "metadata": {},
   "source": [
    "### Value aggregated columns from normal transactions:\n",
    "\n",
    "According to the feature engineering, the only way a contract has no mean or no std for the normal transaction values, is if the contract don't have any value movement in their normal transactions (not even a value of zero). This can only happen when all the transactions of the contract have errors."
   ]
  },
  {
   "cell_type": "markdown",
   "metadata": {},
   "source": [
    "Check when the normal transaction value mean and std have missing values:"
   ]
  },
  {
   "cell_type": "code",
   "execution_count": 33,
   "metadata": {},
   "outputs": [],
   "source": [
    "columns_normal_value_aggregated = [\n",
    "    \"normal_transaction_value_mean\",\n",
    "    \"normal_transaction_value_std\"\n",
    "]"
   ]
  },
  {
   "cell_type": "markdown",
   "metadata": {},
   "source": [
    "All the rows should match:"
   ]
  },
  {
   "cell_type": "code",
   "execution_count": 34,
   "metadata": {},
   "outputs": [
    {
     "name": "stdout",
     "output_type": "stream",
     "text": [
      "All columns match.\n"
     ]
    }
   ],
   "source": [
    "na_row_matches_by_column(df, columns_normal_value_aggregated)"
   ]
  },
  {
   "cell_type": "markdown",
   "metadata": {},
   "source": [
    "As they have missing values in the same rows, take any of those columns to get the rows with missing values:"
   ]
  },
  {
   "cell_type": "code",
   "execution_count": 35,
   "metadata": {},
   "outputs": [],
   "source": [
    "na_rows_normal_value_aggregated = df[columns_normal_value_aggregated[0]].isna()"
   ]
  },
  {
   "cell_type": "markdown",
   "metadata": {},
   "source": [
    "All the contracts without normal value mean (or std) have transactions with errors:"
   ]
  },
  {
   "cell_type": "code",
   "execution_count": 36,
   "metadata": {},
   "outputs": [
    {
     "data": {
      "text/plain": [
       "False"
      ]
     },
     "execution_count": 36,
     "metadata": {},
     "output_type": "execute_result"
    }
   ],
   "source": [
    "all(fund_flow_case_columns_accumulated_frequency(fund_flow_cases,\n",
    "                                                 df[na_rows_normal_value_aggregated],\n",
    "                                                 error=True) > 0)"
   ]
  },
  {
   "cell_type": "markdown",
   "metadata": {},
   "source": [
    "And all the contracts without normal value mean (or std) have no transactions without errors:"
   ]
  },
  {
   "cell_type": "code",
   "execution_count": 37,
   "metadata": {},
   "outputs": [
    {
     "data": {
      "text/plain": [
       "False"
      ]
     },
     "execution_count": 37,
     "metadata": {},
     "output_type": "execute_result"
    }
   ],
   "source": [
    "all(fund_flow_case_columns_accumulated_frequency(fund_flow_cases,\n",
    "                                                 df[na_rows_normal_value_aggregated],\n",
    "                                                 error=False) == 0)"
   ]
  },
  {
   "cell_type": "markdown",
   "metadata": {},
   "source": [
    "### Delta aggregated columns from normal transactions:"
   ]
  },
  {
   "cell_type": "code",
   "execution_count": 38,
   "metadata": {},
   "outputs": [],
   "source": [
    "columns_normal_delta_aggregated = [\n",
    "    \"normal_transaction_time_delta_mean\",\n",
    "    \"normal_transaction_time_delta_std\",\n",
    "    \"normal_transaction_block_delta_mean\",\n",
    "    \"normal_transaction_block_delta_std\",\n",
    "]"
   ]
  },
  {
   "cell_type": "markdown",
   "metadata": {},
   "source": [
    "Validate that they have missing values in the exact same rows (pair by pair):"
   ]
  },
  {
   "cell_type": "code",
   "execution_count": 39,
   "metadata": {},
   "outputs": [
    {
     "name": "stdout",
     "output_type": "stream",
     "text": [
      "All columns match.\n"
     ]
    }
   ],
   "source": [
    "na_row_matches_by_column(df, columns_normal_delta_aggregated)"
   ]
  },
  {
   "cell_type": "markdown",
   "metadata": {},
   "source": [
    "As they have missing values in the same rows, take any of those columns to get the rows with missing values:"
   ]
  },
  {
   "cell_type": "code",
   "execution_count": 40,
   "metadata": {},
   "outputs": [],
   "source": [
    "na_rows_normal_delta_aggregated = df[columns_normal_delta_aggregated[0]].isna()"
   ]
  },
  {
   "cell_type": "markdown",
   "metadata": {},
   "source": [
    "Validate that the delta aggregated columns from normal transactions have missing values exactly when there is only one normal transaction\n",
    "\n",
    "(because time and block deltas can be only computed between two consecutive transactions): "
   ]
  },
  {
   "cell_type": "code",
   "execution_count": 41,
   "metadata": {},
   "outputs": [
    {
     "data": {
      "text/plain": [
       "True"
      ]
     },
     "execution_count": 41,
     "metadata": {},
     "output_type": "execute_result"
    }
   ],
   "source": [
    "all(has_one_normal_transaction == na_rows_normal_delta_aggregated)"
   ]
  },
  {
   "cell_type": "markdown",
   "metadata": {},
   "source": [
    "### Aggregated columns from internal transactions (except the value):"
   ]
  },
  {
   "cell_type": "markdown",
   "metadata": {},
   "source": [
    "All the aggregated features from internal transactions have NA when there are no internal transactions:\n",
    "\n",
    "(ignoring the values that are a special case)"
   ]
  },
  {
   "cell_type": "code",
   "execution_count": 42,
   "metadata": {},
   "outputs": [],
   "source": [
    "columns_internal_aggregated = [\n",
    "    \"internal_transaction_count_per_block_mean\",\n",
    "    \"internal_transaction_count_per_block_std\",\n",
    "    \"internal_transaction_gas_mean\",\n",
    "    \"internal_transaction_gas_std\",\n",
    "    \"internal_transaction_gas_used_mean\",\n",
    "    \"internal_transaction_gas_used_std\",\n",
    "]"
   ]
  },
  {
   "cell_type": "code",
   "execution_count": 43,
   "metadata": {},
   "outputs": [
    {
     "name": "stdout",
     "output_type": "stream",
     "text": [
      "All columns match.\n"
     ]
    }
   ],
   "source": [
    "na_row_matches_by_column(df, columns_internal_aggregated)"
   ]
  },
  {
   "cell_type": "markdown",
   "metadata": {},
   "source": [
    "As they have missing values in the same rows, take any of those columns to get the rows with missing values:"
   ]
  },
  {
   "cell_type": "code",
   "execution_count": 44,
   "metadata": {},
   "outputs": [],
   "source": [
    "na_rows_internal_aggregated = df[columns_internal_aggregated[0]].isna()"
   ]
  },
  {
   "cell_type": "markdown",
   "metadata": {},
   "source": [
    "Validate that the aggregated columns from internal transactions have missing values when there are no internal transactions: "
   ]
  },
  {
   "cell_type": "code",
   "execution_count": 45,
   "metadata": {},
   "outputs": [
    {
     "data": {
      "text/plain": [
       "True"
      ]
     },
     "execution_count": 45,
     "metadata": {},
     "output_type": "execute_result"
    }
   ],
   "source": [
    "all(has_no_internal_transactions == na_rows_internal_aggregated)"
   ]
  },
  {
   "cell_type": "markdown",
   "metadata": {},
   "source": [
    "### Value aggregated columns from internal transactions:\n",
    "\n",
    "This is similar to the value aggregated columns from the normal transactions, but we need to separate the contracts that have no internal transactions at all."
   ]
  },
  {
   "cell_type": "markdown",
   "metadata": {},
   "source": [
    "All the contracts without internal transactions have missing internal transaction value mean and std:"
   ]
  },
  {
   "cell_type": "code",
   "execution_count": 46,
   "metadata": {},
   "outputs": [
    {
     "name": "stdout",
     "output_type": "stream",
     "text": [
      "mean: True\n",
      "std: True\n"
     ]
    }
   ],
   "source": [
    "print(\"mean:\", all(df[has_no_internal_transactions].internal_transaction_value_mean.isna()))\n",
    "print(\"std:\", all(df[has_no_internal_transactions].internal_transaction_value_std.isna()))"
   ]
  },
  {
   "cell_type": "markdown",
   "metadata": {},
   "source": [
    "Check when the internal transaction value mean and std have missing values (when they have internal transactions):"
   ]
  },
  {
   "cell_type": "code",
   "execution_count": 47,
   "metadata": {},
   "outputs": [],
   "source": [
    "internal_na_value_mean = df.internal_transaction_value_mean.isna() & has_internal_transactions\n",
    "internal_na_value_std = df.internal_transaction_value_std.isna() & has_internal_transactions"
   ]
  },
  {
   "cell_type": "markdown",
   "metadata": {},
   "source": [
    "All the rows should match:"
   ]
  },
  {
   "cell_type": "code",
   "execution_count": 48,
   "metadata": {},
   "outputs": [
    {
     "data": {
      "text/plain": [
       "True"
      ]
     },
     "execution_count": 48,
     "metadata": {},
     "output_type": "execute_result"
    }
   ],
   "source": [
    "all(internal_na_value_mean == internal_na_value_std)"
   ]
  },
  {
   "cell_type": "markdown",
   "metadata": {},
   "source": [
    "All the contracts with internal transactions but without internal value mean (or std) have transactions with errors:"
   ]
  },
  {
   "cell_type": "code",
   "execution_count": 49,
   "metadata": {},
   "outputs": [
    {
     "data": {
      "text/plain": [
       "False"
      ]
     },
     "execution_count": 49,
     "metadata": {},
     "output_type": "execute_result"
    }
   ],
   "source": [
    "all(fund_flow_case_columns_accumulated_frequency(fund_flow_cases,\n",
    "                                                 df[internal_na_value_mean],\n",
    "                                                 error=True) > 0)"
   ]
  },
  {
   "cell_type": "markdown",
   "metadata": {},
   "source": [
    "### Filling missing values"
   ]
  },
  {
   "cell_type": "markdown",
   "metadata": {},
   "source": [
    "Fill with zeros the value aggregated columns from normal transactions:"
   ]
  },
  {
   "cell_type": "code",
   "execution_count": 50,
   "metadata": {},
   "outputs": [],
   "source": [
    "df.loc[na_rows_normal_value_aggregated, columns_normal_value_aggregated] = \\\n",
    "    df.loc[na_rows_normal_value_aggregated, columns_normal_value_aggregated].fillna(0.0)"
   ]
  },
  {
   "cell_type": "markdown",
   "metadata": {},
   "source": [
    "Fill with zeros the delta aggregated columns from normal transactions:"
   ]
  },
  {
   "cell_type": "code",
   "execution_count": 51,
   "metadata": {},
   "outputs": [],
   "source": [
    "df.loc[na_rows_normal_delta_aggregated, columns_normal_delta_aggregated] = \\\n",
    "    df.loc[na_rows_normal_delta_aggregated, columns_normal_delta_aggregated].fillna(0.0)"
   ]
  },
  {
   "cell_type": "markdown",
   "metadata": {},
   "source": [
    "Fill with zeros the aggregated columns from internal transactions (except the value):"
   ]
  },
  {
   "cell_type": "code",
   "execution_count": 52,
   "metadata": {},
   "outputs": [],
   "source": [
    "df.loc[na_rows_internal_aggregated, columns_internal_aggregated] = \\\n",
    "    df.loc[na_rows_internal_aggregated, columns_internal_aggregated].fillna(0.0)"
   ]
  },
  {
   "cell_type": "markdown",
   "metadata": {},
   "source": [
    "Fill with zeros the value aggregated columns from internal transactions:"
   ]
  },
  {
   "cell_type": "code",
   "execution_count": 53,
   "metadata": {},
   "outputs": [],
   "source": [
    "df.loc[:, \"internal_transaction_value_mean\"] = df.loc[:, \"internal_transaction_value_mean\"].fillna(0.0)\n",
    "df.loc[:, \"internal_transaction_value_std\"] = df.loc[:, \"internal_transaction_value_std\"].fillna(0.0)"
   ]
  },
  {
   "cell_type": "markdown",
   "metadata": {},
   "source": [
    "Now the missing values are only related to byte code and source code presence:\n",
    "\n",
    "The only one that has missing values is the library (because some contracts just don't use one)"
   ]
  },
  {
   "cell_type": "code",
   "execution_count": 54,
   "metadata": {},
   "outputs": [
    {
     "data": {
      "text/html": [
       "<div>\n",
       "<style scoped>\n",
       "    .dataframe tbody tr th:only-of-type {\n",
       "        vertical-align: middle;\n",
       "    }\n",
       "\n",
       "    .dataframe tbody tr th {\n",
       "        vertical-align: top;\n",
       "    }\n",
       "\n",
       "    .dataframe thead th {\n",
       "        text-align: right;\n",
       "    }\n",
       "</style>\n",
       "<table border=\"1\" class=\"dataframe\">\n",
       "  <thead>\n",
       "    <tr style=\"text-align: right;\">\n",
       "      <th></th>\n",
       "      <th>count</th>\n",
       "      <th>percent</th>\n",
       "    </tr>\n",
       "  </thead>\n",
       "  <tbody>\n",
       "    <tr>\n",
       "      <th>contract_library_index</th>\n",
       "      <td>152804.0</td>\n",
       "      <td>96.186022</td>\n",
       "    </tr>\n",
       "  </tbody>\n",
       "</table>\n",
       "</div>"
      ],
      "text/plain": [
       "                           count    percent\n",
       "contract_library_index  152804.0  96.186022"
      ]
     },
     "metadata": {},
     "output_type": "display_data"
    }
   ],
   "source": [
    "display_na_table(df[df.contract_has_source_code & df.contract_has_byte_code])"
   ]
  },
  {
   "cell_type": "markdown",
   "metadata": {},
   "source": [
    "## Normalize numeric"
   ]
  },
  {
   "cell_type": "markdown",
   "metadata": {},
   "source": [
    "List the features that MIGHT need to be normalized:"
   ]
  },
  {
   "cell_type": "code",
   "execution_count": 55,
   "metadata": {},
   "outputs": [
    {
     "name": "stdout",
     "output_type": "stream",
     "text": [
      "contract_compiler_runs\n",
      "contract_num_source_code_lines\n",
      "normal_transaction_count\n",
      "normal_transaction_block_count\n",
      "normal_transaction_before_creation_count\n",
      "normal_transaction_from_other_count\n",
      "normal_transaction_other_sender_count\n",
      "normal_transaction_block_span\n",
      "internal_transaction_count\n",
      "internal_transaction_block_count\n",
      "internal_transaction_creation_count\n",
      "internal_transaction_from_other_count\n",
      "internal_transaction_other_sender_count\n",
      "internal_transaction_to_other_count\n",
      "internal_transaction_other_receiver_count\n"
     ]
    }
   ],
   "source": [
    "known_ignored_columns = [\n",
    "    \"contract_address\",\n",
    "    \"contract_evaluation_positive\",\n",
    "    \"contract_label_name\",\n",
    "    \"contract_is_honeypot\",\n",
    "    \"normal_transaction_first_block\",\n",
    "    \"normal_transaction_last_block\"\n",
    "]\n",
    "\n",
    "columns_to_normalize = set()\n",
    "\n",
    "ignored_column_suffixes = [\"_mean\", \"_std\", \"_index\"]\n",
    "ignored_column_infixes = [\"_has_\"]\n",
    "for column in non_fund_flow_columns:\n",
    "    ignore_column = False\n",
    "    \n",
    "    for known_ignored_column in known_ignored_columns:\n",
    "        if column == known_ignored_column:\n",
    "            ignore_column = True\n",
    "            \n",
    "    if not ignore_column:\n",
    "        for ignored_column_suffix in ignored_column_suffixes:\n",
    "            if column.endswith(ignored_column_suffix):\n",
    "                ignore_column = True\n",
    "                break\n",
    "                \n",
    "    if not ignore_column:\n",
    "        for ignored_column_infix in ignored_column_infixes:\n",
    "            if ignored_column_infix in column:\n",
    "                ignore_column = True\n",
    "                break\n",
    "                \n",
    "    if not ignore_column:\n",
    "        columns_to_normalize.add(column)\n",
    "        print(column)"
   ]
  },
  {
   "cell_type": "markdown",
   "metadata": {},
   "source": [
    "### Transform into ratios some of the counts"
   ]
  },
  {
   "cell_type": "markdown",
   "metadata": {},
   "source": [
    "Ratio of blocks per normal transaction.\n",
    "\n",
    "This will normalize the normal transaction block count to be comparable between contracts of different number of normal transactions.\n",
    "\n",
    "Nevertheless, this is not a number in the range \\[0, 1\\], so it is not normalized yet:"
   ]
  },
  {
   "cell_type": "code",
   "execution_count": 56,
   "metadata": {},
   "outputs": [],
   "source": [
    "add_ratio_column(df,\n",
    "                 \"normal_transaction_block_count\",\n",
    "                 \"normal_transaction_count\",\n",
    "                 \"normal_transaction_block_ratio\",\n",
    "                 fillna=False)\n",
    "\n",
    "columns_to_normalize.remove(\"normal_transaction_block_count\")"
   ]
  },
  {
   "cell_type": "markdown",
   "metadata": {},
   "source": [
    "Ratio of normal transactions made before the creation over the total amount of normal transactions.\n",
    "\n",
    "The range of this new feature is \\[0, 1\\], with a value of 0 when there are no transactions before creation, 1 when all the normal transactions were made before the creation, and an internediate value when there are transactions before and after the creation:"
   ]
  },
  {
   "cell_type": "code",
   "execution_count": 57,
   "metadata": {},
   "outputs": [],
   "source": [
    "add_ratio_column(df,\n",
    "                 \"normal_transaction_before_creation_count\",\n",
    "                 \"normal_transaction_count\",\n",
    "                 \"normal_transaction_before_creation_ratio\",\n",
    "                 fillna=False)\n",
    "\n",
    "columns_to_normalize.remove(\"normal_transaction_before_creation_count\")"
   ]
  },
  {
   "cell_type": "markdown",
   "metadata": {},
   "source": [
    "Ratio of normal transactions from other sender over the total amount of normal transactions.\n",
    "\n",
    "The range of this new feature is \\[0, 1\\], with a value of 0 when there are no transactions from other sender, 1 when all the normal transactions are from other sender, and an internediate value when there are transactions from the creator and other sender:"
   ]
  },
  {
   "cell_type": "code",
   "execution_count": 58,
   "metadata": {},
   "outputs": [],
   "source": [
    "add_ratio_column(df,\n",
    "                 \"normal_transaction_from_other_count\",\n",
    "                 \"normal_transaction_count\",\n",
    "                 \"normal_transaction_from_other_ratio\",\n",
    "                 fillna=False)\n",
    "\n",
    "columns_to_normalize.remove(\"normal_transaction_from_other_count\")"
   ]
  },
  {
   "cell_type": "markdown",
   "metadata": {},
   "source": [
    "Ratio of the number different non-creator normal transaction senders over the total amount of normal transactions from a non-creator sender.\n",
    "\n",
    "The range of this new feature is \\[0, 1\\]. If a contract has no normal transactions sent from non-creator accounts the ratio is undefined but we arbitrarily define it as 0. The value will be 1 / normal_transaction_from_other_count when there is only one non-creator sender, and will grow while the amount of unique non-creator senders grow, with a max value of 1 when all the normal transactions coming from a non-creator account have different senders:"
   ]
  },
  {
   "cell_type": "code",
   "execution_count": 59,
   "metadata": {},
   "outputs": [],
   "source": [
    "add_ratio_column(df,\n",
    "                 \"normal_transaction_other_sender_count\",\n",
    "                 \"normal_transaction_from_other_count\",\n",
    "                 \"normal_transaction_other_sender_ratio\",\n",
    "                 fillna=True)  # when normal_transaction_from_other_count=0\n",
    "\n",
    "columns_to_normalize.remove(\"normal_transaction_other_sender_count\")"
   ]
  },
  {
   "cell_type": "markdown",
   "metadata": {},
   "source": [
    "Ratio of blocks per internal transaction.\n",
    "\n",
    "This will normalize the internal transaction block count to be comparable between contracts of different number of internal transactions.\n",
    "\n",
    "Nevertheless, this is not a number in the range \\[0, 1\\].\n",
    "\n",
    "Also note that if a contract has no internal transactions, the ratio is undefined.\n",
    "\n",
    "We can fill those cases with zeros:"
   ]
  },
  {
   "cell_type": "code",
   "execution_count": 60,
   "metadata": {},
   "outputs": [],
   "source": [
    "add_ratio_column(df,\n",
    "                 \"internal_transaction_block_count\",\n",
    "                 \"internal_transaction_count\",\n",
    "                 \"internal_transaction_block_ratio\",\n",
    "                 fillna=True)  # when internal_transaction_count=0\n",
    "\n",
    "columns_to_normalize.remove(\"internal_transaction_block_count\")"
   ]
  },
  {
   "cell_type": "markdown",
   "metadata": {},
   "source": [
    "Ratio of internal transactions that create another contract over the total amount of internal transactions.\n",
    "\n",
    "The range of this new feature is \\[0, 1\\], with a value of 0 when there are no internal transactions create another contract, 1 when all the internal transactions create another contract, and an internediate value when some but not all the internal transactions create another contract.\n",
    "\n",
    "Also note that if a contract has no internal transactions, the ratio is undefined.\n",
    "\n",
    "We can fill those cases with zeros:"
   ]
  },
  {
   "cell_type": "code",
   "execution_count": 61,
   "metadata": {},
   "outputs": [],
   "source": [
    "add_ratio_column(df,\n",
    "                 \"internal_transaction_creation_count\",\n",
    "                 \"internal_transaction_count\",\n",
    "                 \"internal_transaction_creation_ratio\",\n",
    "                 fillna=True)  # when internal_transaction_count=0\n",
    "\n",
    "columns_to_normalize.remove(\"internal_transaction_creation_count\")"
   ]
  },
  {
   "cell_type": "markdown",
   "metadata": {},
   "source": [
    "Ratio of internal transactions from other sender over the total amount of internal transactions.\n",
    "\n",
    "The range of this new feature is \\[0, 1\\], with a value of 0 when there are no transactions from other sender, 1 when all the internal transactions are from other sender, and an internediate value when there are transactions from the creator and other sender:\n",
    "\n",
    "Also note that if a contract has no internal transactions, the ratio is undefined.\n",
    "\n",
    "We can fill those cases with zeros:"
   ]
  },
  {
   "cell_type": "code",
   "execution_count": 62,
   "metadata": {},
   "outputs": [],
   "source": [
    "add_ratio_column(df,\n",
    "                 \"internal_transaction_from_other_count\",\n",
    "                 \"internal_transaction_count\",\n",
    "                 \"internal_transaction_from_other_ratio\",\n",
    "                 fillna=True)  # when internal_transaction_count=0\n",
    "\n",
    "columns_to_normalize.remove(\"internal_transaction_from_other_count\")"
   ]
  },
  {
   "cell_type": "markdown",
   "metadata": {},
   "source": [
    "Ratio of the number different non-creator internal transaction senders over the total amount of internal transactions from a non-creator sender.\n",
    "\n",
    "The range of this new feature is \\[0, 1\\]. If a contract has no internal transactions sent from non-creator accounts the ratio is undefined but we arbitrarily define it as 0. The value will be 1 / internal_transaction_from_other_count when there is only one non-creator sender, and will grow while the amount of unique non-creator senders grow, with a max value of 1 when all the internal transactions coming from a non-creator account have different senders:"
   ]
  },
  {
   "cell_type": "code",
   "execution_count": 63,
   "metadata": {},
   "outputs": [],
   "source": [
    "add_ratio_column(df,\n",
    "                 \"internal_transaction_other_sender_count\",\n",
    "                 \"internal_transaction_from_other_count\",\n",
    "                 \"internal_transaction_other_sender_ratio\",\n",
    "                 fillna=True)  # when internal_transaction_from_other_count=0\n",
    "\n",
    "columns_to_normalize.remove(\"internal_transaction_other_sender_count\")"
   ]
  },
  {
   "cell_type": "markdown",
   "metadata": {},
   "source": [
    "Internal transactions can have a receiver different than the contract.\n",
    "\n",
    "This is the ratio of internal transactions to another receiver over the total amount of internal transactions.\n",
    "\n",
    "The range of this new feature is \\[0, 1\\], with a value of 0 when there are no transactions to another receiver, 1 when all the internal transactions go to another receiver, and an internediate value when there are transactions to the creator and to another receiver:\n",
    "\n",
    "Also note that if a contract has no internal transactions, the ratio is undefined.\n",
    "\n",
    "We can fill those cases with zeros:"
   ]
  },
  {
   "cell_type": "code",
   "execution_count": 64,
   "metadata": {},
   "outputs": [],
   "source": [
    "add_ratio_column(df,\n",
    "                 \"internal_transaction_to_other_count\",\n",
    "                 \"internal_transaction_count\",\n",
    "                 \"internal_transaction_to_other_ratio\",\n",
    "                 fillna=True)  # when internal_transaction_count=0\n",
    "\n",
    "columns_to_normalize.remove(\"internal_transaction_to_other_count\")"
   ]
  },
  {
   "cell_type": "markdown",
   "metadata": {},
   "source": [
    "Ratio of the number different non-creator internal transaction receivers over the total amount of internal transactions to a non-creator receiver.\n",
    "\n",
    "The range of this new feature is \\[0, 1\\]. If a contract has no internal transactions sent to non-creator accounts the ratio is undefined but we arbitrarily define it as 0. The value will be 1 / internal_transaction_to_other_count when there is only one non-creator receiver, and will grow while the amount of unique non-creator receivers grow, with a max value of 1 when all the internal transactions going to a non-creator account have different receivers:"
   ]
  },
  {
   "cell_type": "code",
   "execution_count": 65,
   "metadata": {},
   "outputs": [],
   "source": [
    "add_ratio_column(df,\n",
    "                 \"internal_transaction_other_receiver_count\",\n",
    "                 \"internal_transaction_to_other_count\",\n",
    "                 \"internal_transaction_other_receiver_ratio\",\n",
    "                 fillna=True)  # when internal_transaction_to_other_count=0\n",
    "\n",
    "columns_to_normalize.remove(\"internal_transaction_other_receiver_count\")"
   ]
  },
  {
   "cell_type": "markdown",
   "metadata": {},
   "source": [
    "### Columns that still might need to be normalized"
   ]
  },
  {
   "cell_type": "code",
   "execution_count": 66,
   "metadata": {},
   "outputs": [
    {
     "name": "stdout",
     "output_type": "stream",
     "text": [
      "contract_compiler_runs\n",
      "contract_num_source_code_lines\n",
      "internal_transaction_count\n",
      "normal_transaction_block_span\n",
      "normal_transaction_count\n"
     ]
    }
   ],
   "source": [
    "for column in sorted(columns_to_normalize):\n",
    "    print(column)"
   ]
  },
  {
   "cell_type": "markdown",
   "metadata": {},
   "source": [
    "## One-hot-encoding the categorical variables"
   ]
  },
  {
   "cell_type": "markdown",
   "metadata": {},
   "source": [
    "These are the columns that need to be one-hot-encoded.\n",
    "\n",
    "We don't encode the mayor version of the contract compiler because it has only one possible value."
   ]
  },
  {
   "cell_type": "code",
   "execution_count": 67,
   "metadata": {},
   "outputs": [],
   "source": [
    "columns_to_one_hot_encode = [\n",
    "    \"contract_compiler_minor_version_index\",\n",
    "    \"contract_compiler_patch_index\",\n",
    "    \"contract_library_index\"\n",
    "]"
   ]
  },
  {
   "cell_type": "markdown",
   "metadata": {},
   "source": [
    "Go column by column, create dummy variables and append them to the dataset.\n",
    "\n",
    "The prefix is the original name of the column without the \"_index\" suffix:"
   ]
  },
  {
   "cell_type": "code",
   "execution_count": 68,
   "metadata": {},
   "outputs": [],
   "source": [
    "columns_one_hot_encoded = []\n",
    "\n",
    "for column in columns_to_one_hot_encode:\n",
    "    dummies = pd.get_dummies(df[column], prefix=column.replace(\"_index\", \"\"))\n",
    "    columns_one_hot_encoded.extend(dummies.columns)\n",
    "    df = pd.concat([df, dummies], axis=1)"
   ]
  },
  {
   "cell_type": "markdown",
   "metadata": {},
   "source": [
    "The names of the columns contain a undesirable \".0\" suffix because at some point the dictionary IDs were transformed into floats.\n",
    "\n",
    "We just correct that by renaming the columns:"
   ]
  },
  {
   "cell_type": "code",
   "execution_count": 69,
   "metadata": {},
   "outputs": [],
   "source": [
    "column_rename = {}\n",
    "for i, column in enumerate(columns_one_hot_encoded):\n",
    "    new_column = column.replace(\".0\", \"\")\n",
    "    columns_one_hot_encoded[i] = column\n",
    "    column_rename[column] = new_column\n",
    "df = df.rename(columns=column_rename)\n",
    "del column_rename  # free some memory"
   ]
  },
  {
   "cell_type": "markdown",
   "metadata": {},
   "source": [
    "## Categorical variables crossed with binary label"
   ]
  },
  {
   "cell_type": "markdown",
   "metadata": {},
   "source": [
    "Split the dataset into honeypot (positive) and non-honeypot (negative):"
   ]
  },
  {
   "cell_type": "code",
   "execution_count": 70,
   "metadata": {},
   "outputs": [],
   "source": [
    "df_positive = df[df.contract_is_honeypot]\n",
    "df_negative = df[~df.contract_is_honeypot]"
   ]
  },
  {
   "cell_type": "markdown",
   "metadata": {},
   "source": [
    "Cross the contract compiler minor version with the binary label:"
   ]
  },
  {
   "cell_type": "code",
   "execution_count": 71,
   "metadata": {},
   "outputs": [
    {
     "data": {
      "text/html": [
       "<div>\n",
       "<style scoped>\n",
       "    .dataframe tbody tr th:only-of-type {\n",
       "        vertical-align: middle;\n",
       "    }\n",
       "\n",
       "    .dataframe tbody tr th {\n",
       "        vertical-align: top;\n",
       "    }\n",
       "\n",
       "    .dataframe thead th {\n",
       "        text-align: right;\n",
       "    }\n",
       "</style>\n",
       "<table border=\"1\" class=\"dataframe\">\n",
       "  <thead>\n",
       "    <tr style=\"text-align: right;\">\n",
       "      <th>contract_is_honeypot</th>\n",
       "      <th>False</th>\n",
       "      <th>True</th>\n",
       "    </tr>\n",
       "    <tr>\n",
       "      <th>contract_has_compiler_version_minor</th>\n",
       "      <th></th>\n",
       "      <th></th>\n",
       "    </tr>\n",
       "  </thead>\n",
       "  <tbody>\n",
       "    <tr>\n",
       "      <th>False</th>\n",
       "      <td>1802931</td>\n",
       "      <td>0</td>\n",
       "    </tr>\n",
       "    <tr>\n",
       "      <th>True</th>\n",
       "      <td>216208</td>\n",
       "      <td>295</td>\n",
       "    </tr>\n",
       "  </tbody>\n",
       "</table>\n",
       "</div>"
      ],
      "text/plain": [
       "contract_is_honeypot                   False  True \n",
       "contract_has_compiler_version_minor                \n",
       "False                                1802931      0\n",
       "True                                  216208    295"
      ]
     },
     "execution_count": 71,
     "metadata": {},
     "output_type": "execute_result"
    }
   ],
   "source": [
    "pd.crosstab(~df.contract_compiler_minor_version_index.isna(),\n",
    "            df.contract_is_honeypot,\n",
    "            rownames=[\"contract_has_compiler_version_minor\"])"
   ]
  },
  {
   "cell_type": "markdown",
   "metadata": {},
   "source": [
    "Contract count for all the compiler minor versions:"
   ]
  },
  {
   "cell_type": "code",
   "execution_count": 72,
   "metadata": {},
   "outputs": [
    {
     "data": {
      "text/html": [
       "<table border=\"1\" class=\"dataframe\">\n",
       "  <thead>\n",
       "    <tr style=\"text-align: right;\">\n",
       "      <th>Value</th>\n",
       "      <th>Honeypot</th>\n",
       "      <th>Non-Honeypot</th>\n",
       "      <th>Total</th>\n",
       "    </tr>\n",
       "  </thead>\n",
       "  <tbody>\n",
       "    <tr>\n",
       "      <td>4</td>\n",
       "      <td>294</td>\n",
       "      <td>165266</td>\n",
       "      <td>165560</td>\n",
       "    </tr>\n",
       "    <tr>\n",
       "      <td>3</td>\n",
       "      <td>1</td>\n",
       "      <td>50787</td>\n",
       "      <td>50788</td>\n",
       "    </tr>\n",
       "    <tr>\n",
       "      <td>1</td>\n",
       "      <td>0</td>\n",
       "      <td>29</td>\n",
       "      <td>29</td>\n",
       "    </tr>\n",
       "    <tr>\n",
       "      <td>2</td>\n",
       "      <td>0</td>\n",
       "      <td>126</td>\n",
       "      <td>126</td>\n",
       "    </tr>\n",
       "  </tbody>\n",
       "</table>"
      ],
      "text/plain": [
       "<IPython.core.display.HTML object>"
      ]
     },
     "metadata": {},
     "output_type": "display_data"
    }
   ],
   "source": [
    "categorical_counts(df_positive,\n",
    "                   df_negative,\n",
    "                   contract_compiler_minor_versions,\n",
    "                   \"contract_compiler_minor_version_\")"
   ]
  },
  {
   "cell_type": "markdown",
   "metadata": {},
   "source": [
    "Cross the contract compiler patch version with the binary label:"
   ]
  },
  {
   "cell_type": "code",
   "execution_count": 73,
   "metadata": {},
   "outputs": [
    {
     "data": {
      "text/html": [
       "<div>\n",
       "<style scoped>\n",
       "    .dataframe tbody tr th:only-of-type {\n",
       "        vertical-align: middle;\n",
       "    }\n",
       "\n",
       "    .dataframe tbody tr th {\n",
       "        vertical-align: top;\n",
       "    }\n",
       "\n",
       "    .dataframe thead th {\n",
       "        text-align: right;\n",
       "    }\n",
       "</style>\n",
       "<table border=\"1\" class=\"dataframe\">\n",
       "  <thead>\n",
       "    <tr style=\"text-align: right;\">\n",
       "      <th>contract_is_honeypot</th>\n",
       "      <th>False</th>\n",
       "      <th>True</th>\n",
       "    </tr>\n",
       "    <tr>\n",
       "      <th>contract_has_compiler_version_patch</th>\n",
       "      <th></th>\n",
       "      <th></th>\n",
       "    </tr>\n",
       "  </thead>\n",
       "  <tbody>\n",
       "    <tr>\n",
       "      <th>False</th>\n",
       "      <td>1802931</td>\n",
       "      <td>0</td>\n",
       "    </tr>\n",
       "    <tr>\n",
       "      <th>True</th>\n",
       "      <td>216208</td>\n",
       "      <td>295</td>\n",
       "    </tr>\n",
       "  </tbody>\n",
       "</table>\n",
       "</div>"
      ],
      "text/plain": [
       "contract_is_honeypot                   False  True \n",
       "contract_has_compiler_version_patch                \n",
       "False                                1802931      0\n",
       "True                                  216208    295"
      ]
     },
     "execution_count": 73,
     "metadata": {},
     "output_type": "execute_result"
    }
   ],
   "source": [
    "pd.crosstab(~df.contract_compiler_patch_index.isna(),\n",
    "            df.contract_is_honeypot,\n",
    "            rownames=[\"contract_has_compiler_version_patch\"])"
   ]
  },
  {
   "cell_type": "markdown",
   "metadata": {},
   "source": [
    "Contract count for the top five most common compiler patch versions among honeypots:"
   ]
  },
  {
   "cell_type": "code",
   "execution_count": 74,
   "metadata": {},
   "outputs": [
    {
     "data": {
      "text/html": [
       "<table border=\"1\" class=\"dataframe\">\n",
       "  <thead>\n",
       "    <tr style=\"text-align: right;\">\n",
       "      <th>Value</th>\n",
       "      <th>Honeypot</th>\n",
       "      <th>Non-Honeypot</th>\n",
       "      <th>Total</th>\n",
       "    </tr>\n",
       "  </thead>\n",
       "  <tbody>\n",
       "    <tr>\n",
       "      <td>19+commit.c4cbbb05</td>\n",
       "      <td>124</td>\n",
       "      <td>9950</td>\n",
       "      <td>10074</td>\n",
       "    </tr>\n",
       "    <tr>\n",
       "      <td>20+commit.3155dd80</td>\n",
       "      <td>62</td>\n",
       "      <td>2937</td>\n",
       "      <td>2999</td>\n",
       "    </tr>\n",
       "    <tr>\n",
       "      <td>24+commit.e67f0147</td>\n",
       "      <td>26</td>\n",
       "      <td>90428</td>\n",
       "      <td>90454</td>\n",
       "    </tr>\n",
       "    <tr>\n",
       "      <td>18+commit.9cf6e910</td>\n",
       "      <td>19</td>\n",
       "      <td>7187</td>\n",
       "      <td>7206</td>\n",
       "    </tr>\n",
       "    <tr>\n",
       "      <td>17+commit.bdeb9e52</td>\n",
       "      <td>12</td>\n",
       "      <td>751</td>\n",
       "      <td>763</td>\n",
       "    </tr>\n",
       "  </tbody>\n",
       "</table>"
      ],
      "text/plain": [
       "<IPython.core.display.HTML object>"
      ]
     },
     "metadata": {},
     "output_type": "display_data"
    }
   ],
   "source": [
    "categorical_counts(df_positive,\n",
    "                   df_negative,\n",
    "                   contract_compiler_patch_versions,\n",
    "                   \"contract_compiler_patch_\",\n",
    "                   limit=5)"
   ]
  },
  {
   "cell_type": "markdown",
   "metadata": {},
   "source": [
    "Contract count for the top five most common libraries among honeypots:"
   ]
  },
  {
   "cell_type": "code",
   "execution_count": 75,
   "metadata": {},
   "outputs": [
    {
     "data": {
      "text/html": [
       "<table border=\"1\" class=\"dataframe\">\n",
       "  <thead>\n",
       "    <tr style=\"text-align: right;\">\n",
       "      <th>Value</th>\n",
       "      <th>Honeypot</th>\n",
       "      <th>Non-Honeypot</th>\n",
       "      <th>Total</th>\n",
       "    </tr>\n",
       "  </thead>\n",
       "  <tbody>\n",
       "    <tr>\n",
       "      <td>GroveLib:d07ce4329b27eb8896...</td>\n",
       "      <td>0</td>\n",
       "      <td>1</td>\n",
       "      <td>1</td>\n",
       "    </tr>\n",
       "    <tr>\n",
       "      <td>AccountingLib:7de615d8a5174...</td>\n",
       "      <td>0</td>\n",
       "      <td>1</td>\n",
       "      <td>1</td>\n",
       "    </tr>\n",
       "    <tr>\n",
       "      <td>SchedulerLib:e54d323f9ef17c...</td>\n",
       "      <td>0</td>\n",
       "      <td>1</td>\n",
       "      <td>1</td>\n",
       "    </tr>\n",
       "    <tr>\n",
       "      <td>GroveLib:7c1eb207c07e7ab13c...</td>\n",
       "      <td>0</td>\n",
       "      <td>1</td>\n",
       "      <td>1</td>\n",
       "    </tr>\n",
       "    <tr>\n",
       "      <td>AccountingLib:89efe605e9ecb...</td>\n",
       "      <td>0</td>\n",
       "      <td>1</td>\n",
       "      <td>1</td>\n",
       "    </tr>\n",
       "  </tbody>\n",
       "</table>"
      ],
      "text/plain": [
       "<IPython.core.display.HTML object>"
      ]
     },
     "metadata": {},
     "output_type": "display_data"
    }
   ],
   "source": [
    "categorical_counts(df_positive,\n",
    "                   df_negative,\n",
    "                   contract_libraries,\n",
    "                   \"contract_library_\",\n",
    "                   limit=5)"
   ]
  },
  {
   "cell_type": "markdown",
   "metadata": {},
   "source": [
    "## Booleans crossed with the Binary Label"
   ]
  },
  {
   "cell_type": "markdown",
   "metadata": {},
   "source": [
    "Create a feature indicating if the library is defined:"
   ]
  },
  {
   "cell_type": "code",
   "execution_count": 76,
   "metadata": {},
   "outputs": [],
   "source": [
    "df[\"contract_has_library\"] = ~df.contract_library_index.isna()"
   ]
  },
  {
   "cell_type": "markdown",
   "metadata": {},
   "source": [
    "Cross the library binary flag with the binary label:"
   ]
  },
  {
   "cell_type": "code",
   "execution_count": 77,
   "metadata": {},
   "outputs": [
    {
     "data": {
      "text/html": [
       "<div>\n",
       "<style scoped>\n",
       "    .dataframe tbody tr th:only-of-type {\n",
       "        vertical-align: middle;\n",
       "    }\n",
       "\n",
       "    .dataframe tbody tr th {\n",
       "        vertical-align: top;\n",
       "    }\n",
       "\n",
       "    .dataframe thead th {\n",
       "        text-align: right;\n",
       "    }\n",
       "</style>\n",
       "<table border=\"1\" class=\"dataframe\">\n",
       "  <thead>\n",
       "    <tr style=\"text-align: right;\">\n",
       "      <th>contract_is_honeypot</th>\n",
       "      <th>False</th>\n",
       "      <th>True</th>\n",
       "    </tr>\n",
       "    <tr>\n",
       "      <th>contract_has_library</th>\n",
       "      <th></th>\n",
       "      <th></th>\n",
       "    </tr>\n",
       "  </thead>\n",
       "  <tbody>\n",
       "    <tr>\n",
       "      <th>False</th>\n",
       "      <td>2013080</td>\n",
       "      <td>295</td>\n",
       "    </tr>\n",
       "    <tr>\n",
       "      <th>True</th>\n",
       "      <td>6059</td>\n",
       "      <td>0</td>\n",
       "    </tr>\n",
       "  </tbody>\n",
       "</table>\n",
       "</div>"
      ],
      "text/plain": [
       "contract_is_honeypot    False  True \n",
       "contract_has_library                \n",
       "False                 2013080    295\n",
       "True                     6059      0"
      ]
     },
     "execution_count": 77,
     "metadata": {},
     "output_type": "execute_result"
    }
   ],
   "source": [
    "pd.crosstab(df.contract_has_library, df.contract_is_honeypot)"
   ]
  },
  {
   "cell_type": "markdown",
   "metadata": {},
   "source": [
    "It makes sense that honeypot contracts always have byte code.\n",
    "\n",
    "The ones without byte code don't work at all, they are errors."
   ]
  },
  {
   "cell_type": "code",
   "execution_count": 78,
   "metadata": {},
   "outputs": [
    {
     "data": {
      "text/html": [
       "<div>\n",
       "<style scoped>\n",
       "    .dataframe tbody tr th:only-of-type {\n",
       "        vertical-align: middle;\n",
       "    }\n",
       "\n",
       "    .dataframe tbody tr th {\n",
       "        vertical-align: top;\n",
       "    }\n",
       "\n",
       "    .dataframe thead th {\n",
       "        text-align: right;\n",
       "    }\n",
       "</style>\n",
       "<table border=\"1\" class=\"dataframe\">\n",
       "  <thead>\n",
       "    <tr style=\"text-align: right;\">\n",
       "      <th>contract_is_honeypot</th>\n",
       "      <th>False</th>\n",
       "      <th>True</th>\n",
       "    </tr>\n",
       "    <tr>\n",
       "      <th>contract_has_byte_code</th>\n",
       "      <th></th>\n",
       "      <th></th>\n",
       "    </tr>\n",
       "  </thead>\n",
       "  <tbody>\n",
       "    <tr>\n",
       "      <th>False</th>\n",
       "      <td>57664</td>\n",
       "      <td>0</td>\n",
       "    </tr>\n",
       "    <tr>\n",
       "      <th>True</th>\n",
       "      <td>1961475</td>\n",
       "      <td>295</td>\n",
       "    </tr>\n",
       "  </tbody>\n",
       "</table>\n",
       "</div>"
      ],
      "text/plain": [
       "contract_is_honeypot      False  True \n",
       "contract_has_byte_code                \n",
       "False                     57664      0\n",
       "True                    1961475    295"
      ]
     },
     "execution_count": 78,
     "metadata": {},
     "output_type": "execute_result"
    }
   ],
   "source": [
    "pd.crosstab(df.contract_has_byte_code, df.contract_is_honeypot)"
   ]
  },
  {
   "cell_type": "markdown",
   "metadata": {},
   "source": [
    "It makes sense that honeypot contracts always have source code by the definition given in the paper."
   ]
  },
  {
   "cell_type": "code",
   "execution_count": 79,
   "metadata": {},
   "outputs": [
    {
     "data": {
      "text/html": [
       "<div>\n",
       "<style scoped>\n",
       "    .dataframe tbody tr th:only-of-type {\n",
       "        vertical-align: middle;\n",
       "    }\n",
       "\n",
       "    .dataframe tbody tr th {\n",
       "        vertical-align: top;\n",
       "    }\n",
       "\n",
       "    .dataframe thead th {\n",
       "        text-align: right;\n",
       "    }\n",
       "</style>\n",
       "<table border=\"1\" class=\"dataframe\">\n",
       "  <thead>\n",
       "    <tr style=\"text-align: right;\">\n",
       "      <th>contract_is_honeypot</th>\n",
       "      <th>False</th>\n",
       "      <th>True</th>\n",
       "    </tr>\n",
       "    <tr>\n",
       "      <th>contract_has_source_code</th>\n",
       "      <th></th>\n",
       "      <th></th>\n",
       "    </tr>\n",
       "  </thead>\n",
       "  <tbody>\n",
       "    <tr>\n",
       "      <th>False</th>\n",
       "      <td>1802931</td>\n",
       "      <td>0</td>\n",
       "    </tr>\n",
       "    <tr>\n",
       "      <th>True</th>\n",
       "      <td>216208</td>\n",
       "      <td>295</td>\n",
       "    </tr>\n",
       "  </tbody>\n",
       "</table>\n",
       "</div>"
      ],
      "text/plain": [
       "contract_is_honeypot        False  True \n",
       "contract_has_source_code                \n",
       "False                     1802931      0\n",
       "True                       216208    295"
      ]
     },
     "execution_count": 79,
     "metadata": {},
     "output_type": "execute_result"
    }
   ],
   "source": [
    "pd.crosstab(df.contract_has_source_code, df.contract_is_honeypot)"
   ]
  },
  {
   "cell_type": "markdown",
   "metadata": {},
   "source": [
    "Split into types depending on the existence or non-existence of internal transactions:"
   ]
  },
  {
   "cell_type": "code",
   "execution_count": 80,
   "metadata": {},
   "outputs": [],
   "source": [
    "df[\"has_internal_transactions\"] = df[\"internal_transaction_count\"] > 0"
   ]
  },
  {
   "cell_type": "markdown",
   "metadata": {},
   "source": [
    "Cross the internal transactions binary flag with the binary label:"
   ]
  },
  {
   "cell_type": "code",
   "execution_count": 81,
   "metadata": {
    "scrolled": true
   },
   "outputs": [
    {
     "data": {
      "text/html": [
       "<div>\n",
       "<style scoped>\n",
       "    .dataframe tbody tr th:only-of-type {\n",
       "        vertical-align: middle;\n",
       "    }\n",
       "\n",
       "    .dataframe tbody tr th {\n",
       "        vertical-align: top;\n",
       "    }\n",
       "\n",
       "    .dataframe thead th {\n",
       "        text-align: right;\n",
       "    }\n",
       "</style>\n",
       "<table border=\"1\" class=\"dataframe\">\n",
       "  <thead>\n",
       "    <tr style=\"text-align: right;\">\n",
       "      <th>contract_is_honeypot</th>\n",
       "      <th>False</th>\n",
       "      <th>True</th>\n",
       "    </tr>\n",
       "    <tr>\n",
       "      <th>has_internal_transactions</th>\n",
       "      <th></th>\n",
       "      <th></th>\n",
       "    </tr>\n",
       "  </thead>\n",
       "  <tbody>\n",
       "    <tr>\n",
       "      <th>False</th>\n",
       "      <td>1651206</td>\n",
       "      <td>138</td>\n",
       "    </tr>\n",
       "    <tr>\n",
       "      <th>True</th>\n",
       "      <td>367933</td>\n",
       "      <td>157</td>\n",
       "    </tr>\n",
       "  </tbody>\n",
       "</table>\n",
       "</div>"
      ],
      "text/plain": [
       "contract_is_honeypot         False  True \n",
       "has_internal_transactions                \n",
       "False                      1651206    138\n",
       "True                        367933    157"
      ]
     },
     "execution_count": 81,
     "metadata": {},
     "output_type": "execute_result"
    }
   ],
   "source": [
    "pd.crosstab(df.has_internal_transactions, df.contract_is_honeypot)"
   ]
  },
  {
   "cell_type": "markdown",
   "metadata": {},
   "source": [
    "## Filtering"
   ]
  },
  {
   "cell_type": "markdown",
   "metadata": {},
   "source": [
    "### Filter out contracts without Source Code or Byte Code"
   ]
  },
  {
   "cell_type": "code",
   "execution_count": 82,
   "metadata": {},
   "outputs": [],
   "source": [
    "df_filtered = df[df.contract_has_byte_code & df.contract_has_source_code]"
   ]
  },
  {
   "cell_type": "markdown",
   "metadata": {},
   "source": [
    "Check the new size:"
   ]
  },
  {
   "cell_type": "code",
   "execution_count": 83,
   "metadata": {},
   "outputs": [
    {
     "name": "stdout",
     "output_type": "stream",
     "text": [
      "The dataset has 158863 rows and 1283 columns\n"
     ]
    }
   ],
   "source": [
    "print_dimensions(df_filtered)"
   ]
  },
  {
   "cell_type": "markdown",
   "metadata": {},
   "source": [
    "Check the new proportion of classes:"
   ]
  },
  {
   "cell_type": "code",
   "execution_count": 84,
   "metadata": {},
   "outputs": [
    {
     "data": {
      "text/plain": [
       "False    158568\n",
       "True        295\n",
       "Name: contract_is_honeypot, dtype: int64"
      ]
     },
     "execution_count": 84,
     "metadata": {},
     "output_type": "execute_result"
    }
   ],
   "source": [
    "df_filtered.contract_is_honeypot.value_counts()"
   ]
  },
  {
   "cell_type": "markdown",
   "metadata": {},
   "source": [
    "### Filter out columns that are not useful for machine learning"
   ]
  },
  {
   "cell_type": "code",
   "execution_count": 85,
   "metadata": {},
   "outputs": [],
   "source": [
    "df_filtered = df_filtered.drop([\n",
    "    # booleans that already filtered the dataset\n",
    "    \"contract_has_source_code\",\n",
    "    \"contract_has_byte_code\",\n",
    "    \n",
    "    # counts transformed into ratios\n",
    "    \"normal_transaction_block_count\",\n",
    "    \"normal_transaction_before_creation_count\",\n",
    "    \"normal_transaction_other_sender_count\",\n",
    "    \"normal_transaction_from_other_count\",\n",
    "    \"internal_transaction_block_count\",\n",
    "    \"internal_transaction_creation_count\",\n",
    "    \"internal_transaction_from_other_count\",\n",
    "    \"internal_transaction_other_sender_count\",\n",
    "    \"internal_transaction_to_other_count\",\n",
    "    \"internal_transaction_other_receiver_count\",\n",
    "    \n",
    "    # label encoded features replaced by one hot encoded features\n",
    "    \"contract_compiler_major_version_index\",  # this was discarded for having no variance\n",
    "    \"contract_compiler_minor_version_index\",\n",
    "    \"contract_compiler_patch_index\",\n",
    "    \"contract_library_index\",\n",
    "    \n",
    "    # not useful for machine learning, only useful for plots\n",
    "    \"normal_transaction_first_block\",  # this was just for reference but not an acutal feature\n",
    "    \"normal_transaction_last_block\",  # this was just for reference but not an acutal feature\n",
    "], axis=1)"
   ]
  },
  {
   "cell_type": "markdown",
   "metadata": {},
   "source": [
    "List the remaining columns just in case (ignoring the one hot encodings and frequencies):"
   ]
  },
  {
   "cell_type": "code",
   "execution_count": 86,
   "metadata": {},
   "outputs": [
    {
     "name": "stdout",
     "output_type": "stream",
     "text": [
      "contract_address\n",
      "contract_compiler_runs\n",
      "contract_has_library\n",
      "contract_has_money_flow\n",
      "contract_is_honeypot\n",
      "contract_label_index\n",
      "contract_num_source_code_lines\n",
      "has_internal_transactions\n",
      "internal_transaction_block_ratio\n",
      "internal_transaction_count\n",
      "internal_transaction_count_per_block_mean\n",
      "internal_transaction_count_per_block_std\n",
      "internal_transaction_creation_ratio\n",
      "internal_transaction_from_other_ratio\n",
      "internal_transaction_gas_mean\n",
      "internal_transaction_gas_std\n",
      "internal_transaction_gas_used_mean\n",
      "internal_transaction_gas_used_std\n",
      "internal_transaction_other_receiver_ratio\n",
      "internal_transaction_other_sender_ratio\n",
      "internal_transaction_to_other_ratio\n",
      "internal_transaction_value_mean\n",
      "internal_transaction_value_std\n",
      "normal_transaction_before_creation_ratio\n",
      "normal_transaction_block_delta_mean\n",
      "normal_transaction_block_delta_std\n",
      "normal_transaction_block_ratio\n",
      "normal_transaction_block_span\n",
      "normal_transaction_count\n",
      "normal_transaction_count_per_block_mean\n",
      "normal_transaction_count_per_block_std\n",
      "normal_transaction_from_other_ratio\n",
      "normal_transaction_gas_mean\n",
      "normal_transaction_gas_std\n",
      "normal_transaction_gas_used_mean\n",
      "normal_transaction_gas_used_std\n",
      "normal_transaction_other_sender_ratio\n",
      "normal_transaction_time_delta_mean\n",
      "normal_transaction_time_delta_std\n",
      "normal_transaction_value_mean\n",
      "normal_transaction_value_std\n"
     ]
    }
   ],
   "source": [
    "for column in sorted(df_filtered.columns):\n",
    "    if not column.startswith(\"contract_compiler_minor_version_\") \\\n",
    "        and not column.startswith(\"contract_compiler_patch_\") \\\n",
    "        and not column.startswith(\"contract_library_\") \\\n",
    "        and not column.startswith(\"symbol_\"):\n",
    "        print(column)"
   ]
  },
  {
   "cell_type": "markdown",
   "metadata": {},
   "source": [
    "### Filter out columns without variance"
   ]
  },
  {
   "cell_type": "code",
   "execution_count": 87,
   "metadata": {
    "scrolled": true
   },
   "outputs": [
    {
     "name": "stdout",
     "output_type": "stream",
     "text": [
      "symbol_8\n",
      "symbol_11\n",
      "symbol_14\n",
      "symbol_15\n",
      "symbol_16\n",
      "symbol_17\n",
      "symbol_18\n",
      "symbol_19\n",
      "symbol_21\n",
      "symbol_23\n",
      "symbol_24\n",
      "symbol_28\n",
      "symbol_32\n",
      "symbol_35\n",
      "symbol_37\n",
      "symbol_40\n",
      "symbol_45\n",
      "symbol_48\n",
      "symbol_50\n",
      "symbol_52\n",
      "symbol_56\n",
      "symbol_58\n",
      "symbol_60\n",
      "symbol_64\n",
      "symbol_68\n",
      "symbol_70\n",
      "symbol_72\n",
      "symbol_74\n",
      "symbol_80\n",
      "symbol_84\n",
      "symbol_89\n",
      "symbol_92\n",
      "symbol_94\n",
      "symbol_97\n",
      "symbol_99\n",
      "symbol_101\n",
      "symbol_107\n",
      "symbol_109\n",
      "symbol_111\n",
      "symbol_115\n",
      "symbol_117\n",
      "symbol_118\n",
      "symbol_119\n",
      "symbol_120\n",
      "symbol_124\n",
      "symbol_125\n",
      "symbol_126\n",
      "symbol_128\n",
      "symbol_130\n",
      "symbol_131\n",
      "symbol_134\n",
      "symbol_136\n",
      "symbol_166\n",
      "symbol_167\n",
      "symbol_168\n",
      "symbol_169\n",
      "symbol_170\n",
      "symbol_172\n",
      "symbol_175\n",
      "symbol_176\n",
      "symbol_186\n",
      "symbol_188\n",
      "symbol_192\n",
      "symbol_196\n",
      "symbol_200\n",
      "symbol_206\n",
      "symbol_210\n",
      "symbol_212\n"
     ]
    }
   ],
   "source": [
    "columns_ignore_variance = set([\n",
    "    \"contract_address\",\n",
    "    \"contract_evaluation_positive\",\n",
    "    \"contract_label_index\",\n",
    "    \"contract_label_name\",\n",
    "])\n",
    "\n",
    "columns_zero_variance = []\n",
    "for column in df_filtered.columns:\n",
    "    if column not in columns_ignore_variance:\n",
    "        if df_filtered[column].var() < 1e-6:\n",
    "            columns_zero_variance.append(column)\n",
    "            print(column)"
   ]
  },
  {
   "cell_type": "code",
   "execution_count": 88,
   "metadata": {},
   "outputs": [],
   "source": [
    "df_filtered = df_filtered.drop(columns_zero_variance, axis=1)"
   ]
  },
  {
   "cell_type": "code",
   "execution_count": 89,
   "metadata": {},
   "outputs": [
    {
     "name": "stdout",
     "output_type": "stream",
     "text": [
      "The dataset has 158863 rows and 1197 columns\n"
     ]
    }
   ],
   "source": [
    "print_dimensions(df_filtered)"
   ]
  },
  {
   "cell_type": "markdown",
   "metadata": {},
   "source": [
    "###  Filter out the library one-hot-encoded columns\n",
    "\n",
    "There are no honeypots with libraries."
   ]
  },
  {
   "cell_type": "code",
   "execution_count": 90,
   "metadata": {},
   "outputs": [
    {
     "name": "stdout",
     "output_type": "stream",
     "text": [
      "contract_library_0\n",
      "contract_library_1\n",
      "contract_library_2\n",
      "contract_library_3\n",
      "contract_library_4\n",
      "contract_library_5\n",
      "contract_library_6\n",
      "contract_library_7\n",
      "contract_library_8\n",
      "contract_library_9\n",
      "contract_library_10\n",
      "contract_library_11\n",
      "contract_library_12\n",
      "contract_library_13\n",
      "contract_library_14\n",
      "contract_library_15\n",
      "contract_library_16\n",
      "contract_library_17\n",
      "contract_library_18\n",
      "contract_library_19\n",
      "contract_library_20\n",
      "contract_library_21\n",
      "contract_library_22\n",
      "contract_library_23\n",
      "contract_library_24\n",
      "contract_library_25\n",
      "contract_library_26\n",
      "contract_library_27\n",
      "contract_library_28\n",
      "contract_library_29\n",
      "contract_library_30\n",
      "contract_library_31\n",
      "contract_library_32\n",
      "contract_library_33\n",
      "contract_library_34\n",
      "contract_library_35\n",
      "contract_library_36\n",
      "contract_library_37\n",
      "contract_library_38\n",
      "contract_library_39\n",
      "contract_library_40\n",
      "contract_library_41\n",
      "contract_library_42\n",
      "contract_library_43\n",
      "contract_library_44\n",
      "contract_library_45\n",
      "contract_library_46\n",
      "contract_library_47\n",
      "contract_library_48\n",
      "contract_library_49\n",
      "contract_library_50\n",
      "contract_library_51\n",
      "contract_library_52\n",
      "contract_library_53\n",
      "contract_library_54\n",
      "contract_library_55\n",
      "contract_library_56\n",
      "contract_library_57\n",
      "contract_library_58\n",
      "contract_library_59\n",
      "contract_library_60\n",
      "contract_library_61\n",
      "contract_library_62\n",
      "contract_library_63\n",
      "contract_library_64\n",
      "contract_library_65\n",
      "contract_library_66\n",
      "contract_library_67\n",
      "contract_library_68\n",
      "contract_library_69\n",
      "contract_library_70\n",
      "contract_library_71\n",
      "contract_library_72\n",
      "contract_library_73\n",
      "contract_library_74\n",
      "contract_library_75\n",
      "contract_library_76\n",
      "contract_library_77\n",
      "contract_library_78\n",
      "contract_library_79\n",
      "contract_library_80\n",
      "contract_library_81\n",
      "contract_library_82\n",
      "contract_library_83\n",
      "contract_library_84\n",
      "contract_library_85\n",
      "contract_library_86\n",
      "contract_library_87\n",
      "contract_library_88\n",
      "contract_library_89\n",
      "contract_library_90\n",
      "contract_library_91\n",
      "contract_library_92\n",
      "contract_library_93\n",
      "contract_library_94\n",
      "contract_library_95\n",
      "contract_library_96\n",
      "contract_library_97\n",
      "contract_library_98\n",
      "contract_library_99\n",
      "contract_library_100\n",
      "contract_library_101\n",
      "contract_library_102\n",
      "contract_library_103\n",
      "contract_library_104\n",
      "contract_library_105\n",
      "contract_library_106\n",
      "contract_library_107\n",
      "contract_library_108\n",
      "contract_library_109\n",
      "contract_library_110\n",
      "contract_library_111\n",
      "contract_library_112\n",
      "contract_library_113\n",
      "contract_library_114\n",
      "contract_library_115\n",
      "contract_library_116\n",
      "contract_library_117\n",
      "contract_library_118\n",
      "contract_library_119\n",
      "contract_library_120\n",
      "contract_library_121\n",
      "contract_library_122\n",
      "contract_library_123\n",
      "contract_library_124\n",
      "contract_library_125\n",
      "contract_library_126\n",
      "contract_library_127\n",
      "contract_library_128\n",
      "contract_library_129\n",
      "contract_library_130\n",
      "contract_library_131\n",
      "contract_library_132\n",
      "contract_library_133\n",
      "contract_library_134\n",
      "contract_library_135\n",
      "contract_library_136\n",
      "contract_library_137\n",
      "contract_library_138\n",
      "contract_library_139\n",
      "contract_library_140\n",
      "contract_library_141\n",
      "contract_library_142\n",
      "contract_library_143\n",
      "contract_library_144\n",
      "contract_library_145\n",
      "contract_library_146\n",
      "contract_library_147\n",
      "contract_library_148\n",
      "contract_library_149\n",
      "contract_library_150\n",
      "contract_library_151\n",
      "contract_library_152\n",
      "contract_library_153\n",
      "contract_library_154\n",
      "contract_library_155\n",
      "contract_library_156\n",
      "contract_library_157\n",
      "contract_library_158\n",
      "contract_library_159\n",
      "contract_library_160\n",
      "contract_library_161\n",
      "contract_library_162\n",
      "contract_library_163\n",
      "contract_library_164\n",
      "contract_library_165\n",
      "contract_library_166\n",
      "contract_library_167\n",
      "contract_library_168\n",
      "contract_library_169\n",
      "contract_library_170\n",
      "contract_library_171\n",
      "contract_library_172\n",
      "contract_library_173\n",
      "contract_library_174\n",
      "contract_library_175\n",
      "contract_library_176\n",
      "contract_library_177\n",
      "contract_library_178\n",
      "contract_library_179\n",
      "contract_library_180\n",
      "contract_library_181\n",
      "contract_library_182\n",
      "contract_library_183\n",
      "contract_library_184\n",
      "contract_library_185\n",
      "contract_library_186\n",
      "contract_library_187\n",
      "contract_library_188\n",
      "contract_library_189\n",
      "contract_library_190\n",
      "contract_library_191\n",
      "contract_library_192\n",
      "contract_library_193\n",
      "contract_library_194\n",
      "contract_library_195\n",
      "contract_library_196\n",
      "contract_library_197\n",
      "contract_library_198\n",
      "contract_library_199\n",
      "contract_library_200\n",
      "contract_library_201\n",
      "contract_library_202\n",
      "contract_library_203\n",
      "contract_library_204\n",
      "contract_library_205\n",
      "contract_library_206\n",
      "contract_library_207\n",
      "contract_library_208\n",
      "contract_library_209\n",
      "contract_library_210\n",
      "contract_library_211\n",
      "contract_library_212\n",
      "contract_library_213\n",
      "contract_library_214\n",
      "contract_library_215\n",
      "contract_library_216\n",
      "contract_library_217\n",
      "contract_library_218\n",
      "contract_library_219\n",
      "contract_library_220\n",
      "contract_library_221\n",
      "contract_library_222\n",
      "contract_library_223\n",
      "contract_library_224\n",
      "contract_library_225\n",
      "contract_library_226\n",
      "contract_library_227\n",
      "contract_library_228\n",
      "contract_library_229\n",
      "contract_library_230\n",
      "contract_library_231\n",
      "contract_library_232\n",
      "contract_library_233\n",
      "contract_library_234\n",
      "contract_library_235\n",
      "contract_library_236\n",
      "contract_library_237\n",
      "contract_library_238\n",
      "contract_library_239\n",
      "contract_library_240\n",
      "contract_library_241\n",
      "contract_library_242\n",
      "contract_library_243\n",
      "contract_library_244\n",
      "contract_library_245\n",
      "contract_library_246\n",
      "contract_library_247\n",
      "contract_library_248\n",
      "contract_library_249\n",
      "contract_library_250\n",
      "contract_library_251\n",
      "contract_library_252\n",
      "contract_library_253\n",
      "contract_library_254\n",
      "contract_library_255\n",
      "contract_library_256\n",
      "contract_library_257\n",
      "contract_library_258\n",
      "contract_library_259\n",
      "contract_library_260\n",
      "contract_library_261\n",
      "contract_library_262\n",
      "contract_library_263\n",
      "contract_library_264\n",
      "contract_library_265\n",
      "contract_library_266\n",
      "contract_library_267\n",
      "contract_library_268\n",
      "contract_library_269\n",
      "contract_library_270\n",
      "contract_library_271\n",
      "contract_library_272\n",
      "contract_library_273\n",
      "contract_library_274\n",
      "contract_library_275\n",
      "contract_library_276\n",
      "contract_library_277\n",
      "contract_library_278\n",
      "contract_library_279\n",
      "contract_library_280\n",
      "contract_library_281\n",
      "contract_library_282\n",
      "contract_library_283\n",
      "contract_library_284\n",
      "contract_library_285\n",
      "contract_library_286\n",
      "contract_library_287\n",
      "contract_library_288\n",
      "contract_library_289\n",
      "contract_library_290\n",
      "contract_library_291\n",
      "contract_library_292\n",
      "contract_library_293\n",
      "contract_library_294\n",
      "contract_library_295\n",
      "contract_library_296\n",
      "contract_library_297\n",
      "contract_library_298\n",
      "contract_library_299\n",
      "contract_library_300\n",
      "contract_library_301\n",
      "contract_library_302\n",
      "contract_library_303\n",
      "contract_library_304\n",
      "contract_library_305\n",
      "contract_library_306\n",
      "contract_library_307\n",
      "contract_library_308\n",
      "contract_library_309\n",
      "contract_library_310\n",
      "contract_library_311\n",
      "contract_library_312\n",
      "contract_library_313\n",
      "contract_library_314\n",
      "contract_library_315\n",
      "contract_library_316\n",
      "contract_library_317\n",
      "contract_library_318\n",
      "contract_library_319\n",
      "contract_library_320\n",
      "contract_library_321\n",
      "contract_library_322\n",
      "contract_library_323\n",
      "contract_library_324\n",
      "contract_library_325\n",
      "contract_library_326\n",
      "contract_library_327\n",
      "contract_library_328\n",
      "contract_library_329\n",
      "contract_library_330\n",
      "contract_library_331\n",
      "contract_library_332\n",
      "contract_library_333\n",
      "contract_library_334\n",
      "contract_library_335\n",
      "contract_library_336\n",
      "contract_library_337\n",
      "contract_library_338\n",
      "contract_library_339\n",
      "contract_library_340\n",
      "contract_library_341\n",
      "contract_library_342\n",
      "contract_library_343\n",
      "contract_library_344\n",
      "contract_library_345\n",
      "contract_library_346\n",
      "contract_library_347\n",
      "contract_library_348\n",
      "contract_library_349\n",
      "contract_library_350\n",
      "contract_library_351\n",
      "contract_library_352\n",
      "contract_library_353\n",
      "contract_library_354\n",
      "contract_library_355\n",
      "contract_library_356\n",
      "contract_library_357\n",
      "contract_library_358\n",
      "contract_library_359\n",
      "contract_library_360\n",
      "contract_library_361\n",
      "contract_library_362\n",
      "contract_library_363\n",
      "contract_library_364\n",
      "contract_library_365\n",
      "contract_library_366\n",
      "contract_library_367\n",
      "contract_library_368\n",
      "contract_library_369\n",
      "contract_library_370\n",
      "contract_library_371\n",
      "contract_library_372\n",
      "contract_library_373\n",
      "contract_library_374\n",
      "contract_library_375\n",
      "contract_library_376\n",
      "contract_library_377\n",
      "contract_library_378\n",
      "contract_library_379\n",
      "contract_library_380\n",
      "contract_library_381\n",
      "contract_library_382\n",
      "contract_library_383\n",
      "contract_library_384\n",
      "contract_library_385\n",
      "contract_library_386\n",
      "contract_library_387\n",
      "contract_library_388\n",
      "contract_library_389\n",
      "contract_library_390\n",
      "contract_library_391\n",
      "contract_library_392\n",
      "contract_library_393\n",
      "contract_library_394\n",
      "contract_library_395\n",
      "contract_library_396\n",
      "contract_library_397\n",
      "contract_library_398\n",
      "contract_library_399\n",
      "contract_library_400\n",
      "contract_library_401\n",
      "contract_library_402\n",
      "contract_library_403\n",
      "contract_library_404\n",
      "contract_library_405\n",
      "contract_library_406\n",
      "contract_library_407\n",
      "contract_library_408\n",
      "contract_library_409\n",
      "contract_library_410\n",
      "contract_library_411\n",
      "contract_library_412\n",
      "contract_library_413\n",
      "contract_library_414\n",
      "contract_library_415\n",
      "contract_library_416\n",
      "contract_library_417\n",
      "contract_library_418\n",
      "contract_library_419\n",
      "contract_library_420\n",
      "contract_library_421\n",
      "contract_library_422\n",
      "contract_library_423\n",
      "contract_library_424\n",
      "contract_library_425\n",
      "contract_library_426\n",
      "contract_library_427\n",
      "contract_library_428\n",
      "contract_library_429\n",
      "contract_library_430\n",
      "contract_library_431\n",
      "contract_library_432\n",
      "contract_library_433\n",
      "contract_library_434\n",
      "contract_library_435\n",
      "contract_library_436\n",
      "contract_library_437\n",
      "contract_library_438\n",
      "contract_library_439\n",
      "contract_library_440\n",
      "contract_library_441\n",
      "contract_library_442\n",
      "contract_library_443\n",
      "contract_library_444\n",
      "contract_library_445\n",
      "contract_library_446\n",
      "contract_library_447\n",
      "contract_library_448\n",
      "contract_library_449\n",
      "contract_library_450\n",
      "contract_library_451\n",
      "contract_library_452\n",
      "contract_library_453\n",
      "contract_library_454\n",
      "contract_library_455\n",
      "contract_library_456\n",
      "contract_library_457\n",
      "contract_library_458\n",
      "contract_library_459\n",
      "contract_library_460\n",
      "contract_library_461\n",
      "contract_library_462\n",
      "contract_library_463\n",
      "contract_library_464\n",
      "contract_library_465\n",
      "contract_library_466\n",
      "contract_library_467\n",
      "contract_library_468\n",
      "contract_library_469\n",
      "contract_library_470\n",
      "contract_library_471\n",
      "contract_library_472\n",
      "contract_library_473\n",
      "contract_library_474\n",
      "contract_library_475\n",
      "contract_library_476\n",
      "contract_library_477\n",
      "contract_library_478\n",
      "contract_library_479\n",
      "contract_library_480\n",
      "contract_library_481\n",
      "contract_library_482\n",
      "contract_library_483\n",
      "contract_library_484\n",
      "contract_library_485\n",
      "contract_library_486\n",
      "contract_library_487\n",
      "contract_library_488\n",
      "contract_library_489\n",
      "contract_library_490\n",
      "contract_library_491\n",
      "contract_library_492\n",
      "contract_library_493\n",
      "contract_library_494\n",
      "contract_library_495\n",
      "contract_library_496\n",
      "contract_library_497\n",
      "contract_library_498\n",
      "contract_library_499\n",
      "contract_library_500\n",
      "contract_library_501\n",
      "contract_library_502\n",
      "contract_library_503\n",
      "contract_library_504\n",
      "contract_library_505\n",
      "contract_library_506\n",
      "contract_library_507\n",
      "contract_library_508\n",
      "contract_library_509\n",
      "contract_library_510\n",
      "contract_library_511\n",
      "contract_library_512\n",
      "contract_library_513\n",
      "contract_library_514\n",
      "contract_library_515\n",
      "contract_library_516\n",
      "contract_library_517\n",
      "contract_library_518\n",
      "contract_library_519\n",
      "contract_library_520\n",
      "contract_library_521\n",
      "contract_library_522\n",
      "contract_library_523\n",
      "contract_library_524\n",
      "contract_library_525\n",
      "contract_library_526\n",
      "contract_library_527\n",
      "contract_library_528\n",
      "contract_library_529\n",
      "contract_library_530\n",
      "contract_library_531\n",
      "contract_library_532\n",
      "contract_library_533\n",
      "contract_library_534\n",
      "contract_library_535\n",
      "contract_library_536\n",
      "contract_library_537\n",
      "contract_library_538\n",
      "contract_library_539\n",
      "contract_library_540\n",
      "contract_library_541\n",
      "contract_library_542\n",
      "contract_library_543\n",
      "contract_library_544\n",
      "contract_library_545\n",
      "contract_library_546\n",
      "contract_library_547\n",
      "contract_library_548\n",
      "contract_library_549\n",
      "contract_library_550\n",
      "contract_library_551\n",
      "contract_library_552\n",
      "contract_library_553\n",
      "contract_library_554\n",
      "contract_library_555\n",
      "contract_library_556\n",
      "contract_library_557\n",
      "contract_library_558\n",
      "contract_library_559\n",
      "contract_library_560\n",
      "contract_library_561\n",
      "contract_library_562\n",
      "contract_library_563\n",
      "contract_library_564\n",
      "contract_library_565\n",
      "contract_library_566\n",
      "contract_library_567\n",
      "contract_library_568\n",
      "contract_library_569\n",
      "contract_library_570\n",
      "contract_library_571\n",
      "contract_library_572\n",
      "contract_library_573\n",
      "contract_library_574\n",
      "contract_library_575\n",
      "contract_library_576\n",
      "contract_library_577\n",
      "contract_library_578\n",
      "contract_library_579\n",
      "contract_library_580\n",
      "contract_library_581\n",
      "contract_library_582\n",
      "contract_library_583\n",
      "contract_library_584\n",
      "contract_library_585\n",
      "contract_library_586\n",
      "contract_library_587\n",
      "contract_library_588\n",
      "contract_library_589\n",
      "contract_library_590\n",
      "contract_library_591\n",
      "contract_library_592\n",
      "contract_library_593\n",
      "contract_library_594\n",
      "contract_library_595\n",
      "contract_library_596\n",
      "contract_library_597\n",
      "contract_library_598\n",
      "contract_library_599\n",
      "contract_library_600\n",
      "contract_library_601\n",
      "contract_library_602\n",
      "contract_library_603\n",
      "contract_library_604\n",
      "contract_library_605\n",
      "contract_library_606\n",
      "contract_library_607\n",
      "contract_library_608\n",
      "contract_library_609\n",
      "contract_library_610\n",
      "contract_library_611\n",
      "contract_library_612\n",
      "contract_library_613\n",
      "contract_library_614\n",
      "contract_library_615\n",
      "contract_library_616\n",
      "contract_library_617\n",
      "contract_library_618\n",
      "contract_library_619\n",
      "contract_library_620\n",
      "contract_library_621\n",
      "contract_library_622\n",
      "contract_library_623\n",
      "contract_library_624\n",
      "contract_library_625\n",
      "contract_library_626\n",
      "contract_library_627\n",
      "contract_library_628\n",
      "contract_library_629\n",
      "contract_library_630\n",
      "contract_library_631\n",
      "contract_library_632\n",
      "contract_library_633\n",
      "contract_library_634\n",
      "contract_library_635\n",
      "contract_library_636\n",
      "contract_library_637\n",
      "contract_library_638\n",
      "contract_library_639\n",
      "contract_library_640\n",
      "contract_library_641\n",
      "contract_library_642\n",
      "contract_library_643\n",
      "contract_library_644\n",
      "contract_library_645\n",
      "contract_library_646\n",
      "contract_library_647\n",
      "contract_library_648\n",
      "contract_library_649\n",
      "contract_library_650\n",
      "contract_library_651\n",
      "contract_library_652\n",
      "contract_library_653\n",
      "contract_library_654\n",
      "contract_library_655\n",
      "contract_library_656\n",
      "contract_library_657\n",
      "contract_library_658\n",
      "contract_library_659\n",
      "contract_library_660\n",
      "contract_library_661\n",
      "contract_library_662\n",
      "contract_library_663\n",
      "contract_library_664\n",
      "contract_library_665\n",
      "contract_library_666\n",
      "contract_library_667\n",
      "contract_library_668\n",
      "contract_library_669\n",
      "contract_library_670\n",
      "contract_library_671\n",
      "contract_library_672\n",
      "contract_library_673\n",
      "contract_library_674\n",
      "contract_library_675\n",
      "contract_library_676\n",
      "contract_library_677\n",
      "contract_library_678\n",
      "contract_library_679\n",
      "contract_library_680\n",
      "contract_library_681\n",
      "contract_library_682\n",
      "contract_library_683\n",
      "contract_library_684\n",
      "contract_library_685\n",
      "contract_library_686\n",
      "contract_library_687\n",
      "contract_library_688\n",
      "contract_library_689\n",
      "contract_library_690\n",
      "contract_library_691\n",
      "contract_library_692\n",
      "contract_library_693\n",
      "contract_library_694\n",
      "contract_library_695\n",
      "contract_library_696\n",
      "contract_library_697\n",
      "contract_library_698\n",
      "contract_library_699\n",
      "contract_library_700\n",
      "contract_library_701\n",
      "contract_library_702\n",
      "contract_library_703\n",
      "contract_library_704\n",
      "contract_library_705\n",
      "contract_library_706\n",
      "contract_library_707\n",
      "contract_library_708\n",
      "contract_library_709\n",
      "contract_library_710\n",
      "contract_library_711\n",
      "contract_library_712\n",
      "contract_library_713\n",
      "contract_library_714\n",
      "contract_library_715\n",
      "contract_library_716\n",
      "contract_library_717\n",
      "contract_library_718\n",
      "contract_library_719\n",
      "contract_library_720\n",
      "contract_library_721\n",
      "contract_library_722\n",
      "contract_library_723\n",
      "contract_library_724\n",
      "contract_library_725\n",
      "contract_library_726\n",
      "contract_library_727\n",
      "contract_library_728\n",
      "contract_library_729\n",
      "contract_library_730\n",
      "contract_library_731\n",
      "contract_library_732\n",
      "contract_library_733\n",
      "contract_library_734\n",
      "contract_library_735\n",
      "contract_library_736\n",
      "contract_library_737\n",
      "contract_library_738\n",
      "contract_library_739\n",
      "contract_library_740\n",
      "contract_library_741\n",
      "contract_library_742\n",
      "contract_library_743\n",
      "contract_library_744\n",
      "contract_library_745\n",
      "contract_library_746\n",
      "contract_library_747\n",
      "contract_library_748\n"
     ]
    }
   ],
   "source": [
    "library_columns = []\n",
    "for column in df_filtered.columns:\n",
    "    if column.startswith(\"contract_library_\"):\n",
    "        library_columns.append(column)\n",
    "        print(column)"
   ]
  },
  {
   "cell_type": "code",
   "execution_count": 91,
   "metadata": {},
   "outputs": [],
   "source": [
    "df_filtered = df_filtered.drop(library_columns, axis=1)"
   ]
  },
  {
   "cell_type": "code",
   "execution_count": 92,
   "metadata": {},
   "outputs": [
    {
     "name": "stdout",
     "output_type": "stream",
     "text": [
      "The dataset has 158863 rows and 448 columns\n"
     ]
    }
   ],
   "source": [
    "print_dimensions(df_filtered)"
   ]
  },
  {
   "cell_type": "markdown",
   "metadata": {},
   "source": [
    "### Filter out the internal transaction aggregated features\n",
    "\n",
    "They have too many missing values."
   ]
  },
  {
   "cell_type": "code",
   "execution_count": 93,
   "metadata": {},
   "outputs": [],
   "source": [
    "df_filtered = df_filtered.drop([\n",
    "    \"internal_transaction_block_ratio\",\n",
    "    \"internal_transaction_count_per_block_mean\",\n",
    "    \"internal_transaction_count_per_block_std\",\n",
    "    \"internal_transaction_creation_ratio\",\n",
    "    \"internal_transaction_from_other_ratio\",\n",
    "    \"internal_transaction_gas_mean\",\n",
    "    \"internal_transaction_gas_std\",\n",
    "    \"internal_transaction_gas_used_mean\",\n",
    "    \"internal_transaction_gas_used_std\",\n",
    "    \"internal_transaction_other_receiver_ratio\",\n",
    "    \"internal_transaction_other_sender_ratio\",\n",
    "    \"internal_transaction_to_other_ratio\",\n",
    "    \"internal_transaction_value_mean\",\n",
    "    \"internal_transaction_value_std\",\n",
    "], axis=1)"
   ]
  },
  {
   "cell_type": "code",
   "execution_count": 94,
   "metadata": {},
   "outputs": [
    {
     "name": "stdout",
     "output_type": "stream",
     "text": [
      "The dataset has 158863 rows and 434 columns\n"
     ]
    }
   ],
   "source": [
    "print_dimensions(df_filtered)"
   ]
  },
  {
   "cell_type": "markdown",
   "metadata": {},
   "source": [
    "## Saving"
   ]
  },
  {
   "cell_type": "code",
   "execution_count": 95,
   "metadata": {},
   "outputs": [],
   "source": [
    "df_filtered.to_csv(\"dataset-filtered.csv\", index=False)"
   ]
  }
 ],
 "metadata": {
  "kernelspec": {
   "display_name": "Python 3",
   "language": "python",
   "name": "python3"
  },
  "language_info": {
   "codemirror_mode": {
    "name": "ipython",
    "version": 3
   },
   "file_extension": ".py",
   "mimetype": "text/x-python",
   "name": "python",
   "nbconvert_exporter": "python",
   "pygments_lexer": "ipython3",
   "version": "3.6.8"
  }
 },
 "nbformat": 4,
 "nbformat_minor": 2
}
