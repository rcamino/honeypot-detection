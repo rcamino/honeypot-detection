{
 "cells": [
  {
   "cell_type": "markdown",
   "metadata": {},
   "source": [
    "# Most Relevant Features"
   ]
  },
  {
   "cell_type": "markdown",
   "metadata": {},
   "source": [
    "## Modules and functions"
   ]
  },
  {
   "cell_type": "markdown",
   "metadata": {},
   "source": [
    "Import all the modules:"
   ]
  },
  {
   "cell_type": "code",
   "execution_count": 1,
   "metadata": {},
   "outputs": [],
   "source": [
    "import pandas as pd\n",
    "\n",
    "from notebooks import *"
   ]
  },
  {
   "cell_type": "markdown",
   "metadata": {},
   "source": [
    "Define some functions that will be used afterwards **(you should skip this part for now)**:"
   ]
  },
  {
   "cell_type": "code",
   "execution_count": 2,
   "metadata": {},
   "outputs": [],
   "source": [
    "def distribution_table(target, column):\n",
    "    \"\"\"\n",
    "    Creates a dataframe with the distribution of a column separated by honeypot and non-honeypots.\n",
    "    \n",
    "    Arguments:\n",
    "    target -- the pandas dataframe to calculate the distribution\n",
    "    column -- the column name to calculate the distribution\n",
    "    \"\"\"\n",
    "    desc_positive = target[target.contract_is_honeypot][column].describe().apply(\"{:.2f}\".format)\n",
    "    desc_negative = target[~target.contract_is_honeypot][column].describe().apply(\"{:.2f}\".format)\n",
    "    return pd.DataFrame({\"Yes\": desc_positive, \"No\": desc_negative})"
   ]
  },
  {
   "cell_type": "markdown",
   "metadata": {},
   "source": [
    "## Loading"
   ]
  },
  {
   "cell_type": "code",
   "execution_count": 3,
   "metadata": {},
   "outputs": [],
   "source": [
    "honey_badger_labels = load_dictionary(\"honey_badger_labels.pickle\")\n",
    "fund_flow_cases = load_dictionary(\"fund_flow_cases.pickle\")"
   ]
  },
  {
   "cell_type": "code",
   "execution_count": 4,
   "metadata": {},
   "outputs": [],
   "source": [
    "df_file_path = \"dataset-filtered.csv\"\n",
    "df = pd.read_csv(df_file_path, low_memory=False)"
   ]
  },
  {
   "cell_type": "code",
   "execution_count": 5,
   "metadata": {},
   "outputs": [
    {
     "name": "stdout",
     "output_type": "stream",
     "text": [
      "The dataset has 158863 rows and 434 columns\n"
     ]
    }
   ],
   "source": [
    "print_dimensions(df)"
   ]
  },
  {
   "cell_type": "markdown",
   "metadata": {},
   "source": [
    "## Number of source code lines\n",
    "\n",
    "The number of source code lines seems to have a lower upper bound for honeypots:"
   ]
  },
  {
   "cell_type": "code",
   "execution_count": 6,
   "metadata": {},
   "outputs": [
    {
     "data": {
      "text/html": [
       "<div>\n",
       "<style scoped>\n",
       "    .dataframe tbody tr th:only-of-type {\n",
       "        vertical-align: middle;\n",
       "    }\n",
       "\n",
       "    .dataframe tbody tr th {\n",
       "        vertical-align: top;\n",
       "    }\n",
       "\n",
       "    .dataframe thead th {\n",
       "        text-align: right;\n",
       "    }\n",
       "</style>\n",
       "<table border=\"1\" class=\"dataframe\">\n",
       "  <thead>\n",
       "    <tr style=\"text-align: right;\">\n",
       "      <th></th>\n",
       "      <th>Yes</th>\n",
       "      <th>No</th>\n",
       "    </tr>\n",
       "  </thead>\n",
       "  <tbody>\n",
       "    <tr>\n",
       "      <th>count</th>\n",
       "      <td>295.00</td>\n",
       "      <td>158568.00</td>\n",
       "    </tr>\n",
       "    <tr>\n",
       "      <th>mean</th>\n",
       "      <td>57.00</td>\n",
       "      <td>279.70</td>\n",
       "    </tr>\n",
       "    <tr>\n",
       "      <th>std</th>\n",
       "      <td>22.80</td>\n",
       "      <td>278.42</td>\n",
       "    </tr>\n",
       "    <tr>\n",
       "      <th>min</th>\n",
       "      <td>19.00</td>\n",
       "      <td>1.00</td>\n",
       "    </tr>\n",
       "    <tr>\n",
       "      <th>25%</th>\n",
       "      <td>41.00</td>\n",
       "      <td>109.00</td>\n",
       "    </tr>\n",
       "    <tr>\n",
       "      <th>50%</th>\n",
       "      <td>54.00</td>\n",
       "      <td>177.00</td>\n",
       "    </tr>\n",
       "    <tr>\n",
       "      <th>75%</th>\n",
       "      <td>67.00</td>\n",
       "      <td>386.00</td>\n",
       "    </tr>\n",
       "    <tr>\n",
       "      <th>max</th>\n",
       "      <td>185.00</td>\n",
       "      <td>11409.00</td>\n",
       "    </tr>\n",
       "  </tbody>\n",
       "</table>\n",
       "</div>"
      ],
      "text/plain": [
       "          Yes         No\n",
       "count  295.00  158568.00\n",
       "mean    57.00     279.70\n",
       "std     22.80     278.42\n",
       "min     19.00       1.00\n",
       "25%     41.00     109.00\n",
       "50%     54.00     177.00\n",
       "75%     67.00     386.00\n",
       "max    185.00   11409.00"
      ]
     },
     "execution_count": 6,
     "metadata": {},
     "output_type": "execute_result"
    }
   ],
   "source": [
    "distribution_table(df, \"contract_num_source_code_lines\")"
   ]
  },
  {
   "cell_type": "markdown",
   "metadata": {},
   "source": [
    "Cross handcrafted rule with binary label:"
   ]
  },
  {
   "cell_type": "code",
   "execution_count": 7,
   "metadata": {},
   "outputs": [
    {
     "data": {
      "text/html": [
       "<div>\n",
       "<style scoped>\n",
       "    .dataframe tbody tr th:only-of-type {\n",
       "        vertical-align: middle;\n",
       "    }\n",
       "\n",
       "    .dataframe tbody tr th {\n",
       "        vertical-align: top;\n",
       "    }\n",
       "\n",
       "    .dataframe thead th {\n",
       "        text-align: right;\n",
       "    }\n",
       "</style>\n",
       "<table border=\"1\" class=\"dataframe\">\n",
       "  <thead>\n",
       "    <tr style=\"text-align: right;\">\n",
       "      <th>contract_is_honeypot</th>\n",
       "      <th>False</th>\n",
       "      <th>True</th>\n",
       "    </tr>\n",
       "    <tr>\n",
       "      <th>15 &lt; contract_num_source_code_lines &lt; 200</th>\n",
       "      <th></th>\n",
       "      <th></th>\n",
       "    </tr>\n",
       "  </thead>\n",
       "  <tbody>\n",
       "    <tr>\n",
       "      <th>False</th>\n",
       "      <td>77641</td>\n",
       "      <td>0</td>\n",
       "    </tr>\n",
       "    <tr>\n",
       "      <th>True</th>\n",
       "      <td>80927</td>\n",
       "      <td>295</td>\n",
       "    </tr>\n",
       "  </tbody>\n",
       "</table>\n",
       "</div>"
      ],
      "text/plain": [
       "contract_is_honeypot                       False  True \n",
       "15 < contract_num_source_code_lines < 200              \n",
       "False                                      77641      0\n",
       "True                                       80927    295"
      ]
     },
     "execution_count": 7,
     "metadata": {},
     "output_type": "execute_result"
    }
   ],
   "source": [
    "pd.crosstab((15 < df.contract_num_source_code_lines) & (df.contract_num_source_code_lines < 200),\n",
    "            df.contract_is_honeypot,\n",
    "            rownames=[\"15 < contract_num_source_code_lines < 200\"])"
   ]
  },
  {
   "cell_type": "markdown",
   "metadata": {},
   "source": [
    "Extreme cases:"
   ]
  },
  {
   "cell_type": "code",
   "execution_count": 8,
   "metadata": {},
   "outputs": [
    {
     "data": {
      "text/html": [
       "<div>\n",
       "<style scoped>\n",
       "    .dataframe tbody tr th:only-of-type {\n",
       "        vertical-align: middle;\n",
       "    }\n",
       "\n",
       "    .dataframe tbody tr th {\n",
       "        vertical-align: top;\n",
       "    }\n",
       "\n",
       "    .dataframe thead th {\n",
       "        text-align: right;\n",
       "    }\n",
       "</style>\n",
       "<table border=\"1\" class=\"dataframe\">\n",
       "  <thead>\n",
       "    <tr style=\"text-align: right;\">\n",
       "      <th></th>\n",
       "      <th>contract_address</th>\n",
       "      <th>contract_num_source_code_lines</th>\n",
       "    </tr>\n",
       "  </thead>\n",
       "  <tbody>\n",
       "    <tr>\n",
       "      <th>74269</th>\n",
       "      <td>0xcc6a0dd80ff3fa8c1b37011765ee19efc480f825</td>\n",
       "      <td>11409</td>\n",
       "    </tr>\n",
       "    <tr>\n",
       "      <th>85474</th>\n",
       "      <td>0x5f2539a5dc504493ba9ae1207803c08634cbb091</td>\n",
       "      <td>11409</td>\n",
       "    </tr>\n",
       "  </tbody>\n",
       "</table>\n",
       "</div>"
      ],
      "text/plain": [
       "                                 contract_address  \\\n",
       "74269  0xcc6a0dd80ff3fa8c1b37011765ee19efc480f825   \n",
       "85474  0x5f2539a5dc504493ba9ae1207803c08634cbb091   \n",
       "\n",
       "       contract_num_source_code_lines  \n",
       "74269                           11409  \n",
       "85474                           11409  "
      ]
     },
     "execution_count": 8,
     "metadata": {},
     "output_type": "execute_result"
    }
   ],
   "source": [
    "df.loc[\n",
    "    df.contract_num_source_code_lines > 10000,\n",
    "    [\"contract_address\", \"contract_num_source_code_lines\"]\n",
    "].sort_values(\"contract_num_source_code_lines\", ascending=False)"
   ]
  },
  {
   "cell_type": "markdown",
   "metadata": {},
   "source": [
    "## Number of normal transactions"
   ]
  },
  {
   "cell_type": "markdown",
   "metadata": {},
   "source": [
    "Distribution:"
   ]
  },
  {
   "cell_type": "code",
   "execution_count": 9,
   "metadata": {},
   "outputs": [
    {
     "data": {
      "text/html": [
       "<div>\n",
       "<style scoped>\n",
       "    .dataframe tbody tr th:only-of-type {\n",
       "        vertical-align: middle;\n",
       "    }\n",
       "\n",
       "    .dataframe tbody tr th {\n",
       "        vertical-align: top;\n",
       "    }\n",
       "\n",
       "    .dataframe thead th {\n",
       "        text-align: right;\n",
       "    }\n",
       "</style>\n",
       "<table border=\"1\" class=\"dataframe\">\n",
       "  <thead>\n",
       "    <tr style=\"text-align: right;\">\n",
       "      <th></th>\n",
       "      <th>Yes</th>\n",
       "      <th>No</th>\n",
       "    </tr>\n",
       "  </thead>\n",
       "  <tbody>\n",
       "    <tr>\n",
       "      <th>count</th>\n",
       "      <td>295.00</td>\n",
       "      <td>158568.00</td>\n",
       "    </tr>\n",
       "    <tr>\n",
       "      <th>mean</th>\n",
       "      <td>5.13</td>\n",
       "      <td>680.61</td>\n",
       "    </tr>\n",
       "    <tr>\n",
       "      <th>std</th>\n",
       "      <td>4.26</td>\n",
       "      <td>33198.52</td>\n",
       "    </tr>\n",
       "    <tr>\n",
       "      <th>min</th>\n",
       "      <td>1.00</td>\n",
       "      <td>1.00</td>\n",
       "    </tr>\n",
       "    <tr>\n",
       "      <th>25%</th>\n",
       "      <td>3.00</td>\n",
       "      <td>1.00</td>\n",
       "    </tr>\n",
       "    <tr>\n",
       "      <th>50%</th>\n",
       "      <td>4.00</td>\n",
       "      <td>2.00</td>\n",
       "    </tr>\n",
       "    <tr>\n",
       "      <th>75%</th>\n",
       "      <td>6.00</td>\n",
       "      <td>4.00</td>\n",
       "    </tr>\n",
       "    <tr>\n",
       "      <th>max</th>\n",
       "      <td>32.00</td>\n",
       "      <td>10412943.00</td>\n",
       "    </tr>\n",
       "  </tbody>\n",
       "</table>\n",
       "</div>"
      ],
      "text/plain": [
       "          Yes           No\n",
       "count  295.00    158568.00\n",
       "mean     5.13       680.61\n",
       "std      4.26     33198.52\n",
       "min      1.00         1.00\n",
       "25%      3.00         1.00\n",
       "50%      4.00         2.00\n",
       "75%      6.00         4.00\n",
       "max     32.00  10412943.00"
      ]
     },
     "execution_count": 9,
     "metadata": {},
     "output_type": "execute_result"
    }
   ],
   "source": [
    "distribution_table(df, \"normal_transaction_count\")"
   ]
  },
  {
   "cell_type": "markdown",
   "metadata": {},
   "source": [
    "Cross handcrafted rule with binary label:"
   ]
  },
  {
   "cell_type": "code",
   "execution_count": 10,
   "metadata": {},
   "outputs": [
    {
     "data": {
      "text/html": [
       "<div>\n",
       "<style scoped>\n",
       "    .dataframe tbody tr th:only-of-type {\n",
       "        vertical-align: middle;\n",
       "    }\n",
       "\n",
       "    .dataframe tbody tr th {\n",
       "        vertical-align: top;\n",
       "    }\n",
       "\n",
       "    .dataframe thead th {\n",
       "        text-align: right;\n",
       "    }\n",
       "</style>\n",
       "<table border=\"1\" class=\"dataframe\">\n",
       "  <thead>\n",
       "    <tr style=\"text-align: right;\">\n",
       "      <th>contract_is_honeypot</th>\n",
       "      <th>False</th>\n",
       "      <th>True</th>\n",
       "    </tr>\n",
       "    <tr>\n",
       "      <th>normal_transaction_count &lt; 40</th>\n",
       "      <th></th>\n",
       "      <th></th>\n",
       "    </tr>\n",
       "  </thead>\n",
       "  <tbody>\n",
       "    <tr>\n",
       "      <th>False</th>\n",
       "      <td>13562</td>\n",
       "      <td>0</td>\n",
       "    </tr>\n",
       "    <tr>\n",
       "      <th>True</th>\n",
       "      <td>145006</td>\n",
       "      <td>295</td>\n",
       "    </tr>\n",
       "  </tbody>\n",
       "</table>\n",
       "</div>"
      ],
      "text/plain": [
       "contract_is_honeypot            False  True \n",
       "normal_transaction_count < 40               \n",
       "False                           13562      0\n",
       "True                           145006    295"
      ]
     },
     "execution_count": 10,
     "metadata": {},
     "output_type": "execute_result"
    }
   ],
   "source": [
    "pd.crosstab(df.normal_transaction_count < 40,\n",
    "            df.contract_is_honeypot,\n",
    "            rownames=[\"normal_transaction_count < 40\"])"
   ]
  },
  {
   "cell_type": "markdown",
   "metadata": {},
   "source": [
    "Extreme cases:"
   ]
  },
  {
   "cell_type": "code",
   "execution_count": 11,
   "metadata": {},
   "outputs": [
    {
     "data": {
      "text/html": [
       "<div>\n",
       "<style scoped>\n",
       "    .dataframe tbody tr th:only-of-type {\n",
       "        vertical-align: middle;\n",
       "    }\n",
       "\n",
       "    .dataframe tbody tr th {\n",
       "        vertical-align: top;\n",
       "    }\n",
       "\n",
       "    .dataframe thead th {\n",
       "        text-align: right;\n",
       "    }\n",
       "</style>\n",
       "<table border=\"1\" class=\"dataframe\">\n",
       "  <thead>\n",
       "    <tr style=\"text-align: right;\">\n",
       "      <th></th>\n",
       "      <th>contract_address</th>\n",
       "      <th>normal_transaction_count</th>\n",
       "    </tr>\n",
       "  </thead>\n",
       "  <tbody>\n",
       "    <tr>\n",
       "      <th>158856</th>\n",
       "      <td>0x8d12a197cb00d4747a1fe03395095ce2a5cc6819</td>\n",
       "      <td>10412943</td>\n",
       "    </tr>\n",
       "    <tr>\n",
       "      <th>158858</th>\n",
       "      <td>0x2a0c0dbecc7e4d658f48e01e3fa353f44050c208</td>\n",
       "      <td>4787242</td>\n",
       "    </tr>\n",
       "    <tr>\n",
       "      <th>158857</th>\n",
       "      <td>0x86fa049857e0209aa7d9e616f7eb3b3b78ecfdb0</td>\n",
       "      <td>2953516</td>\n",
       "    </tr>\n",
       "    <tr>\n",
       "      <th>158850</th>\n",
       "      <td>0x06012c8cf97bead5deae237070f9587f8e7a266d</td>\n",
       "      <td>2677549</td>\n",
       "    </tr>\n",
       "    <tr>\n",
       "      <th>158862</th>\n",
       "      <td>0xf230b790e05390fc8295f4d3f60332c93bed42e2</td>\n",
       "      <td>1974150</td>\n",
       "    </tr>\n",
       "    <tr>\n",
       "      <th>158854</th>\n",
       "      <td>0xe94b04a0fed112f3664e45adb2b8915693dd5ff3</td>\n",
       "      <td>1536870</td>\n",
       "    </tr>\n",
       "    <tr>\n",
       "      <th>158861</th>\n",
       "      <td>0xa3c1e324ca1ce40db73ed6026c4a177f099b5770</td>\n",
       "      <td>1501351</td>\n",
       "    </tr>\n",
       "    <tr>\n",
       "      <th>90216</th>\n",
       "      <td>0x03df4c372a29376d2c8df33a1b5f001cd8d68b0e</td>\n",
       "      <td>1451766</td>\n",
       "    </tr>\n",
       "    <tr>\n",
       "      <th>158852</th>\n",
       "      <td>0xd26114cd6ee289accf82350c8d8487fedb8a0c07</td>\n",
       "      <td>1363506</td>\n",
       "    </tr>\n",
       "    <tr>\n",
       "      <th>158851</th>\n",
       "      <td>0x6090a6e47849629b7245dfa1ca21d94cd15878ef</td>\n",
       "      <td>1234585</td>\n",
       "    </tr>\n",
       "  </tbody>\n",
       "</table>\n",
       "</div>"
      ],
      "text/plain": [
       "                                  contract_address  normal_transaction_count\n",
       "158856  0x8d12a197cb00d4747a1fe03395095ce2a5cc6819                  10412943\n",
       "158858  0x2a0c0dbecc7e4d658f48e01e3fa353f44050c208                   4787242\n",
       "158857  0x86fa049857e0209aa7d9e616f7eb3b3b78ecfdb0                   2953516\n",
       "158850  0x06012c8cf97bead5deae237070f9587f8e7a266d                   2677549\n",
       "158862  0xf230b790e05390fc8295f4d3f60332c93bed42e2                   1974150\n",
       "158854  0xe94b04a0fed112f3664e45adb2b8915693dd5ff3                   1536870\n",
       "158861  0xa3c1e324ca1ce40db73ed6026c4a177f099b5770                   1501351\n",
       "90216   0x03df4c372a29376d2c8df33a1b5f001cd8d68b0e                   1451766\n",
       "158852  0xd26114cd6ee289accf82350c8d8487fedb8a0c07                   1363506\n",
       "158851  0x6090a6e47849629b7245dfa1ca21d94cd15878ef                   1234585"
      ]
     },
     "execution_count": 11,
     "metadata": {},
     "output_type": "execute_result"
    }
   ],
   "source": [
    "df.loc[\n",
    "    df.normal_transaction_count > 1000000,\n",
    "    [\"contract_address\", \"normal_transaction_count\"]\n",
    "].sort_values(\"normal_transaction_count\", ascending=False)"
   ]
  },
  {
   "cell_type": "markdown",
   "metadata": {},
   "source": [
    "## Mean value of the normal transactions"
   ]
  },
  {
   "cell_type": "markdown",
   "metadata": {},
   "source": [
    "First transform unit into ether for readability:"
   ]
  },
  {
   "cell_type": "code",
   "execution_count": 12,
   "metadata": {},
   "outputs": [],
   "source": [
    "weis_1_ether = 1000000000000000000"
   ]
  },
  {
   "cell_type": "code",
   "execution_count": 13,
   "metadata": {},
   "outputs": [],
   "source": [
    "df[\"normal_transaction_value_mean_ether\"] = df.normal_transaction_value_mean / weis_1_ether"
   ]
  },
  {
   "cell_type": "markdown",
   "metadata": {},
   "source": [
    "Distribution:"
   ]
  },
  {
   "cell_type": "code",
   "execution_count": 14,
   "metadata": {},
   "outputs": [
    {
     "data": {
      "text/html": [
       "<div>\n",
       "<style scoped>\n",
       "    .dataframe tbody tr th:only-of-type {\n",
       "        vertical-align: middle;\n",
       "    }\n",
       "\n",
       "    .dataframe tbody tr th {\n",
       "        vertical-align: top;\n",
       "    }\n",
       "\n",
       "    .dataframe thead th {\n",
       "        text-align: right;\n",
       "    }\n",
       "</style>\n",
       "<table border=\"1\" class=\"dataframe\">\n",
       "  <thead>\n",
       "    <tr style=\"text-align: right;\">\n",
       "      <th></th>\n",
       "      <th>Yes</th>\n",
       "      <th>No</th>\n",
       "    </tr>\n",
       "  </thead>\n",
       "  <tbody>\n",
       "    <tr>\n",
       "      <th>count</th>\n",
       "      <td>295.00</td>\n",
       "      <td>158568.00</td>\n",
       "    </tr>\n",
       "    <tr>\n",
       "      <th>mean</th>\n",
       "      <td>0.27</td>\n",
       "      <td>5.46</td>\n",
       "    </tr>\n",
       "    <tr>\n",
       "      <th>std</th>\n",
       "      <td>0.22</td>\n",
       "      <td>570.30</td>\n",
       "    </tr>\n",
       "    <tr>\n",
       "      <th>min</th>\n",
       "      <td>0.00</td>\n",
       "      <td>0.00</td>\n",
       "    </tr>\n",
       "    <tr>\n",
       "      <th>25%</th>\n",
       "      <td>0.10</td>\n",
       "      <td>0.00</td>\n",
       "    </tr>\n",
       "    <tr>\n",
       "      <th>50%</th>\n",
       "      <td>0.25</td>\n",
       "      <td>0.00</td>\n",
       "    </tr>\n",
       "    <tr>\n",
       "      <th>75%</th>\n",
       "      <td>0.38</td>\n",
       "      <td>0.00</td>\n",
       "    </tr>\n",
       "    <tr>\n",
       "      <th>max</th>\n",
       "      <td>1.67</td>\n",
       "      <td>204365.82</td>\n",
       "    </tr>\n",
       "  </tbody>\n",
       "</table>\n",
       "</div>"
      ],
      "text/plain": [
       "          Yes         No\n",
       "count  295.00  158568.00\n",
       "mean     0.27       5.46\n",
       "std      0.22     570.30\n",
       "min      0.00       0.00\n",
       "25%      0.10       0.00\n",
       "50%      0.25       0.00\n",
       "75%      0.38       0.00\n",
       "max      1.67  204365.82"
      ]
     },
     "execution_count": 14,
     "metadata": {},
     "output_type": "execute_result"
    }
   ],
   "source": [
    "distribution_table(df, \"normal_transaction_value_mean_ether\")"
   ]
  },
  {
   "cell_type": "markdown",
   "metadata": {},
   "source": [
    "Cross handcrafted rule with binary label:"
   ]
  },
  {
   "cell_type": "code",
   "execution_count": 15,
   "metadata": {},
   "outputs": [
    {
     "data": {
      "text/html": [
       "<div>\n",
       "<style scoped>\n",
       "    .dataframe tbody tr th:only-of-type {\n",
       "        vertical-align: middle;\n",
       "    }\n",
       "\n",
       "    .dataframe tbody tr th {\n",
       "        vertical-align: top;\n",
       "    }\n",
       "\n",
       "    .dataframe thead th {\n",
       "        text-align: right;\n",
       "    }\n",
       "</style>\n",
       "<table border=\"1\" class=\"dataframe\">\n",
       "  <thead>\n",
       "    <tr style=\"text-align: right;\">\n",
       "      <th>contract_is_honeypot</th>\n",
       "      <th>False</th>\n",
       "      <th>True</th>\n",
       "    </tr>\n",
       "    <tr>\n",
       "      <th>normal_transaction_value_mean_ether &lt; 2</th>\n",
       "      <th></th>\n",
       "      <th></th>\n",
       "    </tr>\n",
       "  </thead>\n",
       "  <tbody>\n",
       "    <tr>\n",
       "      <th>False</th>\n",
       "      <td>3515</td>\n",
       "      <td>0</td>\n",
       "    </tr>\n",
       "    <tr>\n",
       "      <th>True</th>\n",
       "      <td>155053</td>\n",
       "      <td>295</td>\n",
       "    </tr>\n",
       "  </tbody>\n",
       "</table>\n",
       "</div>"
      ],
      "text/plain": [
       "contract_is_honeypot                      False  True \n",
       "normal_transaction_value_mean_ether < 2               \n",
       "False                                      3515      0\n",
       "True                                     155053    295"
      ]
     },
     "execution_count": 15,
     "metadata": {},
     "output_type": "execute_result"
    }
   ],
   "source": [
    "pd.crosstab(df.normal_transaction_value_mean_ether < 2,\n",
    "            df.contract_is_honeypot,\n",
    "            rownames=[\"normal_transaction_value_mean_ether < 2\"])"
   ]
  },
  {
   "cell_type": "markdown",
   "metadata": {},
   "source": [
    "Extreme cases:"
   ]
  },
  {
   "cell_type": "code",
   "execution_count": 16,
   "metadata": {},
   "outputs": [
    {
     "data": {
      "text/html": [
       "<div>\n",
       "<style scoped>\n",
       "    .dataframe tbody tr th:only-of-type {\n",
       "        vertical-align: middle;\n",
       "    }\n",
       "\n",
       "    .dataframe tbody tr th {\n",
       "        vertical-align: top;\n",
       "    }\n",
       "\n",
       "    .dataframe thead th {\n",
       "        text-align: right;\n",
       "    }\n",
       "</style>\n",
       "<table border=\"1\" class=\"dataframe\">\n",
       "  <thead>\n",
       "    <tr style=\"text-align: right;\">\n",
       "      <th></th>\n",
       "      <th>contract_address</th>\n",
       "      <th>normal_transaction_value_mean_ether</th>\n",
       "    </tr>\n",
       "  </thead>\n",
       "  <tbody>\n",
       "    <tr>\n",
       "      <th>6329</th>\n",
       "      <td>0x341e790174e3a4d35b65fdc067b6b5634a61caea</td>\n",
       "      <td>204365.823295</td>\n",
       "    </tr>\n",
       "    <tr>\n",
       "      <th>32979</th>\n",
       "      <td>0xcea2b9186ece677f9b8ff38dc8ff792e9a9e7f8a</td>\n",
       "      <td>54166.666668</td>\n",
       "    </tr>\n",
       "    <tr>\n",
       "      <th>6363</th>\n",
       "      <td>0x52965f9bd9d0f2bbea9b5a9c155a455d0e58fe25</td>\n",
       "      <td>34649.186554</td>\n",
       "    </tr>\n",
       "    <tr>\n",
       "      <th>13229</th>\n",
       "      <td>0x900d0881a2e85a8e4076412ad1cefbe2d39c566c</td>\n",
       "      <td>32142.860715</td>\n",
       "    </tr>\n",
       "    <tr>\n",
       "      <th>46920</th>\n",
       "      <td>0x69c6dcc8f83b196605fa1076897af0e7e2b6b044</td>\n",
       "      <td>27501.000001</td>\n",
       "    </tr>\n",
       "    <tr>\n",
       "      <th>3181</th>\n",
       "      <td>0x33d9b12b3b05927a1a00d5896017c5ff4967fca9</td>\n",
       "      <td>24305.550000</td>\n",
       "    </tr>\n",
       "    <tr>\n",
       "      <th>3180</th>\n",
       "      <td>0xc207b597e1c0b1dc6d2d8ccbfde0a47633d8c9b7</td>\n",
       "      <td>24074.066667</td>\n",
       "    </tr>\n",
       "  </tbody>\n",
       "</table>\n",
       "</div>"
      ],
      "text/plain": [
       "                                 contract_address  \\\n",
       "6329   0x341e790174e3a4d35b65fdc067b6b5634a61caea   \n",
       "32979  0xcea2b9186ece677f9b8ff38dc8ff792e9a9e7f8a   \n",
       "6363   0x52965f9bd9d0f2bbea9b5a9c155a455d0e58fe25   \n",
       "13229  0x900d0881a2e85a8e4076412ad1cefbe2d39c566c   \n",
       "46920  0x69c6dcc8f83b196605fa1076897af0e7e2b6b044   \n",
       "3181   0x33d9b12b3b05927a1a00d5896017c5ff4967fca9   \n",
       "3180   0xc207b597e1c0b1dc6d2d8ccbfde0a47633d8c9b7   \n",
       "\n",
       "       normal_transaction_value_mean_ether  \n",
       "6329                         204365.823295  \n",
       "32979                         54166.666668  \n",
       "6363                          34649.186554  \n",
       "13229                         32142.860715  \n",
       "46920                         27501.000001  \n",
       "3181                          24305.550000  \n",
       "3180                          24074.066667  "
      ]
     },
     "execution_count": 16,
     "metadata": {},
     "output_type": "execute_result"
    }
   ],
   "source": [
    "df.loc[\n",
    "    df.normal_transaction_value_mean_ether > 20000,\n",
    "    [\"contract_address\", \"normal_transaction_value_mean_ether\"]\n",
    "].sort_values(\"normal_transaction_value_mean_ether\", ascending=False)"
   ]
  },
  {
   "cell_type": "markdown",
   "metadata": {},
   "source": [
    "## Contracts with deposits from others"
   ]
  },
  {
   "cell_type": "code",
   "execution_count": 17,
   "metadata": {},
   "outputs": [],
   "source": [
    "deposit_other_frequency = fund_flow_case_columns_accumulated_frequency(fund_flow_cases,\n",
    "                                                                       df,\n",
    "                                                                       sender=\"other\",\n",
    "                                                                       error=False,\n",
    "                                                                       balance_sender=\"negative\",\n",
    "                                                                       balance_contract=\"positive\")"
   ]
  },
  {
   "cell_type": "code",
   "execution_count": 18,
   "metadata": {
    "scrolled": true
   },
   "outputs": [
    {
     "data": {
      "text/html": [
       "<div>\n",
       "<style scoped>\n",
       "    .dataframe tbody tr th:only-of-type {\n",
       "        vertical-align: middle;\n",
       "    }\n",
       "\n",
       "    .dataframe tbody tr th {\n",
       "        vertical-align: top;\n",
       "    }\n",
       "\n",
       "    .dataframe thead th {\n",
       "        text-align: right;\n",
       "    }\n",
       "</style>\n",
       "<table border=\"1\" class=\"dataframe\">\n",
       "  <thead>\n",
       "    <tr style=\"text-align: right;\">\n",
       "      <th>deposit_other_frequency &gt; 0</th>\n",
       "      <th>False</th>\n",
       "      <th>True</th>\n",
       "    </tr>\n",
       "    <tr>\n",
       "      <th>contract_is_honeypot</th>\n",
       "      <th></th>\n",
       "      <th></th>\n",
       "    </tr>\n",
       "  </thead>\n",
       "  <tbody>\n",
       "    <tr>\n",
       "      <th>False</th>\n",
       "      <td>145816</td>\n",
       "      <td>12752</td>\n",
       "    </tr>\n",
       "    <tr>\n",
       "      <th>True</th>\n",
       "      <td>192</td>\n",
       "      <td>103</td>\n",
       "    </tr>\n",
       "  </tbody>\n",
       "</table>\n",
       "</div>"
      ],
      "text/plain": [
       "deposit_other_frequency > 0   False  True \n",
       "contract_is_honeypot                      \n",
       "False                        145816  12752\n",
       "True                            192    103"
      ]
     },
     "execution_count": 18,
     "metadata": {},
     "output_type": "execute_result"
    }
   ],
   "source": [
    "pd.crosstab(df.contract_is_honeypot,\n",
    "            deposit_other_frequency > 0,\n",
    "            colnames=[\"deposit_other_frequency > 0\"])"
   ]
  },
  {
   "cell_type": "markdown",
   "metadata": {},
   "source": [
    "## Contracts with withdraws from others"
   ]
  },
  {
   "cell_type": "code",
   "execution_count": 19,
   "metadata": {},
   "outputs": [],
   "source": [
    "withdraw_other_frequency = fund_flow_case_columns_accumulated_frequency(fund_flow_cases,\n",
    "                                                                        df,\n",
    "                                                                        sender=\"other\",\n",
    "                                                                        error=False,\n",
    "                                                                        balance_sender=\"positive\",\n",
    "                                                                        balance_contract=\"negative\")"
   ]
  },
  {
   "cell_type": "code",
   "execution_count": 20,
   "metadata": {
    "scrolled": true
   },
   "outputs": [
    {
     "data": {
      "text/html": [
       "<div>\n",
       "<style scoped>\n",
       "    .dataframe tbody tr th:only-of-type {\n",
       "        vertical-align: middle;\n",
       "    }\n",
       "\n",
       "    .dataframe tbody tr th {\n",
       "        vertical-align: top;\n",
       "    }\n",
       "\n",
       "    .dataframe thead th {\n",
       "        text-align: right;\n",
       "    }\n",
       "</style>\n",
       "<table border=\"1\" class=\"dataframe\">\n",
       "  <thead>\n",
       "    <tr style=\"text-align: right;\">\n",
       "      <th>withdraw_other_frequency &gt; 0</th>\n",
       "      <th>False</th>\n",
       "      <th>True</th>\n",
       "    </tr>\n",
       "    <tr>\n",
       "      <th>contract_is_honeypot</th>\n",
       "      <th></th>\n",
       "      <th></th>\n",
       "    </tr>\n",
       "  </thead>\n",
       "  <tbody>\n",
       "    <tr>\n",
       "      <th>False</th>\n",
       "      <td>155439</td>\n",
       "      <td>3129</td>\n",
       "    </tr>\n",
       "    <tr>\n",
       "      <th>True</th>\n",
       "      <td>245</td>\n",
       "      <td>50</td>\n",
       "    </tr>\n",
       "  </tbody>\n",
       "</table>\n",
       "</div>"
      ],
      "text/plain": [
       "withdraw_other_frequency > 0   False  True \n",
       "contract_is_honeypot                       \n",
       "False                         155439   3129\n",
       "True                             245     50"
      ]
     },
     "execution_count": 20,
     "metadata": {},
     "output_type": "execute_result"
    }
   ],
   "source": [
    "pd.crosstab(df.contract_is_honeypot,\n",
    "            withdraw_other_frequency > 0,\n",
    "            colnames=[\"withdraw_other_frequency > 0\"])"
   ]
  },
  {
   "cell_type": "markdown",
   "metadata": {},
   "source": [
    "## Contracts with deposits from the creator"
   ]
  },
  {
   "cell_type": "code",
   "execution_count": 21,
   "metadata": {},
   "outputs": [],
   "source": [
    "deposit_creator_frequency = fund_flow_case_columns_accumulated_frequency(fund_flow_cases,\n",
    "                                                                         df,\n",
    "                                                                         sender=\"creator\",\n",
    "                                                                         error=False,\n",
    "                                                                         balance_creator=\"negative\",\n",
    "                                                                         balance_contract=\"positive\")"
   ]
  },
  {
   "cell_type": "code",
   "execution_count": 22,
   "metadata": {},
   "outputs": [
    {
     "data": {
      "text/html": [
       "<div>\n",
       "<style scoped>\n",
       "    .dataframe tbody tr th:only-of-type {\n",
       "        vertical-align: middle;\n",
       "    }\n",
       "\n",
       "    .dataframe tbody tr th {\n",
       "        vertical-align: top;\n",
       "    }\n",
       "\n",
       "    .dataframe thead th {\n",
       "        text-align: right;\n",
       "    }\n",
       "</style>\n",
       "<table border=\"1\" class=\"dataframe\">\n",
       "  <thead>\n",
       "    <tr style=\"text-align: right;\">\n",
       "      <th>deposit_creator_frequency &gt; 0</th>\n",
       "      <th>False</th>\n",
       "      <th>True</th>\n",
       "    </tr>\n",
       "    <tr>\n",
       "      <th>contract_is_honeypot</th>\n",
       "      <th></th>\n",
       "      <th></th>\n",
       "    </tr>\n",
       "  </thead>\n",
       "  <tbody>\n",
       "    <tr>\n",
       "      <th>False</th>\n",
       "      <td>150212</td>\n",
       "      <td>8356</td>\n",
       "    </tr>\n",
       "    <tr>\n",
       "      <th>True</th>\n",
       "      <td>29</td>\n",
       "      <td>266</td>\n",
       "    </tr>\n",
       "  </tbody>\n",
       "</table>\n",
       "</div>"
      ],
      "text/plain": [
       "deposit_creator_frequency > 0   False  True \n",
       "contract_is_honeypot                        \n",
       "False                          150212   8356\n",
       "True                               29    266"
      ]
     },
     "execution_count": 22,
     "metadata": {},
     "output_type": "execute_result"
    }
   ],
   "source": [
    "pd.crosstab(df.contract_is_honeypot,\n",
    "            deposit_creator_frequency > 0,\n",
    "            colnames=[\"deposit_creator_frequency > 0\"])"
   ]
  },
  {
   "cell_type": "markdown",
   "metadata": {},
   "source": [
    "## Contracts with withdraws from the creator"
   ]
  },
  {
   "cell_type": "code",
   "execution_count": 23,
   "metadata": {},
   "outputs": [],
   "source": [
    "withdraw_creator_frequency = fund_flow_case_columns_accumulated_frequency(fund_flow_cases,\n",
    "                                                                          df,\n",
    "                                                                          sender=\"creator\",\n",
    "                                                                          error=False,\n",
    "                                                                          balance_creator=\"positive\",\n",
    "                                                                          balance_contract=\"negative\")"
   ]
  },
  {
   "cell_type": "code",
   "execution_count": 24,
   "metadata": {},
   "outputs": [
    {
     "data": {
      "text/html": [
       "<div>\n",
       "<style scoped>\n",
       "    .dataframe tbody tr th:only-of-type {\n",
       "        vertical-align: middle;\n",
       "    }\n",
       "\n",
       "    .dataframe tbody tr th {\n",
       "        vertical-align: top;\n",
       "    }\n",
       "\n",
       "    .dataframe thead th {\n",
       "        text-align: right;\n",
       "    }\n",
       "</style>\n",
       "<table border=\"1\" class=\"dataframe\">\n",
       "  <thead>\n",
       "    <tr style=\"text-align: right;\">\n",
       "      <th>withdraw_creator_frequency &gt; 0</th>\n",
       "      <th>False</th>\n",
       "      <th>True</th>\n",
       "    </tr>\n",
       "    <tr>\n",
       "      <th>contract_is_honeypot</th>\n",
       "      <th></th>\n",
       "      <th></th>\n",
       "    </tr>\n",
       "  </thead>\n",
       "  <tbody>\n",
       "    <tr>\n",
       "      <th>False</th>\n",
       "      <td>152601</td>\n",
       "      <td>5967</td>\n",
       "    </tr>\n",
       "    <tr>\n",
       "      <th>True</th>\n",
       "      <td>187</td>\n",
       "      <td>108</td>\n",
       "    </tr>\n",
       "  </tbody>\n",
       "</table>\n",
       "</div>"
      ],
      "text/plain": [
       "withdraw_creator_frequency > 0   False  True \n",
       "contract_is_honeypot                         \n",
       "False                           152601   5967\n",
       "True                               187    108"
      ]
     },
     "execution_count": 24,
     "metadata": {},
     "output_type": "execute_result"
    }
   ],
   "source": [
    "pd.crosstab(df.contract_is_honeypot,\n",
    "            withdraw_creator_frequency > 0,\n",
    "            colnames=[\"withdraw_creator_frequency > 0\"])"
   ]
  }
 ],
 "metadata": {
  "kernelspec": {
   "display_name": "Python 3",
   "language": "python",
   "name": "python3"
  },
  "language_info": {
   "codemirror_mode": {
    "name": "ipython",
    "version": 3
   },
   "file_extension": ".py",
   "mimetype": "text/x-python",
   "name": "python",
   "nbconvert_exporter": "python",
   "pygments_lexer": "ipython3",
   "version": "3.6.8"
  }
 },
 "nbformat": 4,
 "nbformat_minor": 2
}
